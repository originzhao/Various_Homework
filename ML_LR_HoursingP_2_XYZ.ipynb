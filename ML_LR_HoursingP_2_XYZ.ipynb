{
 "cells": [
  {
   "cell_type": "code",
   "execution_count": 1,
   "id": "04ec7c09",
   "metadata": {},
   "outputs": [],
   "source": [
    "'''\n",
    "attempt to predict housing price\n",
    "light feature engineering\n",
    "one_hot encoding\n",
    "standardize feature\n",
    "\n",
    "try different moodels for regression\n",
    "'''\n",
    "\n",
    "import pandas as pd\n",
    "import numpy as np\n",
    "import matplotlib.pylab as plt\n",
    "import seaborn as sns\n",
    "from sklearn.cluster import DBSCAN\n",
    "\n",
    "from category_encoders import TargetEncoder\n",
    "\n",
    "from sklearn.preprocessing import StandardScaler\n",
    "\n",
    "pd.set_option('display.max_columns', 200)"
   ]
  },
  {
   "cell_type": "code",
   "execution_count": 2,
   "id": "94b1844f",
   "metadata": {},
   "outputs": [],
   "source": [
    "df = pd.read_csv('C:\\\\Users\\\\xzhao\\\\Data\\\\houseprice.csv')"
   ]
  },
  {
   "cell_type": "code",
   "execution_count": 3,
   "id": "c80d73a6",
   "metadata": {
    "scrolled": true
   },
   "outputs": [
    {
     "data": {
      "text/html": [
       "<div>\n",
       "<style scoped>\n",
       "    .dataframe tbody tr th:only-of-type {\n",
       "        vertical-align: middle;\n",
       "    }\n",
       "\n",
       "    .dataframe tbody tr th {\n",
       "        vertical-align: top;\n",
       "    }\n",
       "\n",
       "    .dataframe thead th {\n",
       "        text-align: right;\n",
       "    }\n",
       "</style>\n",
       "<table border=\"1\" class=\"dataframe\">\n",
       "  <thead>\n",
       "    <tr style=\"text-align: right;\">\n",
       "      <th></th>\n",
       "      <th>date</th>\n",
       "      <th>price</th>\n",
       "      <th>bedrooms</th>\n",
       "      <th>bathrooms</th>\n",
       "      <th>sqft_living</th>\n",
       "      <th>sqft_lot</th>\n",
       "      <th>floors</th>\n",
       "      <th>waterfront</th>\n",
       "      <th>view</th>\n",
       "      <th>condition</th>\n",
       "      <th>sqft_above</th>\n",
       "      <th>sqft_basement</th>\n",
       "      <th>yr_built</th>\n",
       "      <th>yr_renovated</th>\n",
       "      <th>street</th>\n",
       "      <th>city</th>\n",
       "      <th>statezip</th>\n",
       "      <th>country</th>\n",
       "    </tr>\n",
       "  </thead>\n",
       "  <tbody>\n",
       "    <tr>\n",
       "      <th>0</th>\n",
       "      <td>2014-05-02 00:00:00</td>\n",
       "      <td>313000.0</td>\n",
       "      <td>3.0</td>\n",
       "      <td>1.50</td>\n",
       "      <td>1340</td>\n",
       "      <td>7912</td>\n",
       "      <td>1.5</td>\n",
       "      <td>0</td>\n",
       "      <td>0</td>\n",
       "      <td>3</td>\n",
       "      <td>1340</td>\n",
       "      <td>0</td>\n",
       "      <td>1955</td>\n",
       "      <td>2005</td>\n",
       "      <td>18810 Densmore Ave N</td>\n",
       "      <td>Shoreline</td>\n",
       "      <td>WA 98133</td>\n",
       "      <td>USA</td>\n",
       "    </tr>\n",
       "    <tr>\n",
       "      <th>1</th>\n",
       "      <td>2014-05-02 00:00:00</td>\n",
       "      <td>2384000.0</td>\n",
       "      <td>5.0</td>\n",
       "      <td>2.50</td>\n",
       "      <td>3650</td>\n",
       "      <td>9050</td>\n",
       "      <td>2.0</td>\n",
       "      <td>0</td>\n",
       "      <td>4</td>\n",
       "      <td>5</td>\n",
       "      <td>3370</td>\n",
       "      <td>280</td>\n",
       "      <td>1921</td>\n",
       "      <td>0</td>\n",
       "      <td>709 W Blaine St</td>\n",
       "      <td>Seattle</td>\n",
       "      <td>WA 98119</td>\n",
       "      <td>USA</td>\n",
       "    </tr>\n",
       "    <tr>\n",
       "      <th>2</th>\n",
       "      <td>2014-05-02 00:00:00</td>\n",
       "      <td>342000.0</td>\n",
       "      <td>3.0</td>\n",
       "      <td>2.00</td>\n",
       "      <td>1930</td>\n",
       "      <td>11947</td>\n",
       "      <td>1.0</td>\n",
       "      <td>0</td>\n",
       "      <td>0</td>\n",
       "      <td>4</td>\n",
       "      <td>1930</td>\n",
       "      <td>0</td>\n",
       "      <td>1966</td>\n",
       "      <td>0</td>\n",
       "      <td>26206-26214 143rd Ave SE</td>\n",
       "      <td>Kent</td>\n",
       "      <td>WA 98042</td>\n",
       "      <td>USA</td>\n",
       "    </tr>\n",
       "    <tr>\n",
       "      <th>3</th>\n",
       "      <td>2014-05-02 00:00:00</td>\n",
       "      <td>420000.0</td>\n",
       "      <td>3.0</td>\n",
       "      <td>2.25</td>\n",
       "      <td>2000</td>\n",
       "      <td>8030</td>\n",
       "      <td>1.0</td>\n",
       "      <td>0</td>\n",
       "      <td>0</td>\n",
       "      <td>4</td>\n",
       "      <td>1000</td>\n",
       "      <td>1000</td>\n",
       "      <td>1963</td>\n",
       "      <td>0</td>\n",
       "      <td>857 170th Pl NE</td>\n",
       "      <td>Bellevue</td>\n",
       "      <td>WA 98008</td>\n",
       "      <td>USA</td>\n",
       "    </tr>\n",
       "    <tr>\n",
       "      <th>4</th>\n",
       "      <td>2014-05-02 00:00:00</td>\n",
       "      <td>550000.0</td>\n",
       "      <td>4.0</td>\n",
       "      <td>2.50</td>\n",
       "      <td>1940</td>\n",
       "      <td>10500</td>\n",
       "      <td>1.0</td>\n",
       "      <td>0</td>\n",
       "      <td>0</td>\n",
       "      <td>4</td>\n",
       "      <td>1140</td>\n",
       "      <td>800</td>\n",
       "      <td>1976</td>\n",
       "      <td>1992</td>\n",
       "      <td>9105 170th Ave NE</td>\n",
       "      <td>Redmond</td>\n",
       "      <td>WA 98052</td>\n",
       "      <td>USA</td>\n",
       "    </tr>\n",
       "  </tbody>\n",
       "</table>\n",
       "</div>"
      ],
      "text/plain": [
       "                  date      price  bedrooms  bathrooms  sqft_living  sqft_lot  \\\n",
       "0  2014-05-02 00:00:00   313000.0       3.0       1.50         1340      7912   \n",
       "1  2014-05-02 00:00:00  2384000.0       5.0       2.50         3650      9050   \n",
       "2  2014-05-02 00:00:00   342000.0       3.0       2.00         1930     11947   \n",
       "3  2014-05-02 00:00:00   420000.0       3.0       2.25         2000      8030   \n",
       "4  2014-05-02 00:00:00   550000.0       4.0       2.50         1940     10500   \n",
       "\n",
       "   floors  waterfront  view  condition  sqft_above  sqft_basement  yr_built  \\\n",
       "0     1.5           0     0          3        1340              0      1955   \n",
       "1     2.0           0     4          5        3370            280      1921   \n",
       "2     1.0           0     0          4        1930              0      1966   \n",
       "3     1.0           0     0          4        1000           1000      1963   \n",
       "4     1.0           0     0          4        1140            800      1976   \n",
       "\n",
       "   yr_renovated                    street       city  statezip country  \n",
       "0          2005      18810 Densmore Ave N  Shoreline  WA 98133     USA  \n",
       "1             0           709 W Blaine St    Seattle  WA 98119     USA  \n",
       "2             0  26206-26214 143rd Ave SE       Kent  WA 98042     USA  \n",
       "3             0           857 170th Pl NE   Bellevue  WA 98008     USA  \n",
       "4          1992         9105 170th Ave NE    Redmond  WA 98052     USA  "
      ]
     },
     "execution_count": 3,
     "metadata": {},
     "output_type": "execute_result"
    }
   ],
   "source": [
    "df.head()"
   ]
  },
  {
   "cell_type": "code",
   "execution_count": 4,
   "id": "601a31e9",
   "metadata": {},
   "outputs": [],
   "source": [
    "mdf = pd.DataFrame()"
   ]
  },
  {
   "cell_type": "code",
   "execution_count": 5,
   "id": "6fae08a1",
   "metadata": {},
   "outputs": [],
   "source": [
    "# this changes the type of price, making it unfit for model\n",
    "# df['price'] = df['price'].apply(lambda x: \"{:,.2f}\".format(x))"
   ]
  },
  {
   "cell_type": "code",
   "execution_count": 6,
   "id": "e1c81b3f",
   "metadata": {},
   "outputs": [],
   "source": [
    "df = df[df['price'] != 0]"
   ]
  },
  {
   "cell_type": "code",
   "execution_count": 7,
   "id": "bb357fb5",
   "metadata": {},
   "outputs": [],
   "source": [
    "# df = df[df['price']< 1000000]"
   ]
  },
  {
   "cell_type": "code",
   "execution_count": 8,
   "id": "1e43c132",
   "metadata": {},
   "outputs": [],
   "source": [
    "# ## Anommaly detection to find weired price\n",
    "# ## concerned about using it without domain knowledge, too much assumption made inexplicitly\n",
    "\n",
    "# from sklearn.ensemble import IsolationForest\n",
    "# import numpy as np\n",
    "\n",
    "# weiredprice = df['price'].values.reshape(-1,1)\n",
    "\n",
    "# clf = IsolationForest(random_state=0)\n",
    "# clf.fit(weiredprice)\n",
    "\n",
    "# y_hat = pd.DataFrame(clf.predict(weiredprice))\n",
    "\n",
    "# df[y_hat[0]==-1]"
   ]
  },
  {
   "cell_type": "code",
   "execution_count": 9,
   "id": "be01d924",
   "metadata": {},
   "outputs": [],
   "source": [
    "def understand(feature,bool_param):\n",
    "    \n",
    "#     print(df[feature].unique())\n",
    "#     print('empty records:', df[df[feature].isna()])\n",
    "#     print('data description:', df[feature].describe())\n",
    "\n",
    "    if bool_param:\n",
    "        mdf[feature] = df[feature]"
   ]
  },
  {
   "cell_type": "code",
   "execution_count": 10,
   "id": "0a05a36b",
   "metadata": {
    "scrolled": false
   },
   "outputs": [],
   "source": [
    "feature = 'price'\n",
    "understand(feature,True)"
   ]
  },
  {
   "cell_type": "markdown",
   "id": "7dcef928",
   "metadata": {},
   "source": [
    "# hand pick and corret targets"
   ]
  },
  {
   "cell_type": "code",
   "execution_count": 11,
   "id": "195f97a5",
   "metadata": {
    "scrolled": true
   },
   "outputs": [
    {
     "data": {
      "text/html": [
       "<div>\n",
       "<style scoped>\n",
       "    .dataframe tbody tr th:only-of-type {\n",
       "        vertical-align: middle;\n",
       "    }\n",
       "\n",
       "    .dataframe tbody tr th {\n",
       "        vertical-align: top;\n",
       "    }\n",
       "\n",
       "    .dataframe thead th {\n",
       "        text-align: right;\n",
       "    }\n",
       "</style>\n",
       "<table border=\"1\" class=\"dataframe\">\n",
       "  <thead>\n",
       "    <tr style=\"text-align: right;\">\n",
       "      <th></th>\n",
       "      <th>price</th>\n",
       "      <th>bedrooms</th>\n",
       "      <th>bathrooms</th>\n",
       "      <th>sqft_living</th>\n",
       "      <th>sqft_lot</th>\n",
       "    </tr>\n",
       "  </thead>\n",
       "  <tbody>\n",
       "    <tr>\n",
       "      <th>2286</th>\n",
       "      <td>7062500.0</td>\n",
       "      <td>5.0</td>\n",
       "      <td>4.50</td>\n",
       "      <td>10040</td>\n",
       "      <td>37325</td>\n",
       "    </tr>\n",
       "    <tr>\n",
       "      <th>2654</th>\n",
       "      <td>4668000.0</td>\n",
       "      <td>5.0</td>\n",
       "      <td>6.75</td>\n",
       "      <td>9640</td>\n",
       "      <td>13068</td>\n",
       "    </tr>\n",
       "    <tr>\n",
       "      <th>2761</th>\n",
       "      <td>4489000.0</td>\n",
       "      <td>4.0</td>\n",
       "      <td>3.00</td>\n",
       "      <td>6430</td>\n",
       "      <td>27517</td>\n",
       "    </tr>\n",
       "    <tr>\n",
       "      <th>4346</th>\n",
       "      <td>12899000.0</td>\n",
       "      <td>3.0</td>\n",
       "      <td>2.50</td>\n",
       "      <td>2190</td>\n",
       "      <td>11394</td>\n",
       "    </tr>\n",
       "    <tr>\n",
       "      <th>4350</th>\n",
       "      <td>26590000.0</td>\n",
       "      <td>3.0</td>\n",
       "      <td>2.00</td>\n",
       "      <td>1180</td>\n",
       "      <td>7793</td>\n",
       "    </tr>\n",
       "  </tbody>\n",
       "</table>\n",
       "</div>"
      ],
      "text/plain": [
       "           price  bedrooms  bathrooms  sqft_living  sqft_lot\n",
       "2286   7062500.0       5.0       4.50        10040     37325\n",
       "2654   4668000.0       5.0       6.75         9640     13068\n",
       "2761   4489000.0       4.0       3.00         6430     27517\n",
       "4346  12899000.0       3.0       2.50         2190     11394\n",
       "4350  26590000.0       3.0       2.00         1180      7793"
      ]
     },
     "execution_count": 11,
     "metadata": {},
     "output_type": "execute_result"
    }
   ],
   "source": [
    "df[['price','bedrooms','bathrooms','sqft_living','sqft_lot']][mdf[\"price\"]>4000000]"
   ]
  },
  {
   "cell_type": "code",
   "execution_count": 12,
   "id": "066669eb",
   "metadata": {
    "scrolled": true
   },
   "outputs": [
    {
     "data": {
      "text/html": [
       "<div>\n",
       "<style scoped>\n",
       "    .dataframe tbody tr th:only-of-type {\n",
       "        vertical-align: middle;\n",
       "    }\n",
       "\n",
       "    .dataframe tbody tr th {\n",
       "        vertical-align: top;\n",
       "    }\n",
       "\n",
       "    .dataframe thead th {\n",
       "        text-align: right;\n",
       "    }\n",
       "</style>\n",
       "<table border=\"1\" class=\"dataframe\">\n",
       "  <thead>\n",
       "    <tr style=\"text-align: right;\">\n",
       "      <th></th>\n",
       "      <th>date</th>\n",
       "      <th>price</th>\n",
       "      <th>bedrooms</th>\n",
       "      <th>bathrooms</th>\n",
       "      <th>sqft_living</th>\n",
       "      <th>sqft_lot</th>\n",
       "      <th>floors</th>\n",
       "      <th>waterfront</th>\n",
       "      <th>view</th>\n",
       "      <th>condition</th>\n",
       "      <th>sqft_above</th>\n",
       "      <th>sqft_basement</th>\n",
       "      <th>yr_built</th>\n",
       "      <th>yr_renovated</th>\n",
       "      <th>street</th>\n",
       "      <th>city</th>\n",
       "      <th>statezip</th>\n",
       "      <th>country</th>\n",
       "    </tr>\n",
       "  </thead>\n",
       "  <tbody>\n",
       "    <tr>\n",
       "      <th>2</th>\n",
       "      <td>2014-05-02 00:00:00</td>\n",
       "      <td>342000.000000</td>\n",
       "      <td>3.0</td>\n",
       "      <td>2.0</td>\n",
       "      <td>1930</td>\n",
       "      <td>11947</td>\n",
       "      <td>1.0</td>\n",
       "      <td>0</td>\n",
       "      <td>0</td>\n",
       "      <td>4</td>\n",
       "      <td>1930</td>\n",
       "      <td>0</td>\n",
       "      <td>1966</td>\n",
       "      <td>0</td>\n",
       "      <td>26206-26214 143rd Ave SE</td>\n",
       "      <td>Kent</td>\n",
       "      <td>WA 98042</td>\n",
       "      <td>USA</td>\n",
       "    </tr>\n",
       "    <tr>\n",
       "      <th>38</th>\n",
       "      <td>2014-05-02 00:00:00</td>\n",
       "      <td>403000.000000</td>\n",
       "      <td>3.0</td>\n",
       "      <td>2.0</td>\n",
       "      <td>1960</td>\n",
       "      <td>13100</td>\n",
       "      <td>1.0</td>\n",
       "      <td>0</td>\n",
       "      <td>2</td>\n",
       "      <td>5</td>\n",
       "      <td>1650</td>\n",
       "      <td>310</td>\n",
       "      <td>1957</td>\n",
       "      <td>0</td>\n",
       "      <td>17825 4th Ave SW</td>\n",
       "      <td>Normandy Park</td>\n",
       "      <td>WA 98166</td>\n",
       "      <td>USA</td>\n",
       "    </tr>\n",
       "    <tr>\n",
       "      <th>52</th>\n",
       "      <td>2014-05-02 00:00:00</td>\n",
       "      <td>805000.000000</td>\n",
       "      <td>3.0</td>\n",
       "      <td>2.0</td>\n",
       "      <td>2710</td>\n",
       "      <td>4500</td>\n",
       "      <td>1.5</td>\n",
       "      <td>0</td>\n",
       "      <td>0</td>\n",
       "      <td>4</td>\n",
       "      <td>1880</td>\n",
       "      <td>830</td>\n",
       "      <td>1929</td>\n",
       "      <td>0</td>\n",
       "      <td>6222 30th Ave NE</td>\n",
       "      <td>Seattle</td>\n",
       "      <td>WA 98115</td>\n",
       "      <td>USA</td>\n",
       "    </tr>\n",
       "    <tr>\n",
       "      <th>93</th>\n",
       "      <td>2014-05-05 00:00:00</td>\n",
       "      <td>770000.000000</td>\n",
       "      <td>3.0</td>\n",
       "      <td>2.0</td>\n",
       "      <td>2350</td>\n",
       "      <td>5700</td>\n",
       "      <td>1.5</td>\n",
       "      <td>0</td>\n",
       "      <td>0</td>\n",
       "      <td>4</td>\n",
       "      <td>1810</td>\n",
       "      <td>540</td>\n",
       "      <td>1939</td>\n",
       "      <td>1989</td>\n",
       "      <td>2171 Boyer Ave E</td>\n",
       "      <td>Seattle</td>\n",
       "      <td>WA 98112</td>\n",
       "      <td>USA</td>\n",
       "    </tr>\n",
       "    <tr>\n",
       "      <th>112</th>\n",
       "      <td>2014-05-05 00:00:00</td>\n",
       "      <td>300000.000000</td>\n",
       "      <td>3.0</td>\n",
       "      <td>2.0</td>\n",
       "      <td>1050</td>\n",
       "      <td>10072</td>\n",
       "      <td>1.0</td>\n",
       "      <td>0</td>\n",
       "      <td>0</td>\n",
       "      <td>3</td>\n",
       "      <td>1050</td>\n",
       "      <td>0</td>\n",
       "      <td>1986</td>\n",
       "      <td>0</td>\n",
       "      <td>27106 NE Miller St</td>\n",
       "      <td>Duvall</td>\n",
       "      <td>WA 98019</td>\n",
       "      <td>USA</td>\n",
       "    </tr>\n",
       "    <tr>\n",
       "      <th>...</th>\n",
       "      <td>...</td>\n",
       "      <td>...</td>\n",
       "      <td>...</td>\n",
       "      <td>...</td>\n",
       "      <td>...</td>\n",
       "      <td>...</td>\n",
       "      <td>...</td>\n",
       "      <td>...</td>\n",
       "      <td>...</td>\n",
       "      <td>...</td>\n",
       "      <td>...</td>\n",
       "      <td>...</td>\n",
       "      <td>...</td>\n",
       "      <td>...</td>\n",
       "      <td>...</td>\n",
       "      <td>...</td>\n",
       "      <td>...</td>\n",
       "      <td>...</td>\n",
       "    </tr>\n",
       "    <tr>\n",
       "      <th>4427</th>\n",
       "      <td>2014-05-28 00:00:00</td>\n",
       "      <td>450385.714286</td>\n",
       "      <td>3.0</td>\n",
       "      <td>2.0</td>\n",
       "      <td>1300</td>\n",
       "      <td>3731</td>\n",
       "      <td>1.0</td>\n",
       "      <td>0</td>\n",
       "      <td>0</td>\n",
       "      <td>3</td>\n",
       "      <td>900</td>\n",
       "      <td>400</td>\n",
       "      <td>1993</td>\n",
       "      <td>0</td>\n",
       "      <td>7250 Rainier Ave S</td>\n",
       "      <td>Seattle</td>\n",
       "      <td>WA 98118</td>\n",
       "      <td>USA</td>\n",
       "    </tr>\n",
       "    <tr>\n",
       "      <th>4439</th>\n",
       "      <td>2014-05-30 00:00:00</td>\n",
       "      <td>237481.250000</td>\n",
       "      <td>3.0</td>\n",
       "      <td>2.0</td>\n",
       "      <td>2120</td>\n",
       "      <td>7560</td>\n",
       "      <td>1.0</td>\n",
       "      <td>0</td>\n",
       "      <td>0</td>\n",
       "      <td>3</td>\n",
       "      <td>2120</td>\n",
       "      <td>0</td>\n",
       "      <td>1991</td>\n",
       "      <td>0</td>\n",
       "      <td>18600 135th Pl SE</td>\n",
       "      <td>Renton</td>\n",
       "      <td>WA 98058</td>\n",
       "      <td>USA</td>\n",
       "    </tr>\n",
       "    <tr>\n",
       "      <th>4461</th>\n",
       "      <td>2014-06-05 00:00:00</td>\n",
       "      <td>420642.857143</td>\n",
       "      <td>3.0</td>\n",
       "      <td>2.0</td>\n",
       "      <td>1330</td>\n",
       "      <td>8100</td>\n",
       "      <td>1.0</td>\n",
       "      <td>0</td>\n",
       "      <td>0</td>\n",
       "      <td>4</td>\n",
       "      <td>1330</td>\n",
       "      <td>0</td>\n",
       "      <td>1969</td>\n",
       "      <td>0</td>\n",
       "      <td>13817 125th Ave NE</td>\n",
       "      <td>Kirkland</td>\n",
       "      <td>WA 98034</td>\n",
       "      <td>USA</td>\n",
       "    </tr>\n",
       "    <tr>\n",
       "      <th>4493</th>\n",
       "      <td>2014-06-13 00:00:00</td>\n",
       "      <td>300000.000000</td>\n",
       "      <td>3.0</td>\n",
       "      <td>2.0</td>\n",
       "      <td>2020</td>\n",
       "      <td>8555</td>\n",
       "      <td>1.0</td>\n",
       "      <td>0</td>\n",
       "      <td>0</td>\n",
       "      <td>4</td>\n",
       "      <td>1220</td>\n",
       "      <td>800</td>\n",
       "      <td>1957</td>\n",
       "      <td>2001</td>\n",
       "      <td>13545 39th Ave NE</td>\n",
       "      <td>Seattle</td>\n",
       "      <td>WA 98125</td>\n",
       "      <td>USA</td>\n",
       "    </tr>\n",
       "    <tr>\n",
       "      <th>4501</th>\n",
       "      <td>2014-06-17 00:00:00</td>\n",
       "      <td>233166.666667</td>\n",
       "      <td>3.0</td>\n",
       "      <td>2.0</td>\n",
       "      <td>1570</td>\n",
       "      <td>7000</td>\n",
       "      <td>2.0</td>\n",
       "      <td>0</td>\n",
       "      <td>2</td>\n",
       "      <td>4</td>\n",
       "      <td>1050</td>\n",
       "      <td>520</td>\n",
       "      <td>1971</td>\n",
       "      <td>0</td>\n",
       "      <td>429 Randolph Ave</td>\n",
       "      <td>Seattle</td>\n",
       "      <td>WA 98122</td>\n",
       "      <td>USA</td>\n",
       "    </tr>\n",
       "  </tbody>\n",
       "</table>\n",
       "<p>236 rows × 18 columns</p>\n",
       "</div>"
      ],
      "text/plain": [
       "                     date          price  bedrooms  bathrooms  sqft_living  \\\n",
       "2     2014-05-02 00:00:00  342000.000000       3.0        2.0         1930   \n",
       "38    2014-05-02 00:00:00  403000.000000       3.0        2.0         1960   \n",
       "52    2014-05-02 00:00:00  805000.000000       3.0        2.0         2710   \n",
       "93    2014-05-05 00:00:00  770000.000000       3.0        2.0         2350   \n",
       "112   2014-05-05 00:00:00  300000.000000       3.0        2.0         1050   \n",
       "...                   ...            ...       ...        ...          ...   \n",
       "4427  2014-05-28 00:00:00  450385.714286       3.0        2.0         1300   \n",
       "4439  2014-05-30 00:00:00  237481.250000       3.0        2.0         2120   \n",
       "4461  2014-06-05 00:00:00  420642.857143       3.0        2.0         1330   \n",
       "4493  2014-06-13 00:00:00  300000.000000       3.0        2.0         2020   \n",
       "4501  2014-06-17 00:00:00  233166.666667       3.0        2.0         1570   \n",
       "\n",
       "      sqft_lot  floors  waterfront  view  condition  sqft_above  \\\n",
       "2        11947     1.0           0     0          4        1930   \n",
       "38       13100     1.0           0     2          5        1650   \n",
       "52        4500     1.5           0     0          4        1880   \n",
       "93        5700     1.5           0     0          4        1810   \n",
       "112      10072     1.0           0     0          3        1050   \n",
       "...        ...     ...         ...   ...        ...         ...   \n",
       "4427      3731     1.0           0     0          3         900   \n",
       "4439      7560     1.0           0     0          3        2120   \n",
       "4461      8100     1.0           0     0          4        1330   \n",
       "4493      8555     1.0           0     0          4        1220   \n",
       "4501      7000     2.0           0     2          4        1050   \n",
       "\n",
       "      sqft_basement  yr_built  yr_renovated                    street  \\\n",
       "2                 0      1966             0  26206-26214 143rd Ave SE   \n",
       "38              310      1957             0          17825 4th Ave SW   \n",
       "52              830      1929             0          6222 30th Ave NE   \n",
       "93              540      1939          1989          2171 Boyer Ave E   \n",
       "112               0      1986             0        27106 NE Miller St   \n",
       "...             ...       ...           ...                       ...   \n",
       "4427            400      1993             0        7250 Rainier Ave S   \n",
       "4439              0      1991             0         18600 135th Pl SE   \n",
       "4461              0      1969             0        13817 125th Ave NE   \n",
       "4493            800      1957          2001         13545 39th Ave NE   \n",
       "4501            520      1971             0          429 Randolph Ave   \n",
       "\n",
       "               city  statezip country  \n",
       "2              Kent  WA 98042     USA  \n",
       "38    Normandy Park  WA 98166     USA  \n",
       "52          Seattle  WA 98115     USA  \n",
       "93          Seattle  WA 98112     USA  \n",
       "112          Duvall  WA 98019     USA  \n",
       "...             ...       ...     ...  \n",
       "4427        Seattle  WA 98118     USA  \n",
       "4439         Renton  WA 98058     USA  \n",
       "4461       Kirkland  WA 98034     USA  \n",
       "4493        Seattle  WA 98125     USA  \n",
       "4501        Seattle  WA 98122     USA  \n",
       "\n",
       "[236 rows x 18 columns]"
      ]
     },
     "execution_count": 12,
     "metadata": {},
     "output_type": "execute_result"
    }
   ],
   "source": [
    "df[(df['bedrooms']==3) & (df['bathrooms']==2) & (df['sqft_living']>500) & (df['sqft_lot']>100)]"
   ]
  },
  {
   "cell_type": "code",
   "execution_count": 13,
   "id": "61ba7f2d",
   "metadata": {
    "scrolled": false
   },
   "outputs": [],
   "source": [
    "mdf[\"price\"].iloc[4350] = 265900\n",
    "mdf[\"price\"].iloc[4346] = 1289900\n",
    "mdf[\"price\"].iloc[2286] = 706250"
   ]
  },
  {
   "cell_type": "code",
   "execution_count": 14,
   "id": "812beb13",
   "metadata": {},
   "outputs": [],
   "source": [
    "# mdf = mdf[~mdf['price'].isin([265900,1289900,706250])]"
   ]
  },
  {
   "cell_type": "markdown",
   "id": "89db32bb",
   "metadata": {},
   "source": [
    "# scrub and engineer feature"
   ]
  },
  {
   "cell_type": "code",
   "execution_count": 15,
   "id": "e4e18f5c",
   "metadata": {
    "scrolled": true
   },
   "outputs": [],
   "source": [
    "feature = 'date'\n",
    "understand(feature,False)"
   ]
  },
  {
   "cell_type": "code",
   "execution_count": 16,
   "id": "b61e87bd",
   "metadata": {
    "scrolled": true
   },
   "outputs": [],
   "source": [
    "mdf['date'] = pd.to_datetime(df['date'])\n",
    "mdf['month'] = mdf['date'].dt.month\n",
    "# mdf['day'] = mdf['date'].dt.day\n",
    "mdf.drop('date', axis=1, inplace=True)\n",
    "# mdf.drop('day', axis=1, inplace=True)"
   ]
  },
  {
   "cell_type": "code",
   "execution_count": 17,
   "id": "5b69478c",
   "metadata": {
    "scrolled": true
   },
   "outputs": [],
   "source": [
    "mdf['price'] = mdf['price'].astype(int)"
   ]
  },
  {
   "cell_type": "code",
   "execution_count": 18,
   "id": "3649d75c",
   "metadata": {
    "scrolled": true
   },
   "outputs": [],
   "source": [
    "feature = 'bedrooms'\n",
    "understand(feature,True)"
   ]
  },
  {
   "cell_type": "code",
   "execution_count": 19,
   "id": "6f61e6ea",
   "metadata": {},
   "outputs": [],
   "source": [
    "feature = 'bathrooms'\n",
    "understand(feature,True)"
   ]
  },
  {
   "cell_type": "code",
   "execution_count": 20,
   "id": "7ce653ee",
   "metadata": {
    "scrolled": true
   },
   "outputs": [
    {
     "data": {
      "text/html": [
       "<div>\n",
       "<style scoped>\n",
       "    .dataframe tbody tr th:only-of-type {\n",
       "        vertical-align: middle;\n",
       "    }\n",
       "\n",
       "    .dataframe tbody tr th {\n",
       "        vertical-align: top;\n",
       "    }\n",
       "\n",
       "    .dataframe thead th {\n",
       "        text-align: right;\n",
       "    }\n",
       "</style>\n",
       "<table border=\"1\" class=\"dataframe\">\n",
       "  <thead>\n",
       "    <tr style=\"text-align: right;\">\n",
       "      <th></th>\n",
       "      <th>date</th>\n",
       "      <th>price</th>\n",
       "      <th>bedrooms</th>\n",
       "      <th>bathrooms</th>\n",
       "      <th>sqft_living</th>\n",
       "      <th>sqft_lot</th>\n",
       "      <th>floors</th>\n",
       "      <th>waterfront</th>\n",
       "      <th>view</th>\n",
       "      <th>condition</th>\n",
       "      <th>sqft_above</th>\n",
       "      <th>sqft_basement</th>\n",
       "      <th>yr_built</th>\n",
       "      <th>yr_renovated</th>\n",
       "      <th>street</th>\n",
       "      <th>city</th>\n",
       "      <th>statezip</th>\n",
       "      <th>country</th>\n",
       "    </tr>\n",
       "  </thead>\n",
       "  <tbody>\n",
       "    <tr>\n",
       "      <th>2365</th>\n",
       "      <td>2014-06-12 00:00:00</td>\n",
       "      <td>1095000.0</td>\n",
       "      <td>0.0</td>\n",
       "      <td>0.0</td>\n",
       "      <td>3064</td>\n",
       "      <td>4764</td>\n",
       "      <td>3.5</td>\n",
       "      <td>0</td>\n",
       "      <td>2</td>\n",
       "      <td>3</td>\n",
       "      <td>3064</td>\n",
       "      <td>0</td>\n",
       "      <td>1990</td>\n",
       "      <td>2009</td>\n",
       "      <td>814 E Howe St</td>\n",
       "      <td>Seattle</td>\n",
       "      <td>WA 98102</td>\n",
       "      <td>USA</td>\n",
       "    </tr>\n",
       "    <tr>\n",
       "      <th>3209</th>\n",
       "      <td>2014-06-24 00:00:00</td>\n",
       "      <td>1295648.0</td>\n",
       "      <td>0.0</td>\n",
       "      <td>0.0</td>\n",
       "      <td>4810</td>\n",
       "      <td>28008</td>\n",
       "      <td>2.0</td>\n",
       "      <td>0</td>\n",
       "      <td>0</td>\n",
       "      <td>3</td>\n",
       "      <td>4810</td>\n",
       "      <td>0</td>\n",
       "      <td>1990</td>\n",
       "      <td>2009</td>\n",
       "      <td>20418 NE 64th Pl</td>\n",
       "      <td>Redmond</td>\n",
       "      <td>WA 98053</td>\n",
       "      <td>USA</td>\n",
       "    </tr>\n",
       "  </tbody>\n",
       "</table>\n",
       "</div>"
      ],
      "text/plain": [
       "                     date      price  bedrooms  bathrooms  sqft_living  \\\n",
       "2365  2014-06-12 00:00:00  1095000.0       0.0        0.0         3064   \n",
       "3209  2014-06-24 00:00:00  1295648.0       0.0        0.0         4810   \n",
       "\n",
       "      sqft_lot  floors  waterfront  view  condition  sqft_above  \\\n",
       "2365      4764     3.5           0     2          3        3064   \n",
       "3209     28008     2.0           0     0          3        4810   \n",
       "\n",
       "      sqft_basement  yr_built  yr_renovated            street     city  \\\n",
       "2365              0      1990          2009     814 E Howe St  Seattle   \n",
       "3209              0      1990          2009  20418 NE 64th Pl  Redmond   \n",
       "\n",
       "      statezip country  \n",
       "2365  WA 98102     USA  \n",
       "3209  WA 98053     USA  "
      ]
     },
     "execution_count": 20,
     "metadata": {},
     "output_type": "execute_result"
    }
   ],
   "source": [
    "df[df['bedrooms']==0]"
   ]
  },
  {
   "cell_type": "code",
   "execution_count": 21,
   "id": "8fcab9e3",
   "metadata": {},
   "outputs": [
    {
     "data": {
      "text/plain": [
       "627.6491682309535"
      ]
     },
     "execution_count": 21,
     "metadata": {},
     "output_type": "execute_result"
    }
   ],
   "source": [
    "lpbed = df['sqft_living'][df['bedrooms']!=0].sum()/df['bedrooms'][df['bedrooms']!=0].sum()\n",
    "lpbed"
   ]
  },
  {
   "cell_type": "code",
   "execution_count": 22,
   "id": "9b2a732e",
   "metadata": {
    "scrolled": false
   },
   "outputs": [
    {
     "data": {
      "text/plain": [
       "988.6874330869233"
      ]
     },
     "execution_count": 22,
     "metadata": {},
     "output_type": "execute_result"
    }
   ],
   "source": [
    "lpbath = df['sqft_living'][df['bathrooms']!=0].sum()/df['bathrooms'][df['bathrooms']!=0].sum()\n",
    "lpbath"
   ]
  },
  {
   "cell_type": "code",
   "execution_count": 23,
   "id": "a8f03194",
   "metadata": {
    "scrolled": true
   },
   "outputs": [],
   "source": [
    "# mdf['bedrooms'] = df['bedrooms']\n",
    "# mdf['bathrooms'] = df['bathrooms']\n",
    "\n",
    "# mdf[mdf['bedrooms']==0]\n",
    "\n",
    "# mdf['bedrooms'][mdf['bedrooms']==0] = df['sqft_living'][df['bedrooms']==0]/lpbed.astype(int).copy()\n",
    "# mdf['bathrooms'][mdf['bathrooms']==0] = df['sqft_living'][df['bathrooms']==0]/lpbath.astype(int).copy()\n",
    "\n",
    "#instead of chain indexing [][], make it loc indexing .loc[[],]"
   ]
  },
  {
   "cell_type": "code",
   "execution_count": 24,
   "id": "3594e11c",
   "metadata": {},
   "outputs": [],
   "source": [
    "mdf.loc[mdf['bedrooms']==0, 'bedrooms'] = df.loc[mdf['bedrooms']==0, 'sqft_living'] // lpbed\n",
    "mdf.loc[mdf['bathrooms']==0, 'bathrooms'] = df.loc[mdf['bathrooms']==0, 'sqft_living'] // lpbath"
   ]
  },
  {
   "cell_type": "code",
   "execution_count": 25,
   "id": "86d8e34e",
   "metadata": {},
   "outputs": [
    {
     "data": {
      "text/html": [
       "<div>\n",
       "<style scoped>\n",
       "    .dataframe tbody tr th:only-of-type {\n",
       "        vertical-align: middle;\n",
       "    }\n",
       "\n",
       "    .dataframe tbody tr th {\n",
       "        vertical-align: top;\n",
       "    }\n",
       "\n",
       "    .dataframe thead th {\n",
       "        text-align: right;\n",
       "    }\n",
       "</style>\n",
       "<table border=\"1\" class=\"dataframe\">\n",
       "  <thead>\n",
       "    <tr style=\"text-align: right;\">\n",
       "      <th></th>\n",
       "      <th>price</th>\n",
       "      <th>month</th>\n",
       "      <th>bedrooms</th>\n",
       "      <th>bathrooms</th>\n",
       "    </tr>\n",
       "  </thead>\n",
       "  <tbody>\n",
       "    <tr>\n",
       "      <th>2365</th>\n",
       "      <td>1095000</td>\n",
       "      <td>6</td>\n",
       "      <td>4.0</td>\n",
       "      <td>3.0</td>\n",
       "    </tr>\n",
       "    <tr>\n",
       "      <th>3209</th>\n",
       "      <td>1295648</td>\n",
       "      <td>6</td>\n",
       "      <td>7.0</td>\n",
       "      <td>4.0</td>\n",
       "    </tr>\n",
       "  </tbody>\n",
       "</table>\n",
       "</div>"
      ],
      "text/plain": [
       "        price  month  bedrooms  bathrooms\n",
       "2365  1095000      6       4.0        3.0\n",
       "3209  1295648      6       7.0        4.0"
      ]
     },
     "execution_count": 25,
     "metadata": {},
     "output_type": "execute_result"
    }
   ],
   "source": [
    "mdf[df['bedrooms']==0]"
   ]
  },
  {
   "cell_type": "code",
   "execution_count": 26,
   "id": "885b2b6b",
   "metadata": {},
   "outputs": [
    {
     "data": {
      "text/html": [
       "<div>\n",
       "<style scoped>\n",
       "    .dataframe tbody tr th:only-of-type {\n",
       "        vertical-align: middle;\n",
       "    }\n",
       "\n",
       "    .dataframe tbody tr th {\n",
       "        vertical-align: top;\n",
       "    }\n",
       "\n",
       "    .dataframe thead th {\n",
       "        text-align: right;\n",
       "    }\n",
       "</style>\n",
       "<table border=\"1\" class=\"dataframe\">\n",
       "  <thead>\n",
       "    <tr style=\"text-align: right;\">\n",
       "      <th></th>\n",
       "      <th>price</th>\n",
       "      <th>month</th>\n",
       "      <th>bedrooms</th>\n",
       "      <th>bathrooms</th>\n",
       "    </tr>\n",
       "  </thead>\n",
       "  <tbody>\n",
       "    <tr>\n",
       "      <th>2365</th>\n",
       "      <td>1095000</td>\n",
       "      <td>6</td>\n",
       "      <td>4.0</td>\n",
       "      <td>3.0</td>\n",
       "    </tr>\n",
       "    <tr>\n",
       "      <th>3209</th>\n",
       "      <td>1295648</td>\n",
       "      <td>6</td>\n",
       "      <td>7.0</td>\n",
       "      <td>4.0</td>\n",
       "    </tr>\n",
       "  </tbody>\n",
       "</table>\n",
       "</div>"
      ],
      "text/plain": [
       "        price  month  bedrooms  bathrooms\n",
       "2365  1095000      6       4.0        3.0\n",
       "3209  1295648      6       7.0        4.0"
      ]
     },
     "execution_count": 26,
     "metadata": {},
     "output_type": "execute_result"
    }
   ],
   "source": [
    "mdf.iloc[[2365,3209]]"
   ]
  },
  {
   "cell_type": "code",
   "execution_count": 27,
   "id": "f8eeea2f",
   "metadata": {
    "scrolled": true
   },
   "outputs": [
    {
     "data": {
      "text/html": [
       "<div>\n",
       "<style scoped>\n",
       "    .dataframe tbody tr th:only-of-type {\n",
       "        vertical-align: middle;\n",
       "    }\n",
       "\n",
       "    .dataframe tbody tr th {\n",
       "        vertical-align: top;\n",
       "    }\n",
       "\n",
       "    .dataframe thead th {\n",
       "        text-align: right;\n",
       "    }\n",
       "</style>\n",
       "<table border=\"1\" class=\"dataframe\">\n",
       "  <thead>\n",
       "    <tr style=\"text-align: right;\">\n",
       "      <th></th>\n",
       "      <th>date</th>\n",
       "      <th>price</th>\n",
       "      <th>bedrooms</th>\n",
       "      <th>bathrooms</th>\n",
       "      <th>sqft_living</th>\n",
       "      <th>sqft_lot</th>\n",
       "      <th>floors</th>\n",
       "      <th>waterfront</th>\n",
       "      <th>view</th>\n",
       "      <th>condition</th>\n",
       "      <th>sqft_above</th>\n",
       "      <th>sqft_basement</th>\n",
       "      <th>yr_built</th>\n",
       "      <th>yr_renovated</th>\n",
       "      <th>street</th>\n",
       "      <th>city</th>\n",
       "      <th>statezip</th>\n",
       "      <th>country</th>\n",
       "    </tr>\n",
       "  </thead>\n",
       "  <tbody>\n",
       "    <tr>\n",
       "      <th>2365</th>\n",
       "      <td>2014-06-12 00:00:00</td>\n",
       "      <td>1095000.0</td>\n",
       "      <td>0.0</td>\n",
       "      <td>0.0</td>\n",
       "      <td>3064</td>\n",
       "      <td>4764</td>\n",
       "      <td>3.5</td>\n",
       "      <td>0</td>\n",
       "      <td>2</td>\n",
       "      <td>3</td>\n",
       "      <td>3064</td>\n",
       "      <td>0</td>\n",
       "      <td>1990</td>\n",
       "      <td>2009</td>\n",
       "      <td>814 E Howe St</td>\n",
       "      <td>Seattle</td>\n",
       "      <td>WA 98102</td>\n",
       "      <td>USA</td>\n",
       "    </tr>\n",
       "    <tr>\n",
       "      <th>3209</th>\n",
       "      <td>2014-06-24 00:00:00</td>\n",
       "      <td>1295648.0</td>\n",
       "      <td>0.0</td>\n",
       "      <td>0.0</td>\n",
       "      <td>4810</td>\n",
       "      <td>28008</td>\n",
       "      <td>2.0</td>\n",
       "      <td>0</td>\n",
       "      <td>0</td>\n",
       "      <td>3</td>\n",
       "      <td>4810</td>\n",
       "      <td>0</td>\n",
       "      <td>1990</td>\n",
       "      <td>2009</td>\n",
       "      <td>20418 NE 64th Pl</td>\n",
       "      <td>Redmond</td>\n",
       "      <td>WA 98053</td>\n",
       "      <td>USA</td>\n",
       "    </tr>\n",
       "  </tbody>\n",
       "</table>\n",
       "</div>"
      ],
      "text/plain": [
       "                     date      price  bedrooms  bathrooms  sqft_living  \\\n",
       "2365  2014-06-12 00:00:00  1095000.0       0.0        0.0         3064   \n",
       "3209  2014-06-24 00:00:00  1295648.0       0.0        0.0         4810   \n",
       "\n",
       "      sqft_lot  floors  waterfront  view  condition  sqft_above  \\\n",
       "2365      4764     3.5           0     2          3        3064   \n",
       "3209     28008     2.0           0     0          3        4810   \n",
       "\n",
       "      sqft_basement  yr_built  yr_renovated            street     city  \\\n",
       "2365              0      1990          2009     814 E Howe St  Seattle   \n",
       "3209              0      1990          2009  20418 NE 64th Pl  Redmond   \n",
       "\n",
       "      statezip country  \n",
       "2365  WA 98102     USA  \n",
       "3209  WA 98053     USA  "
      ]
     },
     "execution_count": 27,
     "metadata": {},
     "output_type": "execute_result"
    }
   ],
   "source": [
    "df[df['bedrooms']==0]"
   ]
  },
  {
   "cell_type": "code",
   "execution_count": 28,
   "id": "b9470c10",
   "metadata": {
    "scrolled": false
   },
   "outputs": [],
   "source": [
    "feature = 'sqft_living'\n",
    "understand(feature,False)"
   ]
  },
  {
   "cell_type": "code",
   "execution_count": 29,
   "id": "915122df",
   "metadata": {},
   "outputs": [],
   "source": [
    "# mdf.drop('sqft_living', axis=1, inplace=True)"
   ]
  },
  {
   "cell_type": "code",
   "execution_count": 30,
   "id": "e1076774",
   "metadata": {
    "scrolled": false
   },
   "outputs": [],
   "source": [
    "feature = 'sqft_lot'\n",
    "understand(feature,True)"
   ]
  },
  {
   "cell_type": "code",
   "execution_count": 31,
   "id": "de3baf90",
   "metadata": {},
   "outputs": [],
   "source": [
    "# mdf['sqft_lot'] = df['sqft_lot']"
   ]
  },
  {
   "cell_type": "code",
   "execution_count": 32,
   "id": "db8cd3f6",
   "metadata": {
    "scrolled": true
   },
   "outputs": [],
   "source": [
    "feature = 'floors'\n",
    "understand(feature,True)"
   ]
  },
  {
   "cell_type": "code",
   "execution_count": 33,
   "id": "ea83356b",
   "metadata": {
    "scrolled": true
   },
   "outputs": [],
   "source": [
    "feature = 'waterfront'\n",
    "understand(feature,False)"
   ]
  },
  {
   "cell_type": "code",
   "execution_count": 34,
   "id": "3e60666e",
   "metadata": {
    "scrolled": false
   },
   "outputs": [],
   "source": [
    "feature = 'view'\n",
    "understand(feature,False)"
   ]
  },
  {
   "cell_type": "code",
   "execution_count": 35,
   "id": "8de65e2a",
   "metadata": {
    "scrolled": true
   },
   "outputs": [],
   "source": [
    "feature = 'condition'\n",
    "understand(feature,False)"
   ]
  },
  {
   "cell_type": "code",
   "execution_count": 36,
   "id": "70d961b0",
   "metadata": {},
   "outputs": [],
   "source": [
    "feature = 'sqft_above'\n",
    "understand(feature,True)"
   ]
  },
  {
   "cell_type": "code",
   "execution_count": 37,
   "id": "d670c172",
   "metadata": {
    "scrolled": true
   },
   "outputs": [],
   "source": [
    "feature = 'sqft_basement'\n",
    "understand(feature,True)"
   ]
  },
  {
   "cell_type": "code",
   "execution_count": 38,
   "id": "5ec6fe06",
   "metadata": {
    "scrolled": true
   },
   "outputs": [],
   "source": [
    "feature = 'yr_built'\n",
    "understand(feature,False)"
   ]
  },
  {
   "cell_type": "code",
   "execution_count": 39,
   "id": "985dee14",
   "metadata": {},
   "outputs": [],
   "source": [
    "mdf['Age1'] = 2014 - df['yr_built']"
   ]
  },
  {
   "cell_type": "code",
   "execution_count": 40,
   "id": "e924aabf",
   "metadata": {
    "scrolled": false
   },
   "outputs": [],
   "source": [
    "feature = 'yr_renovated'\n",
    "understand(feature,False)"
   ]
  },
  {
   "cell_type": "code",
   "execution_count": 41,
   "id": "a92ce5ed",
   "metadata": {},
   "outputs": [],
   "source": [
    "mdf['Age2'] = 2014 - df['yr_renovated']"
   ]
  },
  {
   "cell_type": "code",
   "execution_count": 42,
   "id": "9e89c989",
   "metadata": {
    "scrolled": true
   },
   "outputs": [],
   "source": [
    "# mdf['Age2'][df['yr_renovated']==0] = mdf['Age1']"
   ]
  },
  {
   "cell_type": "code",
   "execution_count": 43,
   "id": "c59d2650",
   "metadata": {},
   "outputs": [],
   "source": [
    "mdf.loc[df['yr_renovated']==0,'Age2'] = mdf.loc[df['yr_renovated']==0,'Age1'].values"
   ]
  },
  {
   "cell_type": "code",
   "execution_count": 44,
   "id": "9631baf0",
   "metadata": {
    "scrolled": true
   },
   "outputs": [],
   "source": [
    "feature = 'street'\n",
    "understand(feature,False)"
   ]
  },
  {
   "cell_type": "code",
   "execution_count": 45,
   "id": "c198b76b",
   "metadata": {
    "scrolled": true
   },
   "outputs": [],
   "source": [
    "feature = 'city'\n",
    "understand(feature,False)"
   ]
  },
  {
   "cell_type": "code",
   "execution_count": 46,
   "id": "c21c3c41",
   "metadata": {
    "scrolled": true
   },
   "outputs": [],
   "source": [
    "feature = 'statezip'\n",
    "understand(feature,False)"
   ]
  },
  {
   "cell_type": "code",
   "execution_count": 47,
   "id": "306df766",
   "metadata": {
    "scrolled": false
   },
   "outputs": [],
   "source": [
    "from category_encoders import TargetEncoder\n",
    "\n",
    "def one_hot(feature):\n",
    "    fdf = pd.get_dummies(mdf, columns=[feature], prefix=[feature])"
   ]
  },
  {
   "cell_type": "code",
   "execution_count": 48,
   "id": "52c58f91",
   "metadata": {},
   "outputs": [
    {
     "data": {
      "text/html": [
       "<div>\n",
       "<style scoped>\n",
       "    .dataframe tbody tr th:only-of-type {\n",
       "        vertical-align: middle;\n",
       "    }\n",
       "\n",
       "    .dataframe tbody tr th {\n",
       "        vertical-align: top;\n",
       "    }\n",
       "\n",
       "    .dataframe thead th {\n",
       "        text-align: right;\n",
       "    }\n",
       "</style>\n",
       "<table border=\"1\" class=\"dataframe\">\n",
       "  <thead>\n",
       "    <tr style=\"text-align: right;\">\n",
       "      <th></th>\n",
       "      <th>price</th>\n",
       "      <th>month</th>\n",
       "      <th>bedrooms</th>\n",
       "      <th>bathrooms</th>\n",
       "      <th>sqft_lot</th>\n",
       "      <th>floors</th>\n",
       "      <th>sqft_above</th>\n",
       "      <th>sqft_basement</th>\n",
       "      <th>Age1</th>\n",
       "      <th>Age2</th>\n",
       "    </tr>\n",
       "  </thead>\n",
       "  <tbody>\n",
       "    <tr>\n",
       "      <th>0</th>\n",
       "      <td>313000</td>\n",
       "      <td>5</td>\n",
       "      <td>3.0</td>\n",
       "      <td>1.50</td>\n",
       "      <td>7912</td>\n",
       "      <td>1.5</td>\n",
       "      <td>1340</td>\n",
       "      <td>0</td>\n",
       "      <td>59</td>\n",
       "      <td>9</td>\n",
       "    </tr>\n",
       "    <tr>\n",
       "      <th>1</th>\n",
       "      <td>2384000</td>\n",
       "      <td>5</td>\n",
       "      <td>5.0</td>\n",
       "      <td>2.50</td>\n",
       "      <td>9050</td>\n",
       "      <td>2.0</td>\n",
       "      <td>3370</td>\n",
       "      <td>280</td>\n",
       "      <td>93</td>\n",
       "      <td>93</td>\n",
       "    </tr>\n",
       "    <tr>\n",
       "      <th>2</th>\n",
       "      <td>342000</td>\n",
       "      <td>5</td>\n",
       "      <td>3.0</td>\n",
       "      <td>2.00</td>\n",
       "      <td>11947</td>\n",
       "      <td>1.0</td>\n",
       "      <td>1930</td>\n",
       "      <td>0</td>\n",
       "      <td>48</td>\n",
       "      <td>48</td>\n",
       "    </tr>\n",
       "    <tr>\n",
       "      <th>3</th>\n",
       "      <td>420000</td>\n",
       "      <td>5</td>\n",
       "      <td>3.0</td>\n",
       "      <td>2.25</td>\n",
       "      <td>8030</td>\n",
       "      <td>1.0</td>\n",
       "      <td>1000</td>\n",
       "      <td>1000</td>\n",
       "      <td>51</td>\n",
       "      <td>51</td>\n",
       "    </tr>\n",
       "    <tr>\n",
       "      <th>4</th>\n",
       "      <td>550000</td>\n",
       "      <td>5</td>\n",
       "      <td>4.0</td>\n",
       "      <td>2.50</td>\n",
       "      <td>10500</td>\n",
       "      <td>1.0</td>\n",
       "      <td>1140</td>\n",
       "      <td>800</td>\n",
       "      <td>38</td>\n",
       "      <td>22</td>\n",
       "    </tr>\n",
       "    <tr>\n",
       "      <th>...</th>\n",
       "      <td>...</td>\n",
       "      <td>...</td>\n",
       "      <td>...</td>\n",
       "      <td>...</td>\n",
       "      <td>...</td>\n",
       "      <td>...</td>\n",
       "      <td>...</td>\n",
       "      <td>...</td>\n",
       "      <td>...</td>\n",
       "      <td>...</td>\n",
       "    </tr>\n",
       "    <tr>\n",
       "      <th>4595</th>\n",
       "      <td>308166</td>\n",
       "      <td>7</td>\n",
       "      <td>3.0</td>\n",
       "      <td>1.75</td>\n",
       "      <td>6360</td>\n",
       "      <td>1.0</td>\n",
       "      <td>1510</td>\n",
       "      <td>0</td>\n",
       "      <td>60</td>\n",
       "      <td>35</td>\n",
       "    </tr>\n",
       "    <tr>\n",
       "      <th>4596</th>\n",
       "      <td>534333</td>\n",
       "      <td>7</td>\n",
       "      <td>3.0</td>\n",
       "      <td>2.50</td>\n",
       "      <td>7573</td>\n",
       "      <td>2.0</td>\n",
       "      <td>1460</td>\n",
       "      <td>0</td>\n",
       "      <td>31</td>\n",
       "      <td>5</td>\n",
       "    </tr>\n",
       "    <tr>\n",
       "      <th>4597</th>\n",
       "      <td>416904</td>\n",
       "      <td>7</td>\n",
       "      <td>3.0</td>\n",
       "      <td>2.50</td>\n",
       "      <td>7014</td>\n",
       "      <td>2.0</td>\n",
       "      <td>3010</td>\n",
       "      <td>0</td>\n",
       "      <td>5</td>\n",
       "      <td>5</td>\n",
       "    </tr>\n",
       "    <tr>\n",
       "      <th>4598</th>\n",
       "      <td>203400</td>\n",
       "      <td>7</td>\n",
       "      <td>4.0</td>\n",
       "      <td>2.00</td>\n",
       "      <td>6630</td>\n",
       "      <td>1.0</td>\n",
       "      <td>1070</td>\n",
       "      <td>1020</td>\n",
       "      <td>40</td>\n",
       "      <td>40</td>\n",
       "    </tr>\n",
       "    <tr>\n",
       "      <th>4599</th>\n",
       "      <td>220600</td>\n",
       "      <td>7</td>\n",
       "      <td>3.0</td>\n",
       "      <td>2.50</td>\n",
       "      <td>8102</td>\n",
       "      <td>2.0</td>\n",
       "      <td>1490</td>\n",
       "      <td>0</td>\n",
       "      <td>24</td>\n",
       "      <td>24</td>\n",
       "    </tr>\n",
       "  </tbody>\n",
       "</table>\n",
       "<p>4551 rows × 10 columns</p>\n",
       "</div>"
      ],
      "text/plain": [
       "        price  month  bedrooms  bathrooms  sqft_lot  floors  sqft_above  \\\n",
       "0      313000      5       3.0       1.50      7912     1.5        1340   \n",
       "1     2384000      5       5.0       2.50      9050     2.0        3370   \n",
       "2      342000      5       3.0       2.00     11947     1.0        1930   \n",
       "3      420000      5       3.0       2.25      8030     1.0        1000   \n",
       "4      550000      5       4.0       2.50     10500     1.0        1140   \n",
       "...       ...    ...       ...        ...       ...     ...         ...   \n",
       "4595   308166      7       3.0       1.75      6360     1.0        1510   \n",
       "4596   534333      7       3.0       2.50      7573     2.0        1460   \n",
       "4597   416904      7       3.0       2.50      7014     2.0        3010   \n",
       "4598   203400      7       4.0       2.00      6630     1.0        1070   \n",
       "4599   220600      7       3.0       2.50      8102     2.0        1490   \n",
       "\n",
       "      sqft_basement  Age1  Age2  \n",
       "0                 0    59     9  \n",
       "1               280    93    93  \n",
       "2                 0    48    48  \n",
       "3              1000    51    51  \n",
       "4               800    38    22  \n",
       "...             ...   ...   ...  \n",
       "4595              0    60    35  \n",
       "4596              0    31     5  \n",
       "4597              0     5     5  \n",
       "4598           1020    40    40  \n",
       "4599              0    24    24  \n",
       "\n",
       "[4551 rows x 10 columns]"
      ]
     },
     "execution_count": 48,
     "metadata": {},
     "output_type": "execute_result"
    }
   ],
   "source": [
    "mdf"
   ]
  },
  {
   "cell_type": "code",
   "execution_count": 83,
   "id": "74c51c4e",
   "metadata": {},
   "outputs": [],
   "source": [
    "one_hot('month')\n",
    "# one_hot('waterfront')\n",
    "# one_hot('view')\n",
    "# one_hot('condition')"
   ]
  },
  {
   "cell_type": "code",
   "execution_count": 50,
   "id": "4d608898",
   "metadata": {},
   "outputs": [],
   "source": [
    "fdf = mdf.copy()"
   ]
  },
  {
   "cell_type": "code",
   "execution_count": 51,
   "id": "522d773c",
   "metadata": {},
   "outputs": [
    {
     "data": {
      "text/html": [
       "<div>\n",
       "<style scoped>\n",
       "    .dataframe tbody tr th:only-of-type {\n",
       "        vertical-align: middle;\n",
       "    }\n",
       "\n",
       "    .dataframe tbody tr th {\n",
       "        vertical-align: top;\n",
       "    }\n",
       "\n",
       "    .dataframe thead th {\n",
       "        text-align: right;\n",
       "    }\n",
       "</style>\n",
       "<table border=\"1\" class=\"dataframe\">\n",
       "  <thead>\n",
       "    <tr style=\"text-align: right;\">\n",
       "      <th></th>\n",
       "      <th>price</th>\n",
       "      <th>month</th>\n",
       "      <th>bedrooms</th>\n",
       "      <th>bathrooms</th>\n",
       "      <th>sqft_lot</th>\n",
       "      <th>floors</th>\n",
       "      <th>sqft_above</th>\n",
       "      <th>sqft_basement</th>\n",
       "      <th>Age1</th>\n",
       "      <th>Age2</th>\n",
       "    </tr>\n",
       "  </thead>\n",
       "  <tbody>\n",
       "    <tr>\n",
       "      <th>0</th>\n",
       "      <td>313000</td>\n",
       "      <td>5</td>\n",
       "      <td>3.0</td>\n",
       "      <td>1.50</td>\n",
       "      <td>7912</td>\n",
       "      <td>1.5</td>\n",
       "      <td>1340</td>\n",
       "      <td>0</td>\n",
       "      <td>59</td>\n",
       "      <td>9</td>\n",
       "    </tr>\n",
       "    <tr>\n",
       "      <th>1</th>\n",
       "      <td>2384000</td>\n",
       "      <td>5</td>\n",
       "      <td>5.0</td>\n",
       "      <td>2.50</td>\n",
       "      <td>9050</td>\n",
       "      <td>2.0</td>\n",
       "      <td>3370</td>\n",
       "      <td>280</td>\n",
       "      <td>93</td>\n",
       "      <td>93</td>\n",
       "    </tr>\n",
       "    <tr>\n",
       "      <th>2</th>\n",
       "      <td>342000</td>\n",
       "      <td>5</td>\n",
       "      <td>3.0</td>\n",
       "      <td>2.00</td>\n",
       "      <td>11947</td>\n",
       "      <td>1.0</td>\n",
       "      <td>1930</td>\n",
       "      <td>0</td>\n",
       "      <td>48</td>\n",
       "      <td>48</td>\n",
       "    </tr>\n",
       "    <tr>\n",
       "      <th>3</th>\n",
       "      <td>420000</td>\n",
       "      <td>5</td>\n",
       "      <td>3.0</td>\n",
       "      <td>2.25</td>\n",
       "      <td>8030</td>\n",
       "      <td>1.0</td>\n",
       "      <td>1000</td>\n",
       "      <td>1000</td>\n",
       "      <td>51</td>\n",
       "      <td>51</td>\n",
       "    </tr>\n",
       "    <tr>\n",
       "      <th>4</th>\n",
       "      <td>550000</td>\n",
       "      <td>5</td>\n",
       "      <td>4.0</td>\n",
       "      <td>2.50</td>\n",
       "      <td>10500</td>\n",
       "      <td>1.0</td>\n",
       "      <td>1140</td>\n",
       "      <td>800</td>\n",
       "      <td>38</td>\n",
       "      <td>22</td>\n",
       "    </tr>\n",
       "    <tr>\n",
       "      <th>...</th>\n",
       "      <td>...</td>\n",
       "      <td>...</td>\n",
       "      <td>...</td>\n",
       "      <td>...</td>\n",
       "      <td>...</td>\n",
       "      <td>...</td>\n",
       "      <td>...</td>\n",
       "      <td>...</td>\n",
       "      <td>...</td>\n",
       "      <td>...</td>\n",
       "    </tr>\n",
       "    <tr>\n",
       "      <th>4595</th>\n",
       "      <td>308166</td>\n",
       "      <td>7</td>\n",
       "      <td>3.0</td>\n",
       "      <td>1.75</td>\n",
       "      <td>6360</td>\n",
       "      <td>1.0</td>\n",
       "      <td>1510</td>\n",
       "      <td>0</td>\n",
       "      <td>60</td>\n",
       "      <td>35</td>\n",
       "    </tr>\n",
       "    <tr>\n",
       "      <th>4596</th>\n",
       "      <td>534333</td>\n",
       "      <td>7</td>\n",
       "      <td>3.0</td>\n",
       "      <td>2.50</td>\n",
       "      <td>7573</td>\n",
       "      <td>2.0</td>\n",
       "      <td>1460</td>\n",
       "      <td>0</td>\n",
       "      <td>31</td>\n",
       "      <td>5</td>\n",
       "    </tr>\n",
       "    <tr>\n",
       "      <th>4597</th>\n",
       "      <td>416904</td>\n",
       "      <td>7</td>\n",
       "      <td>3.0</td>\n",
       "      <td>2.50</td>\n",
       "      <td>7014</td>\n",
       "      <td>2.0</td>\n",
       "      <td>3010</td>\n",
       "      <td>0</td>\n",
       "      <td>5</td>\n",
       "      <td>5</td>\n",
       "    </tr>\n",
       "    <tr>\n",
       "      <th>4598</th>\n",
       "      <td>203400</td>\n",
       "      <td>7</td>\n",
       "      <td>4.0</td>\n",
       "      <td>2.00</td>\n",
       "      <td>6630</td>\n",
       "      <td>1.0</td>\n",
       "      <td>1070</td>\n",
       "      <td>1020</td>\n",
       "      <td>40</td>\n",
       "      <td>40</td>\n",
       "    </tr>\n",
       "    <tr>\n",
       "      <th>4599</th>\n",
       "      <td>220600</td>\n",
       "      <td>7</td>\n",
       "      <td>3.0</td>\n",
       "      <td>2.50</td>\n",
       "      <td>8102</td>\n",
       "      <td>2.0</td>\n",
       "      <td>1490</td>\n",
       "      <td>0</td>\n",
       "      <td>24</td>\n",
       "      <td>24</td>\n",
       "    </tr>\n",
       "  </tbody>\n",
       "</table>\n",
       "<p>4551 rows × 10 columns</p>\n",
       "</div>"
      ],
      "text/plain": [
       "        price  month  bedrooms  bathrooms  sqft_lot  floors  sqft_above  \\\n",
       "0      313000      5       3.0       1.50      7912     1.5        1340   \n",
       "1     2384000      5       5.0       2.50      9050     2.0        3370   \n",
       "2      342000      5       3.0       2.00     11947     1.0        1930   \n",
       "3      420000      5       3.0       2.25      8030     1.0        1000   \n",
       "4      550000      5       4.0       2.50     10500     1.0        1140   \n",
       "...       ...    ...       ...        ...       ...     ...         ...   \n",
       "4595   308166      7       3.0       1.75      6360     1.0        1510   \n",
       "4596   534333      7       3.0       2.50      7573     2.0        1460   \n",
       "4597   416904      7       3.0       2.50      7014     2.0        3010   \n",
       "4598   203400      7       4.0       2.00      6630     1.0        1070   \n",
       "4599   220600      7       3.0       2.50      8102     2.0        1490   \n",
       "\n",
       "      sqft_basement  Age1  Age2  \n",
       "0                 0    59     9  \n",
       "1               280    93    93  \n",
       "2                 0    48    48  \n",
       "3              1000    51    51  \n",
       "4               800    38    22  \n",
       "...             ...   ...   ...  \n",
       "4595              0    60    35  \n",
       "4596              0    31     5  \n",
       "4597              0     5     5  \n",
       "4598           1020    40    40  \n",
       "4599              0    24    24  \n",
       "\n",
       "[4551 rows x 10 columns]"
      ]
     },
     "execution_count": 51,
     "metadata": {},
     "output_type": "execute_result"
    }
   ],
   "source": [
    "fdf"
   ]
  },
  {
   "cell_type": "code",
   "execution_count": 52,
   "id": "368c438d",
   "metadata": {},
   "outputs": [],
   "source": [
    "dfarch = fdf.copy()"
   ]
  },
  {
   "cell_type": "code",
   "execution_count": 53,
   "id": "124890d5",
   "metadata": {},
   "outputs": [],
   "source": [
    "from sklearn.preprocessing import StandardScaler\n",
    "scaler = StandardScaler()"
   ]
  },
  {
   "cell_type": "code",
   "execution_count": 54,
   "id": "5f0a6475",
   "metadata": {},
   "outputs": [],
   "source": [
    "fdf[['sqft_lot', 'sqft_above', 'sqft_basement','Age1','Age2']] = scaler.fit_transform(fdf[['sqft_lot', 'sqft_above', 'sqft_basement','Age1','Age2']])"
   ]
  },
  {
   "cell_type": "code",
   "execution_count": 55,
   "id": "f9ea9389",
   "metadata": {},
   "outputs": [],
   "source": [
    "tar = fdf['price']"
   ]
  },
  {
   "cell_type": "code",
   "execution_count": 56,
   "id": "7e938dfb",
   "metadata": {},
   "outputs": [],
   "source": [
    "fdf2 = fdf.drop('price', axis=1)"
   ]
  },
  {
   "cell_type": "code",
   "execution_count": 57,
   "id": "97b0e04a",
   "metadata": {
    "scrolled": true
   },
   "outputs": [
    {
     "data": {
      "text/html": [
       "<div>\n",
       "<style scoped>\n",
       "    .dataframe tbody tr th:only-of-type {\n",
       "        vertical-align: middle;\n",
       "    }\n",
       "\n",
       "    .dataframe tbody tr th {\n",
       "        vertical-align: top;\n",
       "    }\n",
       "\n",
       "    .dataframe thead th {\n",
       "        text-align: right;\n",
       "    }\n",
       "</style>\n",
       "<table border=\"1\" class=\"dataframe\">\n",
       "  <thead>\n",
       "    <tr style=\"text-align: right;\">\n",
       "      <th></th>\n",
       "      <th>month</th>\n",
       "      <th>bedrooms</th>\n",
       "      <th>bathrooms</th>\n",
       "      <th>sqft_lot</th>\n",
       "      <th>floors</th>\n",
       "      <th>sqft_above</th>\n",
       "      <th>sqft_basement</th>\n",
       "      <th>Age1</th>\n",
       "      <th>Age2</th>\n",
       "    </tr>\n",
       "  </thead>\n",
       "  <tbody>\n",
       "    <tr>\n",
       "      <th>0</th>\n",
       "      <td>5</td>\n",
       "      <td>3.0</td>\n",
       "      <td>1.50</td>\n",
       "      <td>-0.192527</td>\n",
       "      <td>1.5</td>\n",
       "      <td>-0.564425</td>\n",
       "      <td>-0.671413</td>\n",
       "      <td>0.530825</td>\n",
       "      <td>-0.741524</td>\n",
       "    </tr>\n",
       "    <tr>\n",
       "      <th>1</th>\n",
       "      <td>5</td>\n",
       "      <td>5.0</td>\n",
       "      <td>2.50</td>\n",
       "      <td>-0.160880</td>\n",
       "      <td>2.0</td>\n",
       "      <td>1.811625</td>\n",
       "      <td>-0.065270</td>\n",
       "      <td>1.673421</td>\n",
       "      <td>2.386968</td>\n",
       "    </tr>\n",
       "    <tr>\n",
       "      <th>2</th>\n",
       "      <td>5</td>\n",
       "      <td>3.0</td>\n",
       "      <td>2.00</td>\n",
       "      <td>-0.080319</td>\n",
       "      <td>1.0</td>\n",
       "      <td>0.126151</td>\n",
       "      <td>-0.671413</td>\n",
       "      <td>0.161161</td>\n",
       "      <td>0.710990</td>\n",
       "    </tr>\n",
       "    <tr>\n",
       "      <th>3</th>\n",
       "      <td>5</td>\n",
       "      <td>3.0</td>\n",
       "      <td>2.25</td>\n",
       "      <td>-0.189245</td>\n",
       "      <td>1.0</td>\n",
       "      <td>-0.962384</td>\n",
       "      <td>1.493385</td>\n",
       "      <td>0.261979</td>\n",
       "      <td>0.822722</td>\n",
       "    </tr>\n",
       "    <tr>\n",
       "      <th>4</th>\n",
       "      <td>5</td>\n",
       "      <td>4.0</td>\n",
       "      <td>2.50</td>\n",
       "      <td>-0.120558</td>\n",
       "      <td>1.0</td>\n",
       "      <td>-0.798519</td>\n",
       "      <td>1.060425</td>\n",
       "      <td>-0.174896</td>\n",
       "      <td>-0.257352</td>\n",
       "    </tr>\n",
       "    <tr>\n",
       "      <th>...</th>\n",
       "      <td>...</td>\n",
       "      <td>...</td>\n",
       "      <td>...</td>\n",
       "      <td>...</td>\n",
       "      <td>...</td>\n",
       "      <td>...</td>\n",
       "      <td>...</td>\n",
       "      <td>...</td>\n",
       "      <td>...</td>\n",
       "    </tr>\n",
       "    <tr>\n",
       "      <th>4595</th>\n",
       "      <td>7</td>\n",
       "      <td>3.0</td>\n",
       "      <td>1.75</td>\n",
       "      <td>-0.235686</td>\n",
       "      <td>1.0</td>\n",
       "      <td>-0.365446</td>\n",
       "      <td>-0.671413</td>\n",
       "      <td>0.564431</td>\n",
       "      <td>0.226819</td>\n",
       "    </tr>\n",
       "    <tr>\n",
       "      <th>4596</th>\n",
       "      <td>7</td>\n",
       "      <td>3.0</td>\n",
       "      <td>2.50</td>\n",
       "      <td>-0.201954</td>\n",
       "      <td>2.0</td>\n",
       "      <td>-0.423969</td>\n",
       "      <td>-0.671413</td>\n",
       "      <td>-0.410136</td>\n",
       "      <td>-0.890499</td>\n",
       "    </tr>\n",
       "    <tr>\n",
       "      <th>4597</th>\n",
       "      <td>7</td>\n",
       "      <td>3.0</td>\n",
       "      <td>2.50</td>\n",
       "      <td>-0.217499</td>\n",
       "      <td>2.0</td>\n",
       "      <td>1.390257</td>\n",
       "      <td>-0.671413</td>\n",
       "      <td>-1.283886</td>\n",
       "      <td>-0.890499</td>\n",
       "    </tr>\n",
       "    <tr>\n",
       "      <th>4598</th>\n",
       "      <td>7</td>\n",
       "      <td>4.0</td>\n",
       "      <td>2.00</td>\n",
       "      <td>-0.228177</td>\n",
       "      <td>1.0</td>\n",
       "      <td>-0.880452</td>\n",
       "      <td>1.536681</td>\n",
       "      <td>-0.107685</td>\n",
       "      <td>0.413039</td>\n",
       "    </tr>\n",
       "    <tr>\n",
       "      <th>4599</th>\n",
       "      <td>7</td>\n",
       "      <td>3.0</td>\n",
       "      <td>2.50</td>\n",
       "      <td>-0.187243</td>\n",
       "      <td>2.0</td>\n",
       "      <td>-0.388855</td>\n",
       "      <td>-0.671413</td>\n",
       "      <td>-0.645377</td>\n",
       "      <td>-0.182864</td>\n",
       "    </tr>\n",
       "  </tbody>\n",
       "</table>\n",
       "<p>4551 rows × 9 columns</p>\n",
       "</div>"
      ],
      "text/plain": [
       "      month  bedrooms  bathrooms  sqft_lot  floors  sqft_above  sqft_basement  \\\n",
       "0         5       3.0       1.50 -0.192527     1.5   -0.564425      -0.671413   \n",
       "1         5       5.0       2.50 -0.160880     2.0    1.811625      -0.065270   \n",
       "2         5       3.0       2.00 -0.080319     1.0    0.126151      -0.671413   \n",
       "3         5       3.0       2.25 -0.189245     1.0   -0.962384       1.493385   \n",
       "4         5       4.0       2.50 -0.120558     1.0   -0.798519       1.060425   \n",
       "...     ...       ...        ...       ...     ...         ...            ...   \n",
       "4595      7       3.0       1.75 -0.235686     1.0   -0.365446      -0.671413   \n",
       "4596      7       3.0       2.50 -0.201954     2.0   -0.423969      -0.671413   \n",
       "4597      7       3.0       2.50 -0.217499     2.0    1.390257      -0.671413   \n",
       "4598      7       4.0       2.00 -0.228177     1.0   -0.880452       1.536681   \n",
       "4599      7       3.0       2.50 -0.187243     2.0   -0.388855      -0.671413   \n",
       "\n",
       "          Age1      Age2  \n",
       "0     0.530825 -0.741524  \n",
       "1     1.673421  2.386968  \n",
       "2     0.161161  0.710990  \n",
       "3     0.261979  0.822722  \n",
       "4    -0.174896 -0.257352  \n",
       "...        ...       ...  \n",
       "4595  0.564431  0.226819  \n",
       "4596 -0.410136 -0.890499  \n",
       "4597 -1.283886 -0.890499  \n",
       "4598 -0.107685  0.413039  \n",
       "4599 -0.645377 -0.182864  \n",
       "\n",
       "[4551 rows x 9 columns]"
      ]
     },
     "execution_count": 57,
     "metadata": {},
     "output_type": "execute_result"
    }
   ],
   "source": [
    "fdf2"
   ]
  },
  {
   "cell_type": "markdown",
   "id": "33b3c43a",
   "metadata": {},
   "source": [
    "# Try models: LR,L1,L2 and RF, GB,XGB "
   ]
  },
  {
   "cell_type": "code",
   "execution_count": 58,
   "id": "6f045bd0",
   "metadata": {
    "scrolled": false
   },
   "outputs": [
    {
     "name": "stdout",
     "output_type": "stream",
     "text": [
      "547827.8735632184 560752.8796747967 533851.350877193\n",
      "3480 615 456\n"
     ]
    }
   ],
   "source": [
    "from sklearn.model_selection import train_test_split\n",
    "X_trainvalid, X_test, y_trainvalid, y_test = train_test_split(fdf2, tar, test_size=0.1, random_state=1236)\n",
    "X_train, X_valid, y_train, y_valid = train_test_split(X_trainvalid, y_trainvalid, test_size=0.15, random_state=1236)\n",
    "print(y_train.mean(),y_valid.mean(),y_test.mean())\n",
    "print(len(y_train),len(y_valid),len(y_test))"
   ]
  },
  {
   "cell_type": "code",
   "execution_count": 59,
   "id": "6aa664e7",
   "metadata": {
    "scrolled": true
   },
   "outputs": [
    {
     "data": {
      "text/plain": [
       "LinearRegression()"
      ]
     },
     "execution_count": 59,
     "metadata": {},
     "output_type": "execute_result"
    }
   ],
   "source": [
    "from sklearn.linear_model import LinearRegression\n",
    "model = LinearRegression()\n",
    "model.fit(X_train,y_train)"
   ]
  },
  {
   "cell_type": "code",
   "execution_count": 60,
   "id": "806422a1",
   "metadata": {
    "scrolled": true
   },
   "outputs": [],
   "source": [
    "y_train_hat = model.predict(X_train)\n",
    "y_valid_hat = model.predict(X_valid)\n",
    "y_test_hat = model.predict(X_test)"
   ]
  },
  {
   "cell_type": "code",
   "execution_count": 61,
   "id": "80e1d839",
   "metadata": {},
   "outputs": [
    {
     "data": {
      "text/plain": [
       "count       4551\n",
       "mean      548174\n",
       "std       355461\n",
       "min         7800\n",
       "25%       326050\n",
       "50%       465000\n",
       "75%       657500\n",
       "max      4668000\n",
       "Name: price, dtype: int32"
      ]
     },
     "execution_count": 61,
     "metadata": {},
     "output_type": "execute_result"
    }
   ],
   "source": [
    "tar.describe().astype(int)"
   ]
  },
  {
   "cell_type": "code",
   "execution_count": 62,
   "id": "592bc0c1",
   "metadata": {},
   "outputs": [],
   "source": [
    "from sklearn.metrics import mean_absolute_error\n",
    "from sklearn.metrics import explained_variance_score"
   ]
  },
  {
   "cell_type": "code",
   "execution_count": 63,
   "id": "fcad3887",
   "metadata": {
    "scrolled": true
   },
   "outputs": [
    {
     "name": "stdout",
     "output_type": "stream",
     "text": [
      "156692.97152394484\n",
      "160751.28690425726\n",
      "156617.2627541034\n"
     ]
    }
   ],
   "source": [
    "print(mean_absolute_error(y_train,y_train_hat))\n",
    "print(mean_absolute_error(y_valid,y_valid_hat))\n",
    "print(mean_absolute_error(y_test,y_test_hat))"
   ]
  },
  {
   "cell_type": "code",
   "execution_count": 64,
   "id": "7f55f102",
   "metadata": {
    "scrolled": false
   },
   "outputs": [
    {
     "name": "stdout",
     "output_type": "stream",
     "text": [
      "0.5420946470990576\n",
      "0.5357880665635306\n",
      "0.5046575998505445\n"
     ]
    }
   ],
   "source": [
    "print(explained_variance_score(y_train,y_train_hat))\n",
    "print(explained_variance_score(y_valid,y_valid_hat))\n",
    "print(explained_variance_score(y_test,y_test_hat))"
   ]
  },
  {
   "cell_type": "code",
   "execution_count": 65,
   "id": "3d3b0ea5",
   "metadata": {
    "scrolled": true
   },
   "outputs": [],
   "source": [
    "# model.coef_"
   ]
  },
  {
   "cell_type": "code",
   "execution_count": 66,
   "id": "dbf521e7",
   "metadata": {
    "scrolled": true
   },
   "outputs": [
    {
     "data": {
      "text/plain": [
       "Ridge(alpha=0.5)"
      ]
     },
     "execution_count": 66,
     "metadata": {},
     "output_type": "execute_result"
    }
   ],
   "source": [
    "from sklearn.linear_model import Ridge\n",
    "L2_model = Ridge(alpha=0.5)\n",
    "L2_model.fit(X_train, y_train)"
   ]
  },
  {
   "cell_type": "code",
   "execution_count": 67,
   "id": "192ecfcd",
   "metadata": {},
   "outputs": [],
   "source": [
    "y_train_hat_L2 = L2_model.predict(X_train)\n",
    "y_valid_hat_L2 = L2_model.predict(X_valid)\n",
    "y_test_hat_L2 = L2_model.predict(X_test)"
   ]
  },
  {
   "cell_type": "code",
   "execution_count": 68,
   "id": "fab85e24",
   "metadata": {
    "scrolled": true
   },
   "outputs": [
    {
     "name": "stdout",
     "output_type": "stream",
     "text": [
      "0.5420946116211639\n",
      "0.535769163216476\n",
      "0.5046865689670468\n"
     ]
    }
   ],
   "source": [
    "print(explained_variance_score(y_train,y_train_hat_L2))\n",
    "print(explained_variance_score(y_valid,y_valid_hat_L2))\n",
    "print(explained_variance_score(y_test,y_test_hat_L2))"
   ]
  },
  {
   "cell_type": "code",
   "execution_count": 69,
   "id": "15d0ae09",
   "metadata": {},
   "outputs": [
    {
     "data": {
      "text/plain": [
       "Lasso(alpha=0.1)"
      ]
     },
     "execution_count": 69,
     "metadata": {},
     "output_type": "execute_result"
    }
   ],
   "source": [
    "from sklearn.linear_model import Lasso\n",
    "L1_model = Lasso(alpha=0.1)\n",
    "L1_model.fit(X_train, y_train)"
   ]
  },
  {
   "cell_type": "code",
   "execution_count": 70,
   "id": "ad5f52e1",
   "metadata": {},
   "outputs": [],
   "source": [
    "y_train_hat_L1 = L1_model.predict(X_train)\n",
    "y_valid_hat_L1 = L1_model.predict(X_valid)\n",
    "y_test_hat_L1 = L1_model.predict(X_test)"
   ]
  },
  {
   "cell_type": "code",
   "execution_count": 71,
   "id": "2a7aaf32",
   "metadata": {
    "scrolled": true
   },
   "outputs": [
    {
     "name": "stdout",
     "output_type": "stream",
     "text": [
      "0.5420946470971445\n",
      "0.5357880246784237\n",
      "0.5046577837307524\n"
     ]
    }
   ],
   "source": [
    "print(explained_variance_score(y_train,y_train_hat_L1))\n",
    "print(explained_variance_score(y_valid,y_valid_hat_L1))\n",
    "print(explained_variance_score(y_test,y_test_hat_L1))"
   ]
  },
  {
   "cell_type": "code",
   "execution_count": 72,
   "id": "d662bf31",
   "metadata": {},
   "outputs": [
    {
     "data": {
      "text/plain": [
       "RandomForestRegressor(random_state=42)"
      ]
     },
     "execution_count": 72,
     "metadata": {},
     "output_type": "execute_result"
    }
   ],
   "source": [
    "from sklearn.ensemble import RandomForestRegressor\n",
    "rf_model = RandomForestRegressor(n_estimators=100, random_state=42)\n",
    "rf_model.fit(X_train, y_train)"
   ]
  },
  {
   "cell_type": "code",
   "execution_count": 73,
   "id": "cc26432b",
   "metadata": {},
   "outputs": [],
   "source": [
    "y_train_hat_rf = rf_model.predict(X_train)\n",
    "y_valid_hat_rf = rf_model.predict(X_valid)\n",
    "y_test_hat_rf = rf_model.predict(X_test)"
   ]
  },
  {
   "cell_type": "code",
   "execution_count": 74,
   "id": "04d323b6",
   "metadata": {},
   "outputs": [
    {
     "name": "stdout",
     "output_type": "stream",
     "text": [
      "56845.60780842912\n",
      "157361.87378319784\n",
      "152562.92480994153\n"
     ]
    }
   ],
   "source": [
    "print(mean_absolute_error(y_train,y_train_hat_rf))\n",
    "print(mean_absolute_error(y_valid,y_valid_hat_rf))\n",
    "print(mean_absolute_error(y_test,y_test_hat_rf))"
   ]
  },
  {
   "cell_type": "code",
   "execution_count": 75,
   "id": "16e2f1be",
   "metadata": {},
   "outputs": [
    {
     "name": "stdout",
     "output_type": "stream",
     "text": [
      "0.9343376710155079\n",
      "0.5249421264044607\n",
      "0.4939033147600972\n"
     ]
    }
   ],
   "source": [
    "print(explained_variance_score(y_train,y_train_hat_rf))\n",
    "print(explained_variance_score(y_valid,y_valid_hat_rf))\n",
    "print(explained_variance_score(y_test,y_test_hat_rf))"
   ]
  },
  {
   "cell_type": "code",
   "execution_count": 76,
   "id": "6fe5d153",
   "metadata": {},
   "outputs": [
    {
     "data": {
      "text/plain": [
       "GradientBoostingRegressor()"
      ]
     },
     "execution_count": 76,
     "metadata": {},
     "output_type": "execute_result"
    }
   ],
   "source": [
    "from sklearn.ensemble import GradientBoostingRegressor\n",
    "GB_model = GradientBoostingRegressor(n_estimators=100, learning_rate=0.1)\n",
    "GB_model.fit(X_train, y_train)"
   ]
  },
  {
   "cell_type": "code",
   "execution_count": 77,
   "id": "f0148242",
   "metadata": {},
   "outputs": [],
   "source": [
    "y_train_hat_GB = GB_model.predict(X_train)\n",
    "y_valid_hat_GB = GB_model.predict(X_valid)\n",
    "y_test_hat_GB = GB_model.predict(X_test)"
   ]
  },
  {
   "cell_type": "code",
   "execution_count": 78,
   "id": "aa562725",
   "metadata": {
    "scrolled": false
   },
   "outputs": [
    {
     "name": "stdout",
     "output_type": "stream",
     "text": [
      "0.7132959898854855\n",
      "0.5237320165245158\n",
      "0.4906923352417307\n"
     ]
    }
   ],
   "source": [
    "print(explained_variance_score(y_train,y_train_hat_GB))\n",
    "print(explained_variance_score(y_valid,y_valid_hat_GB))\n",
    "print(explained_variance_score(y_test,y_test_hat_GB))"
   ]
  },
  {
   "cell_type": "code",
   "execution_count": 79,
   "id": "5996e900",
   "metadata": {},
   "outputs": [
    {
     "data": {
      "text/plain": [
       "XGBRegressor(base_score=None, booster=None, callbacks=None,\n",
       "             colsample_bylevel=None, colsample_bynode=None,\n",
       "             colsample_bytree=None, early_stopping_rounds=None,\n",
       "             enable_categorical=False, eval_metric=None, feature_types=None,\n",
       "             gamma=None, gpu_id=None, grow_policy=None, importance_type=None,\n",
       "             interaction_constraints=None, learning_rate=0.05, max_bin=None,\n",
       "             max_cat_threshold=None, max_cat_to_onehot=None,\n",
       "             max_delta_step=None, max_depth=None, max_leaves=None,\n",
       "             min_child_weight=None, missing=nan, monotone_constraints=None,\n",
       "             n_estimators=1000, n_jobs=None, num_parallel_tree=None,\n",
       "             predictor=None, random_state=None, ...)"
      ]
     },
     "execution_count": 79,
     "metadata": {},
     "output_type": "execute_result"
    }
   ],
   "source": [
    "import xgboost as xgb\n",
    "from sklearn.metrics import mean_squared_error\n",
    "from sklearn.model_selection import train_test_split\n",
    "xg_model = xgb.XGBRegressor(objective='reg:squarederror', n_estimators=1000, learning_rate=0.05)\n",
    "xg_model.fit(X_train, y_train)"
   ]
  },
  {
   "cell_type": "code",
   "execution_count": 80,
   "id": "d30eb30f",
   "metadata": {},
   "outputs": [],
   "source": [
    "y_train_hat_xg = xg_model.predict(X_train)\n",
    "y_valid_hat_xg = xg_model.predict(X_valid)\n",
    "y_test_hat_xg = xg_model.predict(X_test)"
   ]
  },
  {
   "cell_type": "code",
   "execution_count": 81,
   "id": "37d3835f",
   "metadata": {},
   "outputs": [
    {
     "name": "stdout",
     "output_type": "stream",
     "text": [
      "0.9736049243818069\n",
      "0.4930249223219393\n",
      "0.42191786024949585\n"
     ]
    }
   ],
   "source": [
    "print(explained_variance_score(y_train,y_train_hat_xg))\n",
    "print(explained_variance_score(y_valid,y_valid_hat_xg))\n",
    "print(explained_variance_score(y_test,y_test_hat_xg))\n",
    "# resplit the sample to give more records to valid but still way better train metric than valid or test\n",
    "# this is a warning against overfitting, xgb is extremely good at fitting outliers at the expense of extream overfitting\n",
    "# caution when picking xgb with small sample size"
   ]
  },
  {
   "cell_type": "code",
   "execution_count": 82,
   "id": "cc69503e",
   "metadata": {},
   "outputs": [
    {
     "name": "stdout",
     "output_type": "stream",
     "text": [
      "40990.2883126796\n",
      "160619.98224085366\n",
      "153855.61485745615\n"
     ]
    }
   ],
   "source": [
    "print(mean_absolute_error(y_train,y_train_hat_xg))\n",
    "print(mean_absolute_error(y_valid,y_valid_hat_xg))\n",
    "print(mean_absolute_error(y_test,y_test_hat_xg))"
   ]
  }
 ],
 "metadata": {
  "kernelspec": {
   "display_name": "Python 3 (ipykernel)",
   "language": "python",
   "name": "python3"
  },
  "language_info": {
   "codemirror_mode": {
    "name": "ipython",
    "version": 3
   },
   "file_extension": ".py",
   "mimetype": "text/x-python",
   "name": "python",
   "nbconvert_exporter": "python",
   "pygments_lexer": "ipython3",
   "version": "3.9.13"
  }
 },
 "nbformat": 4,
 "nbformat_minor": 5
}
