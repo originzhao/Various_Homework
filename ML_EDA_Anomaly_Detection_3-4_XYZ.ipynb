{
 "cells": [
  {
   "cell_type": "code",
   "execution_count": 2,
   "id": "c586e113",
   "metadata": {},
   "outputs": [
    {
     "name": "stdout",
     "output_type": "stream",
     "text": [
      "C:\\Users\\xzhao\n"
     ]
    }
   ],
   "source": [
    "import pandas as pd\n",
    "import scipy as sp\n",
    "import matplotlib.pyplot as plt\n",
    "import scipy.io as sio\n",
    "import numpy as np\n",
    "import seaborn as sns\n",
    "import os\n",
    "print(os.getcwd())"
   ]
  },
  {
   "cell_type": "code",
   "execution_count": 3,
   "id": "163a8684",
   "metadata": {
    "scrolled": false
   },
   "outputs": [],
   "source": [
    "titanic = pd.read_csv('C:\\\\Users\\\\xzhao\\\\OneDrive\\\\Desktop\\\\Python_EDA\\\\Data\\\\train.csv')\n",
    "house = pd.read_csv('C:\\\\Users\\\\xzhao\\\\OneDrive\\\\Desktop\\\\Python_EDA\\\\Data\\\\fwddata\\\\housing.csv')\n",
    "shuttle = pd.read_csv('C:\\\\Users\\\\xzhao\\\\OneDrive\\\\Desktop\\\\Python_EDA\\\\Data\\\\fwddata\\\\shuttle.csv')"
   ]
  },
  {
   "cell_type": "code",
   "execution_count": 9,
   "id": "69df0ddd",
   "metadata": {},
   "outputs": [
    {
     "data": {
      "text/html": [
       "<div>\n",
       "<style scoped>\n",
       "    .dataframe tbody tr th:only-of-type {\n",
       "        vertical-align: middle;\n",
       "    }\n",
       "\n",
       "    .dataframe tbody tr th {\n",
       "        vertical-align: top;\n",
       "    }\n",
       "\n",
       "    .dataframe thead th {\n",
       "        text-align: right;\n",
       "    }\n",
       "</style>\n",
       "<table border=\"1\" class=\"dataframe\">\n",
       "  <thead>\n",
       "    <tr style=\"text-align: right;\">\n",
       "      <th></th>\n",
       "      <th>MedInc</th>\n",
       "      <th>HouseAge</th>\n",
       "      <th>AveRooms</th>\n",
       "      <th>AveBedrms</th>\n",
       "      <th>Population</th>\n",
       "      <th>AveOccup</th>\n",
       "      <th>Latitude</th>\n",
       "      <th>Longitude</th>\n",
       "      <th>MedHouseVal</th>\n",
       "    </tr>\n",
       "  </thead>\n",
       "  <tbody>\n",
       "    <tr>\n",
       "      <th>0</th>\n",
       "      <td>8.3252</td>\n",
       "      <td>41.0</td>\n",
       "      <td>6.984127</td>\n",
       "      <td>1.023810</td>\n",
       "      <td>322.0</td>\n",
       "      <td>2.555556</td>\n",
       "      <td>37.88</td>\n",
       "      <td>-122.23</td>\n",
       "      <td>4.526</td>\n",
       "    </tr>\n",
       "    <tr>\n",
       "      <th>1</th>\n",
       "      <td>8.3014</td>\n",
       "      <td>21.0</td>\n",
       "      <td>6.238137</td>\n",
       "      <td>0.971880</td>\n",
       "      <td>2401.0</td>\n",
       "      <td>2.109842</td>\n",
       "      <td>37.86</td>\n",
       "      <td>-122.22</td>\n",
       "      <td>3.585</td>\n",
       "    </tr>\n",
       "    <tr>\n",
       "      <th>2</th>\n",
       "      <td>7.2574</td>\n",
       "      <td>52.0</td>\n",
       "      <td>8.288136</td>\n",
       "      <td>1.073446</td>\n",
       "      <td>496.0</td>\n",
       "      <td>2.802260</td>\n",
       "      <td>37.85</td>\n",
       "      <td>-122.24</td>\n",
       "      <td>3.521</td>\n",
       "    </tr>\n",
       "    <tr>\n",
       "      <th>3</th>\n",
       "      <td>5.6431</td>\n",
       "      <td>52.0</td>\n",
       "      <td>5.817352</td>\n",
       "      <td>1.073059</td>\n",
       "      <td>558.0</td>\n",
       "      <td>2.547945</td>\n",
       "      <td>37.85</td>\n",
       "      <td>-122.25</td>\n",
       "      <td>3.413</td>\n",
       "    </tr>\n",
       "    <tr>\n",
       "      <th>4</th>\n",
       "      <td>3.8462</td>\n",
       "      <td>52.0</td>\n",
       "      <td>6.281853</td>\n",
       "      <td>1.081081</td>\n",
       "      <td>565.0</td>\n",
       "      <td>2.181467</td>\n",
       "      <td>37.85</td>\n",
       "      <td>-122.25</td>\n",
       "      <td>3.422</td>\n",
       "    </tr>\n",
       "  </tbody>\n",
       "</table>\n",
       "</div>"
      ],
      "text/plain": [
       "   MedInc  HouseAge  AveRooms  AveBedrms  Population  AveOccup  Latitude  \\\n",
       "0  8.3252      41.0  6.984127   1.023810       322.0  2.555556     37.88   \n",
       "1  8.3014      21.0  6.238137   0.971880      2401.0  2.109842     37.86   \n",
       "2  7.2574      52.0  8.288136   1.073446       496.0  2.802260     37.85   \n",
       "3  5.6431      52.0  5.817352   1.073059       558.0  2.547945     37.85   \n",
       "4  3.8462      52.0  6.281853   1.081081       565.0  2.181467     37.85   \n",
       "\n",
       "   Longitude  MedHouseVal  \n",
       "0    -122.23        4.526  \n",
       "1    -122.22        3.585  \n",
       "2    -122.24        3.521  \n",
       "3    -122.25        3.413  \n",
       "4    -122.25        3.422  "
      ]
     },
     "execution_count": 9,
     "metadata": {},
     "output_type": "execute_result"
    }
   ],
   "source": [
    "house.head()"
   ]
  },
  {
   "cell_type": "code",
   "execution_count": 11,
   "id": "6a59cde1",
   "metadata": {},
   "outputs": [
    {
     "data": {
      "text/plain": [
       "(20640, 9)"
      ]
     },
     "execution_count": 11,
     "metadata": {},
     "output_type": "execute_result"
    }
   ],
   "source": [
    "house.shape"
   ]
  },
  {
   "cell_type": "code",
   "execution_count": 28,
   "id": "a8c45e87",
   "metadata": {},
   "outputs": [
    {
     "name": "stdout",
     "output_type": "stream",
     "text": [
      "<class 'pandas.core.frame.DataFrame'>\n",
      "RangeIndex: 20640 entries, 0 to 20639\n",
      "Data columns (total 9 columns):\n",
      " #   Column       Non-Null Count  Dtype  \n",
      "---  ------       --------------  -----  \n",
      " 0   MedInc       20640 non-null  float64\n",
      " 1   HouseAge     20640 non-null  float64\n",
      " 2   AveRooms     20640 non-null  float64\n",
      " 3   AveBedrms    20640 non-null  float64\n",
      " 4   Population   20640 non-null  float64\n",
      " 5   AveOccup     20640 non-null  float64\n",
      " 6   Latitude     20640 non-null  float64\n",
      " 7   Longitude    20640 non-null  float64\n",
      " 8   MedHouseVal  20640 non-null  float64\n",
      "dtypes: float64(9)\n",
      "memory usage: 1.4 MB\n"
     ]
    }
   ],
   "source": [
    "house.info()"
   ]
  },
  {
   "cell_type": "code",
   "execution_count": 146,
   "id": "de956ab6",
   "metadata": {},
   "outputs": [
    {
     "data": {
      "text/html": [
       "<div>\n",
       "<style scoped>\n",
       "    .dataframe tbody tr th:only-of-type {\n",
       "        vertical-align: middle;\n",
       "    }\n",
       "\n",
       "    .dataframe tbody tr th {\n",
       "        vertical-align: top;\n",
       "    }\n",
       "\n",
       "    .dataframe thead th {\n",
       "        text-align: right;\n",
       "    }\n",
       "</style>\n",
       "<table border=\"1\" class=\"dataframe\">\n",
       "  <thead>\n",
       "    <tr style=\"text-align: right;\">\n",
       "      <th></th>\n",
       "      <th>MedInc</th>\n",
       "      <th>HouseAge</th>\n",
       "      <th>AveRooms</th>\n",
       "      <th>AveBedrms</th>\n",
       "      <th>Population</th>\n",
       "      <th>AveOccup</th>\n",
       "      <th>Latitude</th>\n",
       "      <th>Longitude</th>\n",
       "      <th>MedHouseVal</th>\n",
       "      <th>cluster</th>\n",
       "      <th>clustera</th>\n",
       "      <th>clusterb</th>\n",
       "    </tr>\n",
       "  </thead>\n",
       "  <tbody>\n",
       "    <tr>\n",
       "      <th>count</th>\n",
       "      <td>20640.000000</td>\n",
       "      <td>20640.000000</td>\n",
       "      <td>20640.000000</td>\n",
       "      <td>20640.000000</td>\n",
       "      <td>20640.000000</td>\n",
       "      <td>20640.000000</td>\n",
       "      <td>20640.000000</td>\n",
       "      <td>20640.000000</td>\n",
       "      <td>20640.000000</td>\n",
       "      <td>20640.000000</td>\n",
       "      <td>20640.000000</td>\n",
       "      <td>20640.000000</td>\n",
       "    </tr>\n",
       "    <tr>\n",
       "      <th>mean</th>\n",
       "      <td>3.870671</td>\n",
       "      <td>28.639486</td>\n",
       "      <td>5.429000</td>\n",
       "      <td>1.096675</td>\n",
       "      <td>1425.476744</td>\n",
       "      <td>3.070655</td>\n",
       "      <td>35.631861</td>\n",
       "      <td>-119.569704</td>\n",
       "      <td>2.068558</td>\n",
       "      <td>1.062452</td>\n",
       "      <td>2.373692</td>\n",
       "      <td>0.713178</td>\n",
       "    </tr>\n",
       "    <tr>\n",
       "      <th>std</th>\n",
       "      <td>1.899822</td>\n",
       "      <td>12.585558</td>\n",
       "      <td>2.474173</td>\n",
       "      <td>0.473911</td>\n",
       "      <td>1132.462122</td>\n",
       "      <td>10.386050</td>\n",
       "      <td>2.135952</td>\n",
       "      <td>2.003532</td>\n",
       "      <td>1.153956</td>\n",
       "      <td>1.287691</td>\n",
       "      <td>1.543571</td>\n",
       "      <td>0.619077</td>\n",
       "    </tr>\n",
       "    <tr>\n",
       "      <th>min</th>\n",
       "      <td>0.499900</td>\n",
       "      <td>1.000000</td>\n",
       "      <td>0.846154</td>\n",
       "      <td>0.333333</td>\n",
       "      <td>3.000000</td>\n",
       "      <td>0.692308</td>\n",
       "      <td>32.540000</td>\n",
       "      <td>-124.350000</td>\n",
       "      <td>0.149990</td>\n",
       "      <td>0.000000</td>\n",
       "      <td>0.000000</td>\n",
       "      <td>0.000000</td>\n",
       "    </tr>\n",
       "    <tr>\n",
       "      <th>25%</th>\n",
       "      <td>2.563400</td>\n",
       "      <td>18.000000</td>\n",
       "      <td>4.440716</td>\n",
       "      <td>1.006079</td>\n",
       "      <td>787.000000</td>\n",
       "      <td>2.429741</td>\n",
       "      <td>33.930000</td>\n",
       "      <td>-121.800000</td>\n",
       "      <td>1.196000</td>\n",
       "      <td>0.000000</td>\n",
       "      <td>1.000000</td>\n",
       "      <td>0.000000</td>\n",
       "    </tr>\n",
       "    <tr>\n",
       "      <th>50%</th>\n",
       "      <td>3.534800</td>\n",
       "      <td>29.000000</td>\n",
       "      <td>5.229129</td>\n",
       "      <td>1.048780</td>\n",
       "      <td>1166.000000</td>\n",
       "      <td>2.818116</td>\n",
       "      <td>34.260000</td>\n",
       "      <td>-118.490000</td>\n",
       "      <td>1.797000</td>\n",
       "      <td>1.000000</td>\n",
       "      <td>2.000000</td>\n",
       "      <td>1.000000</td>\n",
       "    </tr>\n",
       "    <tr>\n",
       "      <th>75%</th>\n",
       "      <td>4.743250</td>\n",
       "      <td>37.000000</td>\n",
       "      <td>6.052381</td>\n",
       "      <td>1.099526</td>\n",
       "      <td>1725.000000</td>\n",
       "      <td>3.282261</td>\n",
       "      <td>37.710000</td>\n",
       "      <td>-118.010000</td>\n",
       "      <td>2.647250</td>\n",
       "      <td>1.000000</td>\n",
       "      <td>4.000000</td>\n",
       "      <td>1.000000</td>\n",
       "    </tr>\n",
       "    <tr>\n",
       "      <th>max</th>\n",
       "      <td>15.000100</td>\n",
       "      <td>52.000000</td>\n",
       "      <td>141.909091</td>\n",
       "      <td>34.066667</td>\n",
       "      <td>35682.000000</td>\n",
       "      <td>1243.333333</td>\n",
       "      <td>41.950000</td>\n",
       "      <td>-114.310000</td>\n",
       "      <td>5.000010</td>\n",
       "      <td>4.000000</td>\n",
       "      <td>4.000000</td>\n",
       "      <td>2.000000</td>\n",
       "    </tr>\n",
       "  </tbody>\n",
       "</table>\n",
       "</div>"
      ],
      "text/plain": [
       "             MedInc      HouseAge      AveRooms     AveBedrms    Population  \\\n",
       "count  20640.000000  20640.000000  20640.000000  20640.000000  20640.000000   \n",
       "mean       3.870671     28.639486      5.429000      1.096675   1425.476744   \n",
       "std        1.899822     12.585558      2.474173      0.473911   1132.462122   \n",
       "min        0.499900      1.000000      0.846154      0.333333      3.000000   \n",
       "25%        2.563400     18.000000      4.440716      1.006079    787.000000   \n",
       "50%        3.534800     29.000000      5.229129      1.048780   1166.000000   \n",
       "75%        4.743250     37.000000      6.052381      1.099526   1725.000000   \n",
       "max       15.000100     52.000000    141.909091     34.066667  35682.000000   \n",
       "\n",
       "           AveOccup      Latitude     Longitude   MedHouseVal       cluster  \\\n",
       "count  20640.000000  20640.000000  20640.000000  20640.000000  20640.000000   \n",
       "mean       3.070655     35.631861   -119.569704      2.068558      1.062452   \n",
       "std       10.386050      2.135952      2.003532      1.153956      1.287691   \n",
       "min        0.692308     32.540000   -124.350000      0.149990      0.000000   \n",
       "25%        2.429741     33.930000   -121.800000      1.196000      0.000000   \n",
       "50%        2.818116     34.260000   -118.490000      1.797000      1.000000   \n",
       "75%        3.282261     37.710000   -118.010000      2.647250      1.000000   \n",
       "max     1243.333333     41.950000   -114.310000      5.000010      4.000000   \n",
       "\n",
       "           clustera      clusterb  \n",
       "count  20640.000000  20640.000000  \n",
       "mean       2.373692      0.713178  \n",
       "std        1.543571      0.619077  \n",
       "min        0.000000      0.000000  \n",
       "25%        1.000000      0.000000  \n",
       "50%        2.000000      1.000000  \n",
       "75%        4.000000      1.000000  \n",
       "max        4.000000      2.000000  "
      ]
     },
     "execution_count": 146,
     "metadata": {},
     "output_type": "execute_result"
    }
   ],
   "source": [
    "house.describe()"
   ]
  },
  {
   "cell_type": "code",
   "execution_count": 18,
   "id": "9dee4fa6",
   "metadata": {},
   "outputs": [
    {
     "name": "stdout",
     "output_type": "stream",
     "text": [
      "41.95\n",
      "32.54\n",
      "-114.31\n",
      "-124.35\n"
     ]
    }
   ],
   "source": [
    "print(house['Latitude'].max())\n",
    "print(house['Latitude'].min())\n",
    "print(house['Longitude'].max())\n",
    "print(house['Longitude'].min())"
   ]
  },
  {
   "cell_type": "code",
   "execution_count": 20,
   "id": "36656ddf",
   "metadata": {},
   "outputs": [
    {
     "data": {
      "text/html": [
       "<div>\n",
       "<style scoped>\n",
       "    .dataframe tbody tr th:only-of-type {\n",
       "        vertical-align: middle;\n",
       "    }\n",
       "\n",
       "    .dataframe tbody tr th {\n",
       "        vertical-align: top;\n",
       "    }\n",
       "\n",
       "    .dataframe thead th {\n",
       "        text-align: right;\n",
       "    }\n",
       "</style>\n",
       "<table border=\"1\" class=\"dataframe\">\n",
       "  <thead>\n",
       "    <tr style=\"text-align: right;\">\n",
       "      <th></th>\n",
       "      <th>MedInc</th>\n",
       "      <th>HouseAge</th>\n",
       "      <th>AveRooms</th>\n",
       "      <th>AveBedrms</th>\n",
       "      <th>Population</th>\n",
       "      <th>AveOccup</th>\n",
       "      <th>Latitude</th>\n",
       "      <th>Longitude</th>\n",
       "      <th>MedHouseVal</th>\n",
       "    </tr>\n",
       "  </thead>\n",
       "  <tbody>\n",
       "  </tbody>\n",
       "</table>\n",
       "</div>"
      ],
      "text/plain": [
       "Empty DataFrame\n",
       "Columns: [MedInc, HouseAge, AveRooms, AveBedrms, Population, AveOccup, Latitude, Longitude, MedHouseVal]\n",
       "Index: []"
      ]
     },
     "execution_count": 20,
     "metadata": {},
     "output_type": "execute_result"
    }
   ],
   "source": [
    "house[house['Latitude'].isna()]"
   ]
  },
  {
   "cell_type": "code",
   "execution_count": 22,
   "id": "b2c46162",
   "metadata": {
    "scrolled": true
   },
   "outputs": [
    {
     "data": {
      "text/html": [
       "<div>\n",
       "<style scoped>\n",
       "    .dataframe tbody tr th:only-of-type {\n",
       "        vertical-align: middle;\n",
       "    }\n",
       "\n",
       "    .dataframe tbody tr th {\n",
       "        vertical-align: top;\n",
       "    }\n",
       "\n",
       "    .dataframe thead th {\n",
       "        text-align: right;\n",
       "    }\n",
       "</style>\n",
       "<table border=\"1\" class=\"dataframe\">\n",
       "  <thead>\n",
       "    <tr style=\"text-align: right;\">\n",
       "      <th></th>\n",
       "      <th>MedInc</th>\n",
       "      <th>HouseAge</th>\n",
       "      <th>AveRooms</th>\n",
       "      <th>AveBedrms</th>\n",
       "      <th>Population</th>\n",
       "      <th>AveOccup</th>\n",
       "      <th>Latitude</th>\n",
       "      <th>Longitude</th>\n",
       "      <th>MedHouseVal</th>\n",
       "    </tr>\n",
       "  </thead>\n",
       "  <tbody>\n",
       "  </tbody>\n",
       "</table>\n",
       "</div>"
      ],
      "text/plain": [
       "Empty DataFrame\n",
       "Columns: [MedInc, HouseAge, AveRooms, AveBedrms, Population, AveOccup, Latitude, Longitude, MedHouseVal]\n",
       "Index: []"
      ]
     },
     "execution_count": 22,
     "metadata": {},
     "output_type": "execute_result"
    }
   ],
   "source": [
    "house[house['Longitude'].isna()]"
   ]
  },
  {
   "cell_type": "code",
   "execution_count": 33,
   "id": "399cfab8",
   "metadata": {
    "scrolled": true
   },
   "outputs": [
    {
     "data": {
      "text/plain": [
       "0        5\n",
       "1        5\n",
       "2        5\n",
       "3        5\n",
       "4        5\n",
       "        ..\n",
       "20635    5\n",
       "20636    5\n",
       "20637    5\n",
       "20638    5\n",
       "20639    5\n",
       "Name: Latitude, Length: 20640, dtype: int64"
      ]
     },
     "execution_count": 33,
     "metadata": {},
     "output_type": "execute_result"
    }
   ],
   "source": [
    "house['Latitude'].astype(str).str.len()"
   ]
  },
  {
   "cell_type": "code",
   "execution_count": 50,
   "id": "46fbb1fd",
   "metadata": {
    "scrolled": true
   },
   "outputs": [
    {
     "data": {
      "image/png": "[encoded data removed]",
      "text/plain": [
       "<Figure size 640x480 with 1 Axes>"
      ]
     },
     "metadata": {},
     "output_type": "display_data"
    }
   ],
   "source": [
    "sns.scatterplot(data = house, y='Latitude', x='Longitude',alpha = 0.1)\n",
    "plt.show()"
   ]
  },
  {
   "cell_type": "code",
   "execution_count": 53,
   "id": "5dcb54f0",
   "metadata": {},
   "outputs": [
    {
     "data": {
      "text/html": [
       "<div>\n",
       "<style scoped>\n",
       "    .dataframe tbody tr th:only-of-type {\n",
       "        vertical-align: middle;\n",
       "    }\n",
       "\n",
       "    .dataframe tbody tr th {\n",
       "        vertical-align: top;\n",
       "    }\n",
       "\n",
       "    .dataframe thead th {\n",
       "        text-align: right;\n",
       "    }\n",
       "</style>\n",
       "<table border=\"1\" class=\"dataframe\">\n",
       "  <thead>\n",
       "    <tr style=\"text-align: right;\">\n",
       "      <th></th>\n",
       "      <th>Longitude</th>\n",
       "      <th>Latitude</th>\n",
       "    </tr>\n",
       "  </thead>\n",
       "  <tbody>\n",
       "    <tr>\n",
       "      <th>0</th>\n",
       "      <td>-122.23</td>\n",
       "      <td>37.88</td>\n",
       "    </tr>\n",
       "    <tr>\n",
       "      <th>1</th>\n",
       "      <td>-122.22</td>\n",
       "      <td>37.86</td>\n",
       "    </tr>\n",
       "    <tr>\n",
       "      <th>2</th>\n",
       "      <td>-122.24</td>\n",
       "      <td>37.85</td>\n",
       "    </tr>\n",
       "    <tr>\n",
       "      <th>3</th>\n",
       "      <td>-122.25</td>\n",
       "      <td>37.85</td>\n",
       "    </tr>\n",
       "    <tr>\n",
       "      <th>4</th>\n",
       "      <td>-122.25</td>\n",
       "      <td>37.85</td>\n",
       "    </tr>\n",
       "    <tr>\n",
       "      <th>...</th>\n",
       "      <td>...</td>\n",
       "      <td>...</td>\n",
       "    </tr>\n",
       "    <tr>\n",
       "      <th>20635</th>\n",
       "      <td>-121.09</td>\n",
       "      <td>39.48</td>\n",
       "    </tr>\n",
       "    <tr>\n",
       "      <th>20636</th>\n",
       "      <td>-121.21</td>\n",
       "      <td>39.49</td>\n",
       "    </tr>\n",
       "    <tr>\n",
       "      <th>20637</th>\n",
       "      <td>-121.22</td>\n",
       "      <td>39.43</td>\n",
       "    </tr>\n",
       "    <tr>\n",
       "      <th>20638</th>\n",
       "      <td>-121.32</td>\n",
       "      <td>39.43</td>\n",
       "    </tr>\n",
       "    <tr>\n",
       "      <th>20639</th>\n",
       "      <td>-121.24</td>\n",
       "      <td>39.37</td>\n",
       "    </tr>\n",
       "  </tbody>\n",
       "</table>\n",
       "<p>20640 rows × 2 columns</p>\n",
       "</div>"
      ],
      "text/plain": [
       "       Longitude  Latitude\n",
       "0        -122.23     37.88\n",
       "1        -122.22     37.86\n",
       "2        -122.24     37.85\n",
       "3        -122.25     37.85\n",
       "4        -122.25     37.85\n",
       "...          ...       ...\n",
       "20635    -121.09     39.48\n",
       "20636    -121.21     39.49\n",
       "20637    -121.22     39.43\n",
       "20638    -121.32     39.43\n",
       "20639    -121.24     39.37\n",
       "\n",
       "[20640 rows x 2 columns]"
      ]
     },
     "execution_count": 53,
     "metadata": {},
     "output_type": "execute_result"
    }
   ],
   "source": [
    "loc = house.loc[:,['Longitude','Latitude']]\n",
    "loc"
   ]
  },
  {
   "cell_type": "code",
   "execution_count": 109,
   "id": "b4c72ace",
   "metadata": {},
   "outputs": [
    {
     "name": "stdout",
     "output_type": "stream",
     "text": [
      "[[-116.93539284   33.05150628]\n",
      " [-121.8671712    37.83854225]\n",
      " [-119.6896937    35.98288145]\n",
      " [-122.2855336    39.91464427]\n",
      " [-118.11860815   34.01336963]]\n",
      "[[-121.93029495   38.11365147]\n",
      " [-117.88499501   33.82447204]\n",
      " [-119.71065654   35.9966522 ]]\n"
     ]
    }
   ],
   "source": [
    "from sklearn.cluster import KMeans #import function\n",
    "\n",
    "kmeansa = KMeans(n_clusters=5, random_state=0) #define a model\n",
    "kmeansa.fit(loc) #train model also, remember to normalize the data before fitting to model. it so happens cordinates are natually normalized, skipping it did not mess it in this case\n",
    "labelsa = kmeansa.predict(loc) #use trained model to predict(in k means context, find the centroid)\n",
    "centroidsa = kmeansa.cluster_centers_\n",
    "\n",
    "kmeansb = KMeans(n_clusters=3, random_state=0) #define a model\n",
    "kmeansb.fit(loc) #train model\n",
    "labelsb = kmeansb.predict(loc) #use trained model to predict(in k means context, find the centroid)\n",
    "centroidsb = kmeansb.cluster_centers_\n",
    "\n",
    "print(centroidsa)\n",
    "\n",
    "print(centroidsb)"
   ]
  },
  {
   "cell_type": "code",
   "execution_count": 110,
   "id": "c2cd6dc6",
   "metadata": {},
   "outputs": [],
   "source": [
    "house['clustera'] = labelsa\n",
    "house['clusterb'] = labelsb"
   ]
  },
  {
   "cell_type": "code",
   "execution_count": 116,
   "id": "0ad7d825",
   "metadata": {},
   "outputs": [
    {
     "data": {
      "text/html": [
       "<div>\n",
       "<style scoped>\n",
       "    .dataframe tbody tr th:only-of-type {\n",
       "        vertical-align: middle;\n",
       "    }\n",
       "\n",
       "    .dataframe tbody tr th {\n",
       "        vertical-align: top;\n",
       "    }\n",
       "\n",
       "    .dataframe thead th {\n",
       "        text-align: right;\n",
       "    }\n",
       "</style>\n",
       "<table border=\"1\" class=\"dataframe\">\n",
       "  <thead>\n",
       "    <tr style=\"text-align: right;\">\n",
       "      <th></th>\n",
       "      <th>Longitude</th>\n",
       "      <th>Latitude</th>\n",
       "    </tr>\n",
       "  </thead>\n",
       "  <tbody>\n",
       "    <tr>\n",
       "      <th>0</th>\n",
       "      <td>-118.135403</td>\n",
       "      <td>34.018440</td>\n",
       "    </tr>\n",
       "    <tr>\n",
       "      <th>1</th>\n",
       "      <td>-121.876069</td>\n",
       "      <td>37.841386</td>\n",
       "    </tr>\n",
       "    <tr>\n",
       "      <th>2</th>\n",
       "      <td>-119.708193</td>\n",
       "      <td>36.092850</td>\n",
       "    </tr>\n",
       "    <tr>\n",
       "      <th>3</th>\n",
       "      <td>-122.283670</td>\n",
       "      <td>39.916083</td>\n",
       "    </tr>\n",
       "    <tr>\n",
       "      <th>4</th>\n",
       "      <td>-116.940294</td>\n",
       "      <td>33.058349</td>\n",
       "    </tr>\n",
       "  </tbody>\n",
       "</table>\n",
       "</div>"
      ],
      "text/plain": [
       "    Longitude   Latitude\n",
       "0 -118.135403  34.018440\n",
       "1 -121.876069  37.841386\n",
       "2 -119.708193  36.092850\n",
       "3 -122.283670  39.916083\n",
       "4 -116.940294  33.058349"
      ]
     },
     "execution_count": 116,
     "metadata": {},
     "output_type": "execute_result"
    }
   ],
   "source": [
    "clusters = pd.DataFrame(kmeans.cluster_centers_)\n",
    "clusters.columns = ['Longitude','Latitude']\n",
    "clusters"
   ]
  },
  {
   "cell_type": "code",
   "execution_count": 105,
   "id": "5d92d1e1",
   "metadata": {},
   "outputs": [
    {
     "name": "stdout",
     "output_type": "stream",
     "text": [
      "[0 2 1]\n",
      "[0 2 1]\n"
     ]
    }
   ],
   "source": [
    "print(house['clustera'].unique())\n",
    "print(house['clusterb'].unique())"
   ]
  },
  {
   "cell_type": "code",
   "execution_count": 60,
   "id": "d23db811",
   "metadata": {},
   "outputs": [],
   "source": [
    "color_list = {0:'red',1:'blue',2:'green',3:'black',4:'yellow',5:'purple',6:'hotpink'}"
   ]
  },
  {
   "cell_type": "code",
   "execution_count": 119,
   "id": "9ba26dd7",
   "metadata": {
    "scrolled": false
   },
   "outputs": [
    {
     "data": {
      "image/png": "[encoded data removed]",
      "text/plain": [
       "<Figure size 640x480 with 1 Axes>"
      ]
     },
     "metadata": {},
     "output_type": "display_data"
    }
   ],
   "source": [
    "# fig, ax = plt.subplots(2) #define an empty plot\n",
    "\n",
    "# ax[0].scatter(house['Longitude'], house['Latitude'], c=house['clustera'].map(color_list), alpha = 0.1)\n",
    "# ax[1].scatter(house['Longitude'], house['Latitude'], c=house['clusterb'].map(color_list), alpha = 0.1)\n",
    "\n",
    "fig, ax = plt.subplots() #define an empty plot\n",
    "\n",
    "ax.scatter(house['Longitude'], house['Latitude'], c=house['clustera'].map(color_list), alpha = 0.1)\n",
    "ax.scatter(clusters['Longitude'],clusters['Latitude'], marker='*', alpha=1, s=200,c='hotpink')\n",
    "plt.show()"
   ]
  },
  {
   "cell_type": "code",
   "execution_count": 124,
   "id": "e1ea4148",
   "metadata": {
    "scrolled": true
   },
   "outputs": [
    {
     "name": "stdout",
     "output_type": "stream",
     "text": [
      "10338.32615584236\n",
      "18287.012026287335\n"
     ]
    }
   ],
   "source": [
    "#inertia total distance from their corespoding centroid\n",
    "print(kmeansa.inertia_)\n",
    "print(kmeansb.inertia_)"
   ]
  },
  {
   "cell_type": "code",
   "execution_count": 142,
   "id": "36cc0562",
   "metadata": {},
   "outputs": [],
   "source": [
    "K = range(2,20)\n",
    "errors = [] # build a list for each different k number\n",
    "for k in K:\n",
    "    kmeans = KMeans(n_clusters=k, random_state=0) \n",
    "    kmeans.fit(loc) \n",
    "    errors.append(kmeans.inertia_)"
   ]
  },
  {
   "cell_type": "code",
   "execution_count": 143,
   "id": "560ba7e5",
   "metadata": {
    "scrolled": true
   },
   "outputs": [
    {
     "data": {
      "image/png": "[encoded data removed]",
      "text/plain": [
       "<Figure size 640x480 with 1 Axes>"
      ]
     },
     "metadata": {},
     "output_type": "display_data"
    }
   ],
   "source": [
    "plt.plot(K,errors)\n",
    "plt.show()"
   ]
  },
  {
   "cell_type": "code",
   "execution_count": 148,
   "id": "75a8ebf1",
   "metadata": {},
   "outputs": [
    {
     "data": {
      "text/html": [
       "<div>\n",
       "<style scoped>\n",
       "    .dataframe tbody tr th:only-of-type {\n",
       "        vertical-align: middle;\n",
       "    }\n",
       "\n",
       "    .dataframe tbody tr th {\n",
       "        vertical-align: top;\n",
       "    }\n",
       "\n",
       "    .dataframe thead th {\n",
       "        text-align: right;\n",
       "    }\n",
       "</style>\n",
       "<table border=\"1\" class=\"dataframe\">\n",
       "  <thead>\n",
       "    <tr style=\"text-align: right;\">\n",
       "      <th></th>\n",
       "      <th>0</th>\n",
       "      <th>1</th>\n",
       "      <th>2</th>\n",
       "      <th>3</th>\n",
       "      <th>4</th>\n",
       "      <th>5</th>\n",
       "      <th>6</th>\n",
       "      <th>7</th>\n",
       "      <th>8</th>\n",
       "      <th>9</th>\n",
       "    </tr>\n",
       "  </thead>\n",
       "  <tbody>\n",
       "    <tr>\n",
       "      <th>0</th>\n",
       "      <td>50</td>\n",
       "      <td>21</td>\n",
       "      <td>77</td>\n",
       "      <td>0</td>\n",
       "      <td>28</td>\n",
       "      <td>0</td>\n",
       "      <td>27</td>\n",
       "      <td>48</td>\n",
       "      <td>22</td>\n",
       "      <td>1</td>\n",
       "    </tr>\n",
       "    <tr>\n",
       "      <th>1</th>\n",
       "      <td>53</td>\n",
       "      <td>0</td>\n",
       "      <td>82</td>\n",
       "      <td>0</td>\n",
       "      <td>52</td>\n",
       "      <td>-5</td>\n",
       "      <td>29</td>\n",
       "      <td>30</td>\n",
       "      <td>2</td>\n",
       "      <td>0</td>\n",
       "    </tr>\n",
       "    <tr>\n",
       "      <th>2</th>\n",
       "      <td>37</td>\n",
       "      <td>0</td>\n",
       "      <td>76</td>\n",
       "      <td>0</td>\n",
       "      <td>28</td>\n",
       "      <td>18</td>\n",
       "      <td>40</td>\n",
       "      <td>48</td>\n",
       "      <td>8</td>\n",
       "      <td>0</td>\n",
       "    </tr>\n",
       "    <tr>\n",
       "      <th>3</th>\n",
       "      <td>37</td>\n",
       "      <td>0</td>\n",
       "      <td>79</td>\n",
       "      <td>0</td>\n",
       "      <td>34</td>\n",
       "      <td>-26</td>\n",
       "      <td>43</td>\n",
       "      <td>46</td>\n",
       "      <td>2</td>\n",
       "      <td>0</td>\n",
       "    </tr>\n",
       "    <tr>\n",
       "      <th>4</th>\n",
       "      <td>85</td>\n",
       "      <td>0</td>\n",
       "      <td>88</td>\n",
       "      <td>-4</td>\n",
       "      <td>6</td>\n",
       "      <td>1</td>\n",
       "      <td>3</td>\n",
       "      <td>83</td>\n",
       "      <td>80</td>\n",
       "      <td>1</td>\n",
       "    </tr>\n",
       "  </tbody>\n",
       "</table>\n",
       "</div>"
      ],
      "text/plain": [
       "    0   1   2  3   4   5   6   7   8  9\n",
       "0  50  21  77  0  28   0  27  48  22  1\n",
       "1  53   0  82  0  52  -5  29  30   2  0\n",
       "2  37   0  76  0  28  18  40  48   8  0\n",
       "3  37   0  79  0  34 -26  43  46   2  0\n",
       "4  85   0  88 -4   6   1   3  83  80  1"
      ]
     },
     "execution_count": 148,
     "metadata": {},
     "output_type": "execute_result"
    }
   ],
   "source": [
    "shuttle.head()"
   ]
  },
  {
   "cell_type": "code",
   "execution_count": 151,
   "id": "064d53c1",
   "metadata": {
    "scrolled": true
   },
   "outputs": [
    {
     "data": {
      "text/plain": [
       "(49097, 10)"
      ]
     },
     "execution_count": 151,
     "metadata": {},
     "output_type": "execute_result"
    }
   ],
   "source": [
    "shuttle.shape"
   ]
  },
  {
   "cell_type": "markdown",
   "id": "cf94c269",
   "metadata": {},
   "source": [
    "PCA"
   ]
  },
  {
   "cell_type": "code",
   "execution_count": 154,
   "id": "c26e3bdf",
   "metadata": {},
   "outputs": [
    {
     "data": {
      "text/html": [
       "<div>\n",
       "<style scoped>\n",
       "    .dataframe tbody tr th:only-of-type {\n",
       "        vertical-align: middle;\n",
       "    }\n",
       "\n",
       "    .dataframe tbody tr th {\n",
       "        vertical-align: top;\n",
       "    }\n",
       "\n",
       "    .dataframe thead th {\n",
       "        text-align: right;\n",
       "    }\n",
       "</style>\n",
       "<table border=\"1\" class=\"dataframe\">\n",
       "  <thead>\n",
       "    <tr style=\"text-align: right;\">\n",
       "      <th></th>\n",
       "      <th>MedInc</th>\n",
       "      <th>HouseAge</th>\n",
       "      <th>AveRooms</th>\n",
       "      <th>AveBedrms</th>\n",
       "      <th>Population</th>\n",
       "      <th>AveOccup</th>\n",
       "      <th>Latitude</th>\n",
       "      <th>Longitude</th>\n",
       "      <th>MedHouseVal</th>\n",
       "    </tr>\n",
       "  </thead>\n",
       "  <tbody>\n",
       "    <tr>\n",
       "      <th>0</th>\n",
       "      <td>8.3252</td>\n",
       "      <td>41.0</td>\n",
       "      <td>6.984127</td>\n",
       "      <td>1.023810</td>\n",
       "      <td>322.0</td>\n",
       "      <td>2.555556</td>\n",
       "      <td>37.88</td>\n",
       "      <td>-122.23</td>\n",
       "      <td>4.526</td>\n",
       "    </tr>\n",
       "    <tr>\n",
       "      <th>1</th>\n",
       "      <td>8.3014</td>\n",
       "      <td>21.0</td>\n",
       "      <td>6.238137</td>\n",
       "      <td>0.971880</td>\n",
       "      <td>2401.0</td>\n",
       "      <td>2.109842</td>\n",
       "      <td>37.86</td>\n",
       "      <td>-122.22</td>\n",
       "      <td>3.585</td>\n",
       "    </tr>\n",
       "    <tr>\n",
       "      <th>2</th>\n",
       "      <td>7.2574</td>\n",
       "      <td>52.0</td>\n",
       "      <td>8.288136</td>\n",
       "      <td>1.073446</td>\n",
       "      <td>496.0</td>\n",
       "      <td>2.802260</td>\n",
       "      <td>37.85</td>\n",
       "      <td>-122.24</td>\n",
       "      <td>3.521</td>\n",
       "    </tr>\n",
       "    <tr>\n",
       "      <th>3</th>\n",
       "      <td>5.6431</td>\n",
       "      <td>52.0</td>\n",
       "      <td>5.817352</td>\n",
       "      <td>1.073059</td>\n",
       "      <td>558.0</td>\n",
       "      <td>2.547945</td>\n",
       "      <td>37.85</td>\n",
       "      <td>-122.25</td>\n",
       "      <td>3.413</td>\n",
       "    </tr>\n",
       "    <tr>\n",
       "      <th>4</th>\n",
       "      <td>3.8462</td>\n",
       "      <td>52.0</td>\n",
       "      <td>6.281853</td>\n",
       "      <td>1.081081</td>\n",
       "      <td>565.0</td>\n",
       "      <td>2.181467</td>\n",
       "      <td>37.85</td>\n",
       "      <td>-122.25</td>\n",
       "      <td>3.422</td>\n",
       "    </tr>\n",
       "  </tbody>\n",
       "</table>\n",
       "</div>"
      ],
      "text/plain": [
       "   MedInc  HouseAge  AveRooms  AveBedrms  Population  AveOccup  Latitude  \\\n",
       "0  8.3252      41.0  6.984127   1.023810       322.0  2.555556     37.88   \n",
       "1  8.3014      21.0  6.238137   0.971880      2401.0  2.109842     37.86   \n",
       "2  7.2574      52.0  8.288136   1.073446       496.0  2.802260     37.85   \n",
       "3  5.6431      52.0  5.817352   1.073059       558.0  2.547945     37.85   \n",
       "4  3.8462      52.0  6.281853   1.081081       565.0  2.181467     37.85   \n",
       "\n",
       "   Longitude  MedHouseVal  \n",
       "0    -122.23        4.526  \n",
       "1    -122.22        3.585  \n",
       "2    -122.24        3.521  \n",
       "3    -122.25        3.413  \n",
       "4    -122.25        3.422  "
      ]
     },
     "execution_count": 154,
     "metadata": {},
     "output_type": "execute_result"
    }
   ],
   "source": [
    "house.head()"
   ]
  },
  {
   "cell_type": "code",
   "execution_count": 160,
   "id": "e71660a0",
   "metadata": {
    "scrolled": true
   },
   "outputs": [
    {
     "data": {
      "image/png": "[encoded data removed]",
      "text/plain": [
       "<Figure size 640x480 with 1 Axes>"
      ]
     },
     "metadata": {},
     "output_type": "display_data"
    }
   ],
   "source": [
    "sns.scatterplot(data = house, y='AveRooms', x='AveBedrms',alpha = 0.2)\n",
    "plt.show()"
   ]
  },
  {
   "cell_type": "code",
   "execution_count": 161,
   "id": "dca4b490",
   "metadata": {
    "scrolled": false
   },
   "outputs": [
    {
     "data": {
      "text/html": [
       "<div>\n",
       "<style scoped>\n",
       "    .dataframe tbody tr th:only-of-type {\n",
       "        vertical-align: middle;\n",
       "    }\n",
       "\n",
       "    .dataframe tbody tr th {\n",
       "        vertical-align: top;\n",
       "    }\n",
       "\n",
       "    .dataframe thead th {\n",
       "        text-align: right;\n",
       "    }\n",
       "</style>\n",
       "<table border=\"1\" class=\"dataframe\">\n",
       "  <thead>\n",
       "    <tr style=\"text-align: right;\">\n",
       "      <th></th>\n",
       "      <th>MedInc</th>\n",
       "      <th>HouseAge</th>\n",
       "      <th>AveRooms</th>\n",
       "      <th>AveBedrms</th>\n",
       "      <th>Population</th>\n",
       "      <th>AveOccup</th>\n",
       "      <th>Latitude</th>\n",
       "      <th>Longitude</th>\n",
       "      <th>MedHouseVal</th>\n",
       "    </tr>\n",
       "  </thead>\n",
       "  <tbody>\n",
       "    <tr>\n",
       "      <th>MedInc</th>\n",
       "      <td>1.000000</td>\n",
       "      <td>-0.119034</td>\n",
       "      <td>0.326895</td>\n",
       "      <td>-0.062040</td>\n",
       "      <td>0.004834</td>\n",
       "      <td>0.018766</td>\n",
       "      <td>-0.079809</td>\n",
       "      <td>-0.015176</td>\n",
       "      <td>0.688075</td>\n",
       "    </tr>\n",
       "    <tr>\n",
       "      <th>HouseAge</th>\n",
       "      <td>-0.119034</td>\n",
       "      <td>1.000000</td>\n",
       "      <td>-0.153277</td>\n",
       "      <td>-0.077747</td>\n",
       "      <td>-0.296244</td>\n",
       "      <td>0.013191</td>\n",
       "      <td>0.011173</td>\n",
       "      <td>-0.108197</td>\n",
       "      <td>0.105623</td>\n",
       "    </tr>\n",
       "    <tr>\n",
       "      <th>AveRooms</th>\n",
       "      <td>0.326895</td>\n",
       "      <td>-0.153277</td>\n",
       "      <td>1.000000</td>\n",
       "      <td>0.847621</td>\n",
       "      <td>-0.072213</td>\n",
       "      <td>-0.004852</td>\n",
       "      <td>0.106389</td>\n",
       "      <td>-0.027540</td>\n",
       "      <td>0.151948</td>\n",
       "    </tr>\n",
       "    <tr>\n",
       "      <th>AveBedrms</th>\n",
       "      <td>-0.062040</td>\n",
       "      <td>-0.077747</td>\n",
       "      <td>0.847621</td>\n",
       "      <td>1.000000</td>\n",
       "      <td>-0.066197</td>\n",
       "      <td>-0.006181</td>\n",
       "      <td>0.069721</td>\n",
       "      <td>0.013344</td>\n",
       "      <td>-0.046701</td>\n",
       "    </tr>\n",
       "    <tr>\n",
       "      <th>Population</th>\n",
       "      <td>0.004834</td>\n",
       "      <td>-0.296244</td>\n",
       "      <td>-0.072213</td>\n",
       "      <td>-0.066197</td>\n",
       "      <td>1.000000</td>\n",
       "      <td>0.069863</td>\n",
       "      <td>-0.108785</td>\n",
       "      <td>0.099773</td>\n",
       "      <td>-0.024650</td>\n",
       "    </tr>\n",
       "    <tr>\n",
       "      <th>AveOccup</th>\n",
       "      <td>0.018766</td>\n",
       "      <td>0.013191</td>\n",
       "      <td>-0.004852</td>\n",
       "      <td>-0.006181</td>\n",
       "      <td>0.069863</td>\n",
       "      <td>1.000000</td>\n",
       "      <td>0.002366</td>\n",
       "      <td>0.002476</td>\n",
       "      <td>-0.023737</td>\n",
       "    </tr>\n",
       "    <tr>\n",
       "      <th>Latitude</th>\n",
       "      <td>-0.079809</td>\n",
       "      <td>0.011173</td>\n",
       "      <td>0.106389</td>\n",
       "      <td>0.069721</td>\n",
       "      <td>-0.108785</td>\n",
       "      <td>0.002366</td>\n",
       "      <td>1.000000</td>\n",
       "      <td>-0.924664</td>\n",
       "      <td>-0.144160</td>\n",
       "    </tr>\n",
       "    <tr>\n",
       "      <th>Longitude</th>\n",
       "      <td>-0.015176</td>\n",
       "      <td>-0.108197</td>\n",
       "      <td>-0.027540</td>\n",
       "      <td>0.013344</td>\n",
       "      <td>0.099773</td>\n",
       "      <td>0.002476</td>\n",
       "      <td>-0.924664</td>\n",
       "      <td>1.000000</td>\n",
       "      <td>-0.045967</td>\n",
       "    </tr>\n",
       "    <tr>\n",
       "      <th>MedHouseVal</th>\n",
       "      <td>0.688075</td>\n",
       "      <td>0.105623</td>\n",
       "      <td>0.151948</td>\n",
       "      <td>-0.046701</td>\n",
       "      <td>-0.024650</td>\n",
       "      <td>-0.023737</td>\n",
       "      <td>-0.144160</td>\n",
       "      <td>-0.045967</td>\n",
       "      <td>1.000000</td>\n",
       "    </tr>\n",
       "  </tbody>\n",
       "</table>\n",
       "</div>"
      ],
      "text/plain": [
       "               MedInc  HouseAge  AveRooms  AveBedrms  Population  AveOccup  \\\n",
       "MedInc       1.000000 -0.119034  0.326895  -0.062040    0.004834  0.018766   \n",
       "HouseAge    -0.119034  1.000000 -0.153277  -0.077747   -0.296244  0.013191   \n",
       "AveRooms     0.326895 -0.153277  1.000000   0.847621   -0.072213 -0.004852   \n",
       "AveBedrms   -0.062040 -0.077747  0.847621   1.000000   -0.066197 -0.006181   \n",
       "Population   0.004834 -0.296244 -0.072213  -0.066197    1.000000  0.069863   \n",
       "AveOccup     0.018766  0.013191 -0.004852  -0.006181    0.069863  1.000000   \n",
       "Latitude    -0.079809  0.011173  0.106389   0.069721   -0.108785  0.002366   \n",
       "Longitude   -0.015176 -0.108197 -0.027540   0.013344    0.099773  0.002476   \n",
       "MedHouseVal  0.688075  0.105623  0.151948  -0.046701   -0.024650 -0.023737   \n",
       "\n",
       "             Latitude  Longitude  MedHouseVal  \n",
       "MedInc      -0.079809  -0.015176     0.688075  \n",
       "HouseAge     0.011173  -0.108197     0.105623  \n",
       "AveRooms     0.106389  -0.027540     0.151948  \n",
       "AveBedrms    0.069721   0.013344    -0.046701  \n",
       "Population  -0.108785   0.099773    -0.024650  \n",
       "AveOccup     0.002366   0.002476    -0.023737  \n",
       "Latitude     1.000000  -0.924664    -0.144160  \n",
       "Longitude   -0.924664   1.000000    -0.045967  \n",
       "MedHouseVal -0.144160  -0.045967     1.000000  "
      ]
     },
     "execution_count": 161,
     "metadata": {},
     "output_type": "execute_result"
    }
   ],
   "source": [
    "house.corr() # 2 approach, we notice Averoom and Avebedroom are highly correlated"
   ]
  },
  {
   "cell_type": "code",
   "execution_count": 182,
   "id": "952f9e97",
   "metadata": {},
   "outputs": [
    {
     "data": {
      "text/plain": [
       "PCA(n_components=1)"
      ]
     },
     "execution_count": 182,
     "metadata": {},
     "output_type": "execute_result"
    }
   ],
   "source": [
    "from sklearn.decomposition import PCA\n",
    "pca = PCA(n_components=1)\n",
    "pca.fit(house[['AveRooms','AveBedrms']])"
   ]
  },
  {
   "cell_type": "code",
   "execution_count": 184,
   "id": "7e1ab07f",
   "metadata": {},
   "outputs": [
    {
     "data": {
      "text/plain": [
       "array([0.9902947])"
      ]
     },
     "execution_count": 184,
     "metadata": {},
     "output_type": "execute_result"
    }
   ],
   "source": [
    "pca.explained_variance_ratio_"
   ]
  },
  {
   "cell_type": "code",
   "execution_count": 165,
   "id": "bd82ab13",
   "metadata": {},
   "outputs": [],
   "source": [
    "house['room_pca'] = pca.transform(house[['AveRooms','AveBedrms']])"
   ]
  },
  {
   "cell_type": "code",
   "execution_count": 166,
   "id": "d670fa96",
   "metadata": {
    "scrolled": true
   },
   "outputs": [
    {
     "data": {
      "text/html": [
       "<div>\n",
       "<style scoped>\n",
       "    .dataframe tbody tr th:only-of-type {\n",
       "        vertical-align: middle;\n",
       "    }\n",
       "\n",
       "    .dataframe tbody tr th {\n",
       "        vertical-align: top;\n",
       "    }\n",
       "\n",
       "    .dataframe thead th {\n",
       "        text-align: right;\n",
       "    }\n",
       "</style>\n",
       "<table border=\"1\" class=\"dataframe\">\n",
       "  <thead>\n",
       "    <tr style=\"text-align: right;\">\n",
       "      <th></th>\n",
       "      <th>MedInc</th>\n",
       "      <th>HouseAge</th>\n",
       "      <th>AveRooms</th>\n",
       "      <th>AveBedrms</th>\n",
       "      <th>Population</th>\n",
       "      <th>AveOccup</th>\n",
       "      <th>Latitude</th>\n",
       "      <th>Longitude</th>\n",
       "      <th>MedHouseVal</th>\n",
       "      <th>room_pca</th>\n",
       "    </tr>\n",
       "  </thead>\n",
       "  <tbody>\n",
       "    <tr>\n",
       "      <th>0</th>\n",
       "      <td>8.3252</td>\n",
       "      <td>41.0</td>\n",
       "      <td>6.984127</td>\n",
       "      <td>1.023810</td>\n",
       "      <td>322.0</td>\n",
       "      <td>2.555556</td>\n",
       "      <td>37.88</td>\n",
       "      <td>-122.23</td>\n",
       "      <td>4.526</td>\n",
       "      <td>1.522832</td>\n",
       "    </tr>\n",
       "    <tr>\n",
       "      <th>1</th>\n",
       "      <td>8.3014</td>\n",
       "      <td>21.0</td>\n",
       "      <td>6.238137</td>\n",
       "      <td>0.971880</td>\n",
       "      <td>2401.0</td>\n",
       "      <td>2.109842</td>\n",
       "      <td>37.86</td>\n",
       "      <td>-122.22</td>\n",
       "      <td>3.585</td>\n",
       "      <td>0.778273</td>\n",
       "    </tr>\n",
       "    <tr>\n",
       "      <th>2</th>\n",
       "      <td>7.2574</td>\n",
       "      <td>52.0</td>\n",
       "      <td>8.288136</td>\n",
       "      <td>1.073446</td>\n",
       "      <td>496.0</td>\n",
       "      <td>2.802260</td>\n",
       "      <td>37.85</td>\n",
       "      <td>-122.24</td>\n",
       "      <td>3.521</td>\n",
       "      <td>2.817683</td>\n",
       "    </tr>\n",
       "    <tr>\n",
       "      <th>3</th>\n",
       "      <td>5.6431</td>\n",
       "      <td>52.0</td>\n",
       "      <td>5.817352</td>\n",
       "      <td>1.073059</td>\n",
       "      <td>558.0</td>\n",
       "      <td>2.547945</td>\n",
       "      <td>37.85</td>\n",
       "      <td>-122.25</td>\n",
       "      <td>3.413</td>\n",
       "      <td>0.379410</td>\n",
       "    </tr>\n",
       "    <tr>\n",
       "      <th>4</th>\n",
       "      <td>3.8462</td>\n",
       "      <td>52.0</td>\n",
       "      <td>6.281853</td>\n",
       "      <td>1.081081</td>\n",
       "      <td>565.0</td>\n",
       "      <td>2.181467</td>\n",
       "      <td>37.85</td>\n",
       "      <td>-122.25</td>\n",
       "      <td>3.422</td>\n",
       "      <td>0.839086</td>\n",
       "    </tr>\n",
       "  </tbody>\n",
       "</table>\n",
       "</div>"
      ],
      "text/plain": [
       "   MedInc  HouseAge  AveRooms  AveBedrms  Population  AveOccup  Latitude  \\\n",
       "0  8.3252      41.0  6.984127   1.023810       322.0  2.555556     37.88   \n",
       "1  8.3014      21.0  6.238137   0.971880      2401.0  2.109842     37.86   \n",
       "2  7.2574      52.0  8.288136   1.073446       496.0  2.802260     37.85   \n",
       "3  5.6431      52.0  5.817352   1.073059       558.0  2.547945     37.85   \n",
       "4  3.8462      52.0  6.281853   1.081081       565.0  2.181467     37.85   \n",
       "\n",
       "   Longitude  MedHouseVal  room_pca  \n",
       "0    -122.23        4.526  1.522832  \n",
       "1    -122.22        3.585  0.778273  \n",
       "2    -122.24        3.521  2.817683  \n",
       "3    -122.25        3.413  0.379410  \n",
       "4    -122.25        3.422  0.839086  "
      ]
     },
     "execution_count": 166,
     "metadata": {},
     "output_type": "execute_result"
    }
   ],
   "source": [
    "house.head()"
   ]
  },
  {
   "cell_type": "code",
   "execution_count": 181,
   "id": "63c36dc3",
   "metadata": {},
   "outputs": [],
   "source": [
    "pca = PCA(n_components=8)\n",
    "pca.fit(house)\n",
    "#pca = PCA(n_components=8)\n",
    "house_pca8=pd.DataFrame(pca.transform(house))"
   ]
  },
  {
   "cell_type": "code",
   "execution_count": null,
   "id": "4ef917a6",
   "metadata": {},
   "outputs": [],
   "source": [
    "pca.explained_variance_ratio_"
   ]
  },
  {
   "cell_type": "code",
   "execution_count": 180,
   "id": "77381b91",
   "metadata": {
    "scrolled": false
   },
   "outputs": [
    {
     "data": {
      "text/html": [
       "<div>\n",
       "<style scoped>\n",
       "    .dataframe tbody tr th:only-of-type {\n",
       "        vertical-align: middle;\n",
       "    }\n",
       "\n",
       "    .dataframe tbody tr th {\n",
       "        vertical-align: top;\n",
       "    }\n",
       "\n",
       "    .dataframe thead th {\n",
       "        text-align: right;\n",
       "    }\n",
       "</style>\n",
       "<table border=\"1\" class=\"dataframe\">\n",
       "  <thead>\n",
       "    <tr style=\"text-align: right;\">\n",
       "      <th></th>\n",
       "      <th>0</th>\n",
       "      <th>1</th>\n",
       "      <th>2</th>\n",
       "      <th>3</th>\n",
       "      <th>4</th>\n",
       "      <th>5</th>\n",
       "      <th>6</th>\n",
       "      <th>7</th>\n",
       "    </tr>\n",
       "  </thead>\n",
       "  <tbody>\n",
       "    <tr>\n",
       "      <th>0</th>\n",
       "      <td>-1103.512939</td>\n",
       "      <td>8.522078</td>\n",
       "      <td>-0.763765</td>\n",
       "      <td>3.948789</td>\n",
       "      <td>-2.152396</td>\n",
       "      <td>-4.735920</td>\n",
       "      <td>-0.078429</td>\n",
       "      <td>-0.214798</td>\n",
       "    </tr>\n",
       "    <tr>\n",
       "      <th>1</th>\n",
       "      <td>975.541069</td>\n",
       "      <td>-4.692818</td>\n",
       "      <td>-1.030025</td>\n",
       "      <td>2.603395</td>\n",
       "      <td>-3.000893</td>\n",
       "      <td>-4.528426</td>\n",
       "      <td>-0.547921</td>\n",
       "      <td>0.128328</td>\n",
       "    </tr>\n",
       "    <tr>\n",
       "      <th>2</th>\n",
       "      <td>-929.550384</td>\n",
       "      <td>19.914877</td>\n",
       "      <td>-1.935867</td>\n",
       "      <td>6.119871</td>\n",
       "      <td>-1.995778</td>\n",
       "      <td>-2.914416</td>\n",
       "      <td>-0.546715</td>\n",
       "      <td>0.094165</td>\n",
       "    </tr>\n",
       "    <tr>\n",
       "      <th>3</th>\n",
       "      <td>-867.550131</td>\n",
       "      <td>20.314722</td>\n",
       "      <td>-2.294685</td>\n",
       "      <td>2.472524</td>\n",
       "      <td>-2.564607</td>\n",
       "      <td>-2.313765</td>\n",
       "      <td>0.019889</td>\n",
       "      <td>-0.065811</td>\n",
       "    </tr>\n",
       "    <tr>\n",
       "      <th>4</th>\n",
       "      <td>-860.550568</td>\n",
       "      <td>20.293431</td>\n",
       "      <td>-2.671720</td>\n",
       "      <td>2.709616</td>\n",
       "      <td>-2.687617</td>\n",
       "      <td>-0.658673</td>\n",
       "      <td>0.885899</td>\n",
       "      <td>-0.156606</td>\n",
       "    </tr>\n",
       "  </tbody>\n",
       "</table>\n",
       "</div>"
      ],
      "text/plain": [
       "             0          1         2         3         4         5         6  \\\n",
       "0 -1103.512939   8.522078 -0.763765  3.948789 -2.152396 -4.735920 -0.078429   \n",
       "1   975.541069  -4.692818 -1.030025  2.603395 -3.000893 -4.528426 -0.547921   \n",
       "2  -929.550384  19.914877 -1.935867  6.119871 -1.995778 -2.914416 -0.546715   \n",
       "3  -867.550131  20.314722 -2.294685  2.472524 -2.564607 -2.313765  0.019889   \n",
       "4  -860.550568  20.293431 -2.671720  2.709616 -2.687617 -0.658673  0.885899   \n",
       "\n",
       "          7  \n",
       "0 -0.214798  \n",
       "1  0.128328  \n",
       "2  0.094165  \n",
       "3 -0.065811  \n",
       "4 -0.156606  "
      ]
     },
     "execution_count": 180,
     "metadata": {},
     "output_type": "execute_result"
    }
   ],
   "source": [
    "house_pca8.head()"
   ]
  },
  {
   "cell_type": "code",
   "execution_count": 190,
   "id": "a3a5f0ac",
   "metadata": {},
   "outputs": [
    {
     "name": "stdout",
     "output_type": "stream",
     "text": [
      "1 0.9997834170033749\n",
      "2 0.9998968887195445\n",
      "3 0.9999801765516354\n",
      "4 0.9999900450980282\n",
      "5 0.9999963687115321\n",
      "6 0.9999993826488575\n",
      "7 0.9999998275406596\n"
     ]
    }
   ],
   "source": [
    "K = range(1,8) \n",
    "#data variance and prediction power are two distince things\n",
    "#PCA it down to 1 'feature' retains .999978 of data variance, but it's prediction power is lost, due to pca, not model failure\n",
    "var = []\n",
    "for i in K:\n",
    "    pca = PCA(n_components=i)\n",
    "    pca.fit(house)\n",
    "    print(i,sum(pca.explained_variance_ratio_))"
   ]
  },
  {
   "cell_type": "markdown",
   "id": "566f0f7b",
   "metadata": {},
   "source": [
    "# Anomaly Detection "
   ]
  },
  {
   "cell_type": "code",
   "execution_count": 3,
   "id": "4e700c37",
   "metadata": {
    "scrolled": true
   },
   "outputs": [
    {
     "data": {
      "text/html": [
       "<div>\n",
       "<style scoped>\n",
       "    .dataframe tbody tr th:only-of-type {\n",
       "        vertical-align: middle;\n",
       "    }\n",
       "\n",
       "    .dataframe tbody tr th {\n",
       "        vertical-align: top;\n",
       "    }\n",
       "\n",
       "    .dataframe thead th {\n",
       "        text-align: right;\n",
       "    }\n",
       "</style>\n",
       "<table border=\"1\" class=\"dataframe\">\n",
       "  <thead>\n",
       "    <tr style=\"text-align: right;\">\n",
       "      <th></th>\n",
       "      <th>0</th>\n",
       "      <th>1</th>\n",
       "      <th>2</th>\n",
       "      <th>3</th>\n",
       "      <th>4</th>\n",
       "      <th>5</th>\n",
       "      <th>6</th>\n",
       "      <th>7</th>\n",
       "      <th>8</th>\n",
       "      <th>9</th>\n",
       "    </tr>\n",
       "  </thead>\n",
       "  <tbody>\n",
       "    <tr>\n",
       "      <th>0</th>\n",
       "      <td>50</td>\n",
       "      <td>21</td>\n",
       "      <td>77</td>\n",
       "      <td>0</td>\n",
       "      <td>28</td>\n",
       "      <td>0</td>\n",
       "      <td>27</td>\n",
       "      <td>48</td>\n",
       "      <td>22</td>\n",
       "      <td>1</td>\n",
       "    </tr>\n",
       "    <tr>\n",
       "      <th>1</th>\n",
       "      <td>53</td>\n",
       "      <td>0</td>\n",
       "      <td>82</td>\n",
       "      <td>0</td>\n",
       "      <td>52</td>\n",
       "      <td>-5</td>\n",
       "      <td>29</td>\n",
       "      <td>30</td>\n",
       "      <td>2</td>\n",
       "      <td>0</td>\n",
       "    </tr>\n",
       "    <tr>\n",
       "      <th>2</th>\n",
       "      <td>37</td>\n",
       "      <td>0</td>\n",
       "      <td>76</td>\n",
       "      <td>0</td>\n",
       "      <td>28</td>\n",
       "      <td>18</td>\n",
       "      <td>40</td>\n",
       "      <td>48</td>\n",
       "      <td>8</td>\n",
       "      <td>0</td>\n",
       "    </tr>\n",
       "    <tr>\n",
       "      <th>3</th>\n",
       "      <td>37</td>\n",
       "      <td>0</td>\n",
       "      <td>79</td>\n",
       "      <td>0</td>\n",
       "      <td>34</td>\n",
       "      <td>-26</td>\n",
       "      <td>43</td>\n",
       "      <td>46</td>\n",
       "      <td>2</td>\n",
       "      <td>0</td>\n",
       "    </tr>\n",
       "    <tr>\n",
       "      <th>4</th>\n",
       "      <td>85</td>\n",
       "      <td>0</td>\n",
       "      <td>88</td>\n",
       "      <td>-4</td>\n",
       "      <td>6</td>\n",
       "      <td>1</td>\n",
       "      <td>3</td>\n",
       "      <td>83</td>\n",
       "      <td>80</td>\n",
       "      <td>1</td>\n",
       "    </tr>\n",
       "    <tr>\n",
       "      <th>...</th>\n",
       "      <td>...</td>\n",
       "      <td>...</td>\n",
       "      <td>...</td>\n",
       "      <td>...</td>\n",
       "      <td>...</td>\n",
       "      <td>...</td>\n",
       "      <td>...</td>\n",
       "      <td>...</td>\n",
       "      <td>...</td>\n",
       "      <td>...</td>\n",
       "    </tr>\n",
       "    <tr>\n",
       "      <th>49092</th>\n",
       "      <td>39</td>\n",
       "      <td>-2</td>\n",
       "      <td>80</td>\n",
       "      <td>-4</td>\n",
       "      <td>38</td>\n",
       "      <td>0</td>\n",
       "      <td>41</td>\n",
       "      <td>41</td>\n",
       "      <td>0</td>\n",
       "      <td>0</td>\n",
       "    </tr>\n",
       "    <tr>\n",
       "      <th>49093</th>\n",
       "      <td>43</td>\n",
       "      <td>0</td>\n",
       "      <td>81</td>\n",
       "      <td>1</td>\n",
       "      <td>42</td>\n",
       "      <td>-9</td>\n",
       "      <td>37</td>\n",
       "      <td>39</td>\n",
       "      <td>2</td>\n",
       "      <td>0</td>\n",
       "    </tr>\n",
       "    <tr>\n",
       "      <th>49094</th>\n",
       "      <td>49</td>\n",
       "      <td>0</td>\n",
       "      <td>87</td>\n",
       "      <td>0</td>\n",
       "      <td>46</td>\n",
       "      <td>-12</td>\n",
       "      <td>38</td>\n",
       "      <td>41</td>\n",
       "      <td>2</td>\n",
       "      <td>0</td>\n",
       "    </tr>\n",
       "    <tr>\n",
       "      <th>49095</th>\n",
       "      <td>80</td>\n",
       "      <td>0</td>\n",
       "      <td>84</td>\n",
       "      <td>0</td>\n",
       "      <td>-36</td>\n",
       "      <td>-29</td>\n",
       "      <td>4</td>\n",
       "      <td>120</td>\n",
       "      <td>116</td>\n",
       "      <td>1</td>\n",
       "    </tr>\n",
       "    <tr>\n",
       "      <th>49096</th>\n",
       "      <td>37</td>\n",
       "      <td>0</td>\n",
       "      <td>103</td>\n",
       "      <td>0</td>\n",
       "      <td>18</td>\n",
       "      <td>-16</td>\n",
       "      <td>66</td>\n",
       "      <td>85</td>\n",
       "      <td>20</td>\n",
       "      <td>0</td>\n",
       "    </tr>\n",
       "  </tbody>\n",
       "</table>\n",
       "<p>49097 rows × 10 columns</p>\n",
       "</div>"
      ],
      "text/plain": [
       "        0   1    2  3   4   5   6    7    8  9\n",
       "0      50  21   77  0  28   0  27   48   22  1\n",
       "1      53   0   82  0  52  -5  29   30    2  0\n",
       "2      37   0   76  0  28  18  40   48    8  0\n",
       "3      37   0   79  0  34 -26  43   46    2  0\n",
       "4      85   0   88 -4   6   1   3   83   80  1\n",
       "...    ..  ..  ... ..  ..  ..  ..  ...  ... ..\n",
       "49092  39  -2   80 -4  38   0  41   41    0  0\n",
       "49093  43   0   81  1  42  -9  37   39    2  0\n",
       "49094  49   0   87  0  46 -12  38   41    2  0\n",
       "49095  80   0   84  0 -36 -29   4  120  116  1\n",
       "49096  37   0  103  0  18 -16  66   85   20  0\n",
       "\n",
       "[49097 rows x 10 columns]"
      ]
     },
     "execution_count": 3,
     "metadata": {},
     "output_type": "execute_result"
    }
   ],
   "source": [
    "shuttle #9 is target, 0 is normal, 1 is anomly"
   ]
  },
  {
   "cell_type": "code",
   "execution_count": 4,
   "id": "30cbf83e",
   "metadata": {},
   "outputs": [],
   "source": [
    "shuttle_x = shuttle.drop(shuttle.columns[-1], axis=1)"
   ]
  },
  {
   "cell_type": "code",
   "execution_count": 5,
   "id": "5b72ed25",
   "metadata": {
    "scrolled": true
   },
   "outputs": [
    {
     "data": {
      "text/html": [
       "<div>\n",
       "<style scoped>\n",
       "    .dataframe tbody tr th:only-of-type {\n",
       "        vertical-align: middle;\n",
       "    }\n",
       "\n",
       "    .dataframe tbody tr th {\n",
       "        vertical-align: top;\n",
       "    }\n",
       "\n",
       "    .dataframe thead th {\n",
       "        text-align: right;\n",
       "    }\n",
       "</style>\n",
       "<table border=\"1\" class=\"dataframe\">\n",
       "  <thead>\n",
       "    <tr style=\"text-align: right;\">\n",
       "      <th></th>\n",
       "      <th>0</th>\n",
       "      <th>1</th>\n",
       "      <th>2</th>\n",
       "      <th>3</th>\n",
       "      <th>4</th>\n",
       "      <th>5</th>\n",
       "      <th>6</th>\n",
       "      <th>7</th>\n",
       "      <th>8</th>\n",
       "    </tr>\n",
       "  </thead>\n",
       "  <tbody>\n",
       "    <tr>\n",
       "      <th>0</th>\n",
       "      <td>50</td>\n",
       "      <td>21</td>\n",
       "      <td>77</td>\n",
       "      <td>0</td>\n",
       "      <td>28</td>\n",
       "      <td>0</td>\n",
       "      <td>27</td>\n",
       "      <td>48</td>\n",
       "      <td>22</td>\n",
       "    </tr>\n",
       "    <tr>\n",
       "      <th>1</th>\n",
       "      <td>53</td>\n",
       "      <td>0</td>\n",
       "      <td>82</td>\n",
       "      <td>0</td>\n",
       "      <td>52</td>\n",
       "      <td>-5</td>\n",
       "      <td>29</td>\n",
       "      <td>30</td>\n",
       "      <td>2</td>\n",
       "    </tr>\n",
       "    <tr>\n",
       "      <th>2</th>\n",
       "      <td>37</td>\n",
       "      <td>0</td>\n",
       "      <td>76</td>\n",
       "      <td>0</td>\n",
       "      <td>28</td>\n",
       "      <td>18</td>\n",
       "      <td>40</td>\n",
       "      <td>48</td>\n",
       "      <td>8</td>\n",
       "    </tr>\n",
       "    <tr>\n",
       "      <th>3</th>\n",
       "      <td>37</td>\n",
       "      <td>0</td>\n",
       "      <td>79</td>\n",
       "      <td>0</td>\n",
       "      <td>34</td>\n",
       "      <td>-26</td>\n",
       "      <td>43</td>\n",
       "      <td>46</td>\n",
       "      <td>2</td>\n",
       "    </tr>\n",
       "    <tr>\n",
       "      <th>4</th>\n",
       "      <td>85</td>\n",
       "      <td>0</td>\n",
       "      <td>88</td>\n",
       "      <td>-4</td>\n",
       "      <td>6</td>\n",
       "      <td>1</td>\n",
       "      <td>3</td>\n",
       "      <td>83</td>\n",
       "      <td>80</td>\n",
       "    </tr>\n",
       "    <tr>\n",
       "      <th>...</th>\n",
       "      <td>...</td>\n",
       "      <td>...</td>\n",
       "      <td>...</td>\n",
       "      <td>...</td>\n",
       "      <td>...</td>\n",
       "      <td>...</td>\n",
       "      <td>...</td>\n",
       "      <td>...</td>\n",
       "      <td>...</td>\n",
       "    </tr>\n",
       "    <tr>\n",
       "      <th>49092</th>\n",
       "      <td>39</td>\n",
       "      <td>-2</td>\n",
       "      <td>80</td>\n",
       "      <td>-4</td>\n",
       "      <td>38</td>\n",
       "      <td>0</td>\n",
       "      <td>41</td>\n",
       "      <td>41</td>\n",
       "      <td>0</td>\n",
       "    </tr>\n",
       "    <tr>\n",
       "      <th>49093</th>\n",
       "      <td>43</td>\n",
       "      <td>0</td>\n",
       "      <td>81</td>\n",
       "      <td>1</td>\n",
       "      <td>42</td>\n",
       "      <td>-9</td>\n",
       "      <td>37</td>\n",
       "      <td>39</td>\n",
       "      <td>2</td>\n",
       "    </tr>\n",
       "    <tr>\n",
       "      <th>49094</th>\n",
       "      <td>49</td>\n",
       "      <td>0</td>\n",
       "      <td>87</td>\n",
       "      <td>0</td>\n",
       "      <td>46</td>\n",
       "      <td>-12</td>\n",
       "      <td>38</td>\n",
       "      <td>41</td>\n",
       "      <td>2</td>\n",
       "    </tr>\n",
       "    <tr>\n",
       "      <th>49095</th>\n",
       "      <td>80</td>\n",
       "      <td>0</td>\n",
       "      <td>84</td>\n",
       "      <td>0</td>\n",
       "      <td>-36</td>\n",
       "      <td>-29</td>\n",
       "      <td>4</td>\n",
       "      <td>120</td>\n",
       "      <td>116</td>\n",
       "    </tr>\n",
       "    <tr>\n",
       "      <th>49096</th>\n",
       "      <td>37</td>\n",
       "      <td>0</td>\n",
       "      <td>103</td>\n",
       "      <td>0</td>\n",
       "      <td>18</td>\n",
       "      <td>-16</td>\n",
       "      <td>66</td>\n",
       "      <td>85</td>\n",
       "      <td>20</td>\n",
       "    </tr>\n",
       "  </tbody>\n",
       "</table>\n",
       "<p>49097 rows × 9 columns</p>\n",
       "</div>"
      ],
      "text/plain": [
       "        0   1    2  3   4   5   6    7    8\n",
       "0      50  21   77  0  28   0  27   48   22\n",
       "1      53   0   82  0  52  -5  29   30    2\n",
       "2      37   0   76  0  28  18  40   48    8\n",
       "3      37   0   79  0  34 -26  43   46    2\n",
       "4      85   0   88 -4   6   1   3   83   80\n",
       "...    ..  ..  ... ..  ..  ..  ..  ...  ...\n",
       "49092  39  -2   80 -4  38   0  41   41    0\n",
       "49093  43   0   81  1  42  -9  37   39    2\n",
       "49094  49   0   87  0  46 -12  38   41    2\n",
       "49095  80   0   84  0 -36 -29   4  120  116\n",
       "49096  37   0  103  0  18 -16  66   85   20\n",
       "\n",
       "[49097 rows x 9 columns]"
      ]
     },
     "execution_count": 5,
     "metadata": {},
     "output_type": "execute_result"
    }
   ],
   "source": [
    "shuttle_x"
   ]
  },
  {
   "cell_type": "markdown",
   "id": "875e9098",
   "metadata": {},
   "source": [
    "## Isolation forest"
   ]
  },
  {
   "cell_type": "code",
   "execution_count": 6,
   "id": "0233b1ca",
   "metadata": {},
   "outputs": [],
   "source": [
    "from sklearn.ensemble import IsolationForest\n",
    "import numpy as np"
   ]
  },
  {
   "cell_type": "code",
   "execution_count": 7,
   "id": "4dbc25f5",
   "metadata": {
    "scrolled": true
   },
   "outputs": [
    {
     "data": {
      "text/plain": [
       "IsolationForest(random_state=0)"
      ]
     },
     "execution_count": 7,
     "metadata": {},
     "output_type": "execute_result"
    }
   ],
   "source": [
    "clf = IsolationForest(random_state=0)\n",
    "clf.fit(shuttle_x)"
   ]
  },
  {
   "cell_type": "code",
   "execution_count": 8,
   "id": "9cb08722",
   "metadata": {
    "scrolled": false
   },
   "outputs": [
    {
     "data": {
      "text/html": [
       "<div>\n",
       "<style scoped>\n",
       "    .dataframe tbody tr th:only-of-type {\n",
       "        vertical-align: middle;\n",
       "    }\n",
       "\n",
       "    .dataframe tbody tr th {\n",
       "        vertical-align: top;\n",
       "    }\n",
       "\n",
       "    .dataframe thead th {\n",
       "        text-align: right;\n",
       "    }\n",
       "</style>\n",
       "<table border=\"1\" class=\"dataframe\">\n",
       "  <thead>\n",
       "    <tr style=\"text-align: right;\">\n",
       "      <th></th>\n",
       "      <th>0</th>\n",
       "    </tr>\n",
       "  </thead>\n",
       "  <tbody>\n",
       "    <tr>\n",
       "      <th>0</th>\n",
       "      <td>1</td>\n",
       "    </tr>\n",
       "    <tr>\n",
       "      <th>1</th>\n",
       "      <td>1</td>\n",
       "    </tr>\n",
       "    <tr>\n",
       "      <th>2</th>\n",
       "      <td>1</td>\n",
       "    </tr>\n",
       "    <tr>\n",
       "      <th>3</th>\n",
       "      <td>1</td>\n",
       "    </tr>\n",
       "    <tr>\n",
       "      <th>4</th>\n",
       "      <td>-1</td>\n",
       "    </tr>\n",
       "    <tr>\n",
       "      <th>...</th>\n",
       "      <td>...</td>\n",
       "    </tr>\n",
       "    <tr>\n",
       "      <th>49092</th>\n",
       "      <td>1</td>\n",
       "    </tr>\n",
       "    <tr>\n",
       "      <th>49093</th>\n",
       "      <td>1</td>\n",
       "    </tr>\n",
       "    <tr>\n",
       "      <th>49094</th>\n",
       "      <td>1</td>\n",
       "    </tr>\n",
       "    <tr>\n",
       "      <th>49095</th>\n",
       "      <td>-1</td>\n",
       "    </tr>\n",
       "    <tr>\n",
       "      <th>49096</th>\n",
       "      <td>-1</td>\n",
       "    </tr>\n",
       "  </tbody>\n",
       "</table>\n",
       "<p>49097 rows × 1 columns</p>\n",
       "</div>"
      ],
      "text/plain": [
       "       0\n",
       "0      1\n",
       "1      1\n",
       "2      1\n",
       "3      1\n",
       "4     -1\n",
       "...   ..\n",
       "49092  1\n",
       "49093  1\n",
       "49094  1\n",
       "49095 -1\n",
       "49096 -1\n",
       "\n",
       "[49097 rows x 1 columns]"
      ]
     },
     "execution_count": 8,
     "metadata": {},
     "output_type": "execute_result"
    }
   ],
   "source": [
    "y_hat_f = pd.DataFrame(clf.predict(shuttle_x))\n",
    "#y_hat.describe()\n",
    "#in y_true 0 is normal, 1 is anomaly\n",
    "#in y_hat  1 is normal, -1 is anomaly\n",
    "y_hat_f"
   ]
  },
  {
   "cell_type": "code",
   "execution_count": 294,
   "id": "186171d4",
   "metadata": {},
   "outputs": [],
   "source": [
    "y_hat_f[0] = y_hat_f[0].replace({1:0,-1:1})"
   ]
  },
  {
   "cell_type": "code",
   "execution_count": 295,
   "id": "a55484fc",
   "metadata": {},
   "outputs": [
    {
     "data": {
      "text/html": [
       "<div>\n",
       "<style scoped>\n",
       "    .dataframe tbody tr th:only-of-type {\n",
       "        vertical-align: middle;\n",
       "    }\n",
       "\n",
       "    .dataframe tbody tr th {\n",
       "        vertical-align: top;\n",
       "    }\n",
       "\n",
       "    .dataframe thead th {\n",
       "        text-align: right;\n",
       "    }\n",
       "</style>\n",
       "<table border=\"1\" class=\"dataframe\">\n",
       "  <thead>\n",
       "    <tr style=\"text-align: right;\">\n",
       "      <th></th>\n",
       "      <th>0</th>\n",
       "    </tr>\n",
       "  </thead>\n",
       "  <tbody>\n",
       "    <tr>\n",
       "      <th>0</th>\n",
       "      <td>0</td>\n",
       "    </tr>\n",
       "    <tr>\n",
       "      <th>1</th>\n",
       "      <td>0</td>\n",
       "    </tr>\n",
       "    <tr>\n",
       "      <th>2</th>\n",
       "      <td>0</td>\n",
       "    </tr>\n",
       "    <tr>\n",
       "      <th>3</th>\n",
       "      <td>0</td>\n",
       "    </tr>\n",
       "    <tr>\n",
       "      <th>4</th>\n",
       "      <td>1</td>\n",
       "    </tr>\n",
       "    <tr>\n",
       "      <th>...</th>\n",
       "      <td>...</td>\n",
       "    </tr>\n",
       "    <tr>\n",
       "      <th>49092</th>\n",
       "      <td>0</td>\n",
       "    </tr>\n",
       "    <tr>\n",
       "      <th>49093</th>\n",
       "      <td>0</td>\n",
       "    </tr>\n",
       "    <tr>\n",
       "      <th>49094</th>\n",
       "      <td>0</td>\n",
       "    </tr>\n",
       "    <tr>\n",
       "      <th>49095</th>\n",
       "      <td>1</td>\n",
       "    </tr>\n",
       "    <tr>\n",
       "      <th>49096</th>\n",
       "      <td>1</td>\n",
       "    </tr>\n",
       "  </tbody>\n",
       "</table>\n",
       "<p>49097 rows × 1 columns</p>\n",
       "</div>"
      ],
      "text/plain": [
       "       0\n",
       "0      0\n",
       "1      0\n",
       "2      0\n",
       "3      0\n",
       "4      1\n",
       "...   ..\n",
       "49092  0\n",
       "49093  0\n",
       "49094  0\n",
       "49095  1\n",
       "49096  1\n",
       "\n",
       "[49097 rows x 1 columns]"
      ]
     },
     "execution_count": 295,
     "metadata": {},
     "output_type": "execute_result"
    }
   ],
   "source": [
    "y_hat_f"
   ]
  },
  {
   "cell_type": "code",
   "execution_count": 296,
   "id": "4dbad022",
   "metadata": {},
   "outputs": [],
   "source": [
    "from sklearn.metrics import accuracy_score, classification_report\n",
    "from sklearn.metrics import confusion_matrix"
   ]
  },
  {
   "cell_type": "code",
   "execution_count": 297,
   "id": "17d53dcd",
   "metadata": {},
   "outputs": [],
   "source": [
    "from sklearn.metrics import precision_score, recall_score, f1_score"
   ]
  },
  {
   "cell_type": "code",
   "execution_count": 298,
   "id": "ba3a2b24",
   "metadata": {
    "scrolled": true
   },
   "outputs": [],
   "source": [
    "report_f = classification_report(shuttle['9'], y_hat_f)\n",
    "cm_f = confusion_matrix(shuttle['9'], y_hat_f)"
   ]
  },
  {
   "cell_type": "code",
   "execution_count": 299,
   "id": "6ae8f9a2",
   "metadata": {},
   "outputs": [
    {
     "name": "stdout",
     "output_type": "stream",
     "text": [
      "              precision    recall  f1-score   support\n",
      "\n",
      "           0       1.00      0.96      0.98     45586\n",
      "           1       0.68      0.99      0.81      3511\n",
      "\n",
      "    accuracy                           0.97     49097\n",
      "   macro avg       0.84      0.98      0.89     49097\n",
      "weighted avg       0.98      0.97      0.97     49097\n",
      "\n",
      "[[43968  1618]\n",
      " [   48  3463]]\n"
     ]
    }
   ],
   "source": [
    "print(report_f)\n",
    "print(cm_f)"
   ]
  },
  {
   "cell_type": "markdown",
   "id": "26a43937",
   "metadata": {},
   "source": [
    "##  Local outlier factor"
   ]
  },
  {
   "cell_type": "code",
   "execution_count": 300,
   "id": "d62db5cd",
   "metadata": {},
   "outputs": [],
   "source": [
    "from sklearn.neighbors import LocalOutlierFactor\n",
    "import numpy as np"
   ]
  },
  {
   "cell_type": "code",
   "execution_count": 301,
   "id": "5a154032",
   "metadata": {},
   "outputs": [],
   "source": [
    "db = LocalOutlierFactor(n_neighbors=20)\n",
    "#db.fit_predict(shuttle_x)\n",
    "y_hat_d = pd.DataFrame(db.fit_predict(shuttle_x))"
   ]
  },
  {
   "cell_type": "code",
   "execution_count": 302,
   "id": "9068ea30",
   "metadata": {},
   "outputs": [],
   "source": [
    "#y_hat_d = pd.DataFrame(db.fit_predict(shuttle_x))\n",
    "#y_hat_d = pd.DataFrame(db.predict(shuttle_x))\n",
    "#y_hat.describe()\n",
    "#in y_true 0 is normal, 1 is anomaly\n",
    "#in y_hat  1 is normal, -1 is anomaly\n",
    "#y_hat_f\n",
    "y_hat_d[0] = y_hat_d[0].replace({1:0,-1:1})"
   ]
  },
  {
   "cell_type": "code",
   "execution_count": 303,
   "id": "3758bc9f",
   "metadata": {
    "scrolled": false
   },
   "outputs": [
    {
     "data": {
      "text/html": [
       "<div>\n",
       "<style scoped>\n",
       "    .dataframe tbody tr th:only-of-type {\n",
       "        vertical-align: middle;\n",
       "    }\n",
       "\n",
       "    .dataframe tbody tr th {\n",
       "        vertical-align: top;\n",
       "    }\n",
       "\n",
       "    .dataframe thead th {\n",
       "        text-align: right;\n",
       "    }\n",
       "</style>\n",
       "<table border=\"1\" class=\"dataframe\">\n",
       "  <thead>\n",
       "    <tr style=\"text-align: right;\">\n",
       "      <th></th>\n",
       "      <th>0</th>\n",
       "    </tr>\n",
       "  </thead>\n",
       "  <tbody>\n",
       "    <tr>\n",
       "      <th>count</th>\n",
       "      <td>49097.000000</td>\n",
       "    </tr>\n",
       "    <tr>\n",
       "      <th>mean</th>\n",
       "      <td>0.025358</td>\n",
       "    </tr>\n",
       "    <tr>\n",
       "      <th>std</th>\n",
       "      <td>0.157211</td>\n",
       "    </tr>\n",
       "    <tr>\n",
       "      <th>min</th>\n",
       "      <td>0.000000</td>\n",
       "    </tr>\n",
       "    <tr>\n",
       "      <th>25%</th>\n",
       "      <td>0.000000</td>\n",
       "    </tr>\n",
       "    <tr>\n",
       "      <th>50%</th>\n",
       "      <td>0.000000</td>\n",
       "    </tr>\n",
       "    <tr>\n",
       "      <th>75%</th>\n",
       "      <td>0.000000</td>\n",
       "    </tr>\n",
       "    <tr>\n",
       "      <th>max</th>\n",
       "      <td>1.000000</td>\n",
       "    </tr>\n",
       "  </tbody>\n",
       "</table>\n",
       "</div>"
      ],
      "text/plain": [
       "                  0\n",
       "count  49097.000000\n",
       "mean       0.025358\n",
       "std        0.157211\n",
       "min        0.000000\n",
       "25%        0.000000\n",
       "50%        0.000000\n",
       "75%        0.000000\n",
       "max        1.000000"
      ]
     },
     "execution_count": 303,
     "metadata": {},
     "output_type": "execute_result"
    }
   ],
   "source": [
    "y_hat_d.describe()"
   ]
  },
  {
   "cell_type": "code",
   "execution_count": 304,
   "id": "52833e1b",
   "metadata": {},
   "outputs": [],
   "source": [
    "report_d = classification_report(shuttle['9'], y_hat_d)\n",
    "cm_d = confusion_matrix(shuttle['9'], y_hat_d)"
   ]
  },
  {
   "cell_type": "code",
   "execution_count": 305,
   "id": "6ed7609d",
   "metadata": {
    "scrolled": false
   },
   "outputs": [
    {
     "name": "stdout",
     "output_type": "stream",
     "text": [
      "              precision    recall  f1-score   support\n",
      "\n",
      "           0       0.93      0.98      0.95     45586\n",
      "           1       0.17      0.06      0.09      3511\n",
      "\n",
      "    accuracy                           0.91     49097\n",
      "   macro avg       0.55      0.52      0.52     49097\n",
      "weighted avg       0.88      0.91      0.89     49097\n",
      "\n",
      "[[44555  1031]\n",
      " [ 3297   214]]\n"
     ]
    }
   ],
   "source": [
    "print(report_d)\n",
    "print(cm_d)"
   ]
  },
  {
   "cell_type": "markdown",
   "id": "1da924d1",
   "metadata": {},
   "source": [
    "## one class svm "
   ]
  },
  {
   "cell_type": "code",
   "execution_count": 9,
   "id": "b669b842",
   "metadata": {},
   "outputs": [],
   "source": [
    "from sklearn.svm import OneClassSVM\n",
    "import numpy as np"
   ]
  },
  {
   "cell_type": "code",
   "execution_count": 10,
   "id": "04a61a55",
   "metadata": {
    "scrolled": true
   },
   "outputs": [
    {
     "data": {
      "text/plain": [
       "OneClassSVM(nu=0.05)"
      ]
     },
     "execution_count": 10,
     "metadata": {},
     "output_type": "execute_result"
    }
   ],
   "source": [
    "svm = OneClassSVM(kernel='rbf', nu=0.05)\n",
    "svm.fit(shuttle_x)"
   ]
  },
  {
   "cell_type": "code",
   "execution_count": 11,
   "id": "a12fac31",
   "metadata": {},
   "outputs": [],
   "source": [
    "y_hat_v = pd.DataFrame(svm.fit_predict(shuttle_x))"
   ]
  },
  {
   "cell_type": "code",
   "execution_count": 311,
   "id": "7d01a7f3",
   "metadata": {
    "scrolled": true
   },
   "outputs": [
    {
     "data": {
      "text/html": [
       "<div>\n",
       "<style scoped>\n",
       "    .dataframe tbody tr th:only-of-type {\n",
       "        vertical-align: middle;\n",
       "    }\n",
       "\n",
       "    .dataframe tbody tr th {\n",
       "        vertical-align: top;\n",
       "    }\n",
       "\n",
       "    .dataframe thead th {\n",
       "        text-align: right;\n",
       "    }\n",
       "</style>\n",
       "<table border=\"1\" class=\"dataframe\">\n",
       "  <thead>\n",
       "    <tr style=\"text-align: right;\">\n",
       "      <th></th>\n",
       "      <th>0</th>\n",
       "    </tr>\n",
       "  </thead>\n",
       "  <tbody>\n",
       "    <tr>\n",
       "      <th>count</th>\n",
       "      <td>49097.000000</td>\n",
       "    </tr>\n",
       "    <tr>\n",
       "      <th>mean</th>\n",
       "      <td>0.899994</td>\n",
       "    </tr>\n",
       "    <tr>\n",
       "      <th>std</th>\n",
       "      <td>0.435907</td>\n",
       "    </tr>\n",
       "    <tr>\n",
       "      <th>min</th>\n",
       "      <td>-1.000000</td>\n",
       "    </tr>\n",
       "    <tr>\n",
       "      <th>25%</th>\n",
       "      <td>1.000000</td>\n",
       "    </tr>\n",
       "    <tr>\n",
       "      <th>50%</th>\n",
       "      <td>1.000000</td>\n",
       "    </tr>\n",
       "    <tr>\n",
       "      <th>75%</th>\n",
       "      <td>1.000000</td>\n",
       "    </tr>\n",
       "    <tr>\n",
       "      <th>max</th>\n",
       "      <td>1.000000</td>\n",
       "    </tr>\n",
       "  </tbody>\n",
       "</table>\n",
       "</div>"
      ],
      "text/plain": [
       "                  0\n",
       "count  49097.000000\n",
       "mean       0.899994\n",
       "std        0.435907\n",
       "min       -1.000000\n",
       "25%        1.000000\n",
       "50%        1.000000\n",
       "75%        1.000000\n",
       "max        1.000000"
      ]
     },
     "execution_count": 311,
     "metadata": {},
     "output_type": "execute_result"
    }
   ],
   "source": [
    "y_hat_v.describe()"
   ]
  },
  {
   "cell_type": "code",
   "execution_count": 312,
   "id": "37efb069",
   "metadata": {},
   "outputs": [],
   "source": [
    "y_hat_v[0] = y_hat_v[0].replace({1:0,-1:1})"
   ]
  },
  {
   "cell_type": "code",
   "execution_count": 313,
   "id": "ff4726b4",
   "metadata": {},
   "outputs": [],
   "source": [
    "report_v = classification_report(shuttle['9'], y_hat_v)\n",
    "cm_v = confusion_matrix(shuttle['9'], y_hat_v)"
   ]
  },
  {
   "cell_type": "code",
   "execution_count": 314,
   "id": "c9bd660c",
   "metadata": {
    "scrolled": true
   },
   "outputs": [
    {
     "name": "stdout",
     "output_type": "stream",
     "text": [
      "              precision    recall  f1-score   support\n",
      "\n",
      "           0       0.96      0.98      0.97     45586\n",
      "           1       0.60      0.42      0.49      3511\n",
      "\n",
      "    accuracy                           0.94     49097\n",
      "   macro avg       0.78      0.70      0.73     49097\n",
      "weighted avg       0.93      0.94      0.93     49097\n",
      "\n",
      "[[44593   993]\n",
      " [ 2049  1462]]\n"
     ]
    }
   ],
   "source": [
    "print(report_v)\n",
    "print(cm_v)"
   ]
  },
  {
   "cell_type": "code",
   "execution_count": 329,
   "id": "269c58d1",
   "metadata": {},
   "outputs": [
    {
     "name": "stdout",
     "output_type": "stream",
     "text": [
      "              precision    recall  f1-score   support\n",
      "\n",
      "           0       1.00      0.96      0.98     45586\n",
      "           1       0.68      0.99      0.81      3511\n",
      "\n",
      "    accuracy                           0.97     49097\n",
      "   macro avg       0.84      0.98      0.89     49097\n",
      "weighted avg       0.98      0.97      0.97     49097\n",
      "\n",
      "              precision    recall  f1-score   support\n",
      "\n",
      "           0       0.93      0.98      0.95     45586\n",
      "           1       0.17      0.06      0.09      3511\n",
      "\n",
      "    accuracy                           0.91     49097\n",
      "   macro avg       0.55      0.52      0.52     49097\n",
      "weighted avg       0.88      0.91      0.89     49097\n",
      "\n",
      "              precision    recall  f1-score   support\n",
      "\n",
      "           0       0.96      0.98      0.97     45586\n",
      "           1       0.60      0.42      0.49      3511\n",
      "\n",
      "    accuracy                           0.94     49097\n",
      "   macro avg       0.78      0.70      0.73     49097\n",
      "weighted avg       0.93      0.94      0.93     49097\n",
      "\n"
     ]
    }
   ],
   "source": [
    "print(report_f)\n",
    "print(report_d)\n",
    "print(report_v)"
   ]
  },
  {
   "cell_type": "markdown",
   "id": "8da63ceb",
   "metadata": {},
   "source": [
    "## PCA and visualization "
   ]
  },
  {
   "cell_type": "code",
   "execution_count": 315,
   "id": "5a2b62fe",
   "metadata": {},
   "outputs": [],
   "source": [
    "from sklearn.preprocessing import StandardScaler"
   ]
  },
  {
   "cell_type": "code",
   "execution_count": 316,
   "id": "5a5bf4c3",
   "metadata": {},
   "outputs": [],
   "source": [
    "scaler = StandardScaler()"
   ]
  },
  {
   "cell_type": "code",
   "execution_count": 317,
   "id": "fc23b7e4",
   "metadata": {},
   "outputs": [],
   "source": [
    "shuttle_xs = scaler.fit_transform(shuttle_x)"
   ]
  },
  {
   "cell_type": "code",
   "execution_count": 320,
   "id": "67883d69",
   "metadata": {},
   "outputs": [],
   "source": [
    "shuttle_xs = pd.DataFrame(shuttle_xs)"
   ]
  },
  {
   "cell_type": "code",
   "execution_count": 321,
   "id": "94173643",
   "metadata": {
    "scrolled": false
   },
   "outputs": [
    {
     "data": {
      "text/html": [
       "<div>\n",
       "<style scoped>\n",
       "    .dataframe tbody tr th:only-of-type {\n",
       "        vertical-align: middle;\n",
       "    }\n",
       "\n",
       "    .dataframe tbody tr th {\n",
       "        vertical-align: top;\n",
       "    }\n",
       "\n",
       "    .dataframe thead th {\n",
       "        text-align: right;\n",
       "    }\n",
       "</style>\n",
       "<table border=\"1\" class=\"dataframe\">\n",
       "  <thead>\n",
       "    <tr style=\"text-align: right;\">\n",
       "      <th></th>\n",
       "      <th>0</th>\n",
       "      <th>1</th>\n",
       "      <th>2</th>\n",
       "      <th>3</th>\n",
       "      <th>4</th>\n",
       "      <th>5</th>\n",
       "      <th>6</th>\n",
       "      <th>7</th>\n",
       "      <th>8</th>\n",
       "    </tr>\n",
       "  </thead>\n",
       "  <tbody>\n",
       "    <tr>\n",
       "      <th>0</th>\n",
       "      <td>0.238260</td>\n",
       "      <td>0.248766</td>\n",
       "      <td>-0.915031</td>\n",
       "      <td>-0.005674</td>\n",
       "      <td>-0.444413</td>\n",
       "      <td>-0.009894</td>\n",
       "      <td>-0.833005</td>\n",
       "      <td>-0.014028</td>\n",
       "      <td>0.494218</td>\n",
       "    </tr>\n",
       "    <tr>\n",
       "      <th>1</th>\n",
       "      <td>0.471269</td>\n",
       "      <td>0.000755</td>\n",
       "      <td>-0.351805</td>\n",
       "      <td>-0.005674</td>\n",
       "      <td>0.757816</td>\n",
       "      <td>-0.032796</td>\n",
       "      <td>-0.684264</td>\n",
       "      <td>-0.889010</td>\n",
       "      <td>-0.347859</td>\n",
       "    </tr>\n",
       "    <tr>\n",
       "      <th>2</th>\n",
       "      <td>-0.771447</td>\n",
       "      <td>0.000755</td>\n",
       "      <td>-1.027677</td>\n",
       "      <td>-0.005674</td>\n",
       "      <td>-0.444413</td>\n",
       "      <td>0.072553</td>\n",
       "      <td>0.133813</td>\n",
       "      <td>-0.014028</td>\n",
       "      <td>-0.095236</td>\n",
       "    </tr>\n",
       "    <tr>\n",
       "      <th>3</th>\n",
       "      <td>-0.771447</td>\n",
       "      <td>0.000755</td>\n",
       "      <td>-0.689741</td>\n",
       "      <td>-0.005674</td>\n",
       "      <td>-0.143856</td>\n",
       "      <td>-0.128983</td>\n",
       "      <td>0.356925</td>\n",
       "      <td>-0.111249</td>\n",
       "      <td>-0.347859</td>\n",
       "    </tr>\n",
       "    <tr>\n",
       "      <th>4</th>\n",
       "      <td>2.956700</td>\n",
       "      <td>0.000755</td>\n",
       "      <td>0.324066</td>\n",
       "      <td>-0.112117</td>\n",
       "      <td>-1.546457</td>\n",
       "      <td>-0.005313</td>\n",
       "      <td>-2.617900</td>\n",
       "      <td>1.687325</td>\n",
       "      <td>2.936243</td>\n",
       "    </tr>\n",
       "    <tr>\n",
       "      <th>...</th>\n",
       "      <td>...</td>\n",
       "      <td>...</td>\n",
       "      <td>...</td>\n",
       "      <td>...</td>\n",
       "      <td>...</td>\n",
       "      <td>...</td>\n",
       "      <td>...</td>\n",
       "      <td>...</td>\n",
       "      <td>...</td>\n",
       "    </tr>\n",
       "    <tr>\n",
       "      <th>49092</th>\n",
       "      <td>-0.616107</td>\n",
       "      <td>-0.022865</td>\n",
       "      <td>-0.577096</td>\n",
       "      <td>-0.112117</td>\n",
       "      <td>0.056516</td>\n",
       "      <td>-0.009894</td>\n",
       "      <td>0.208184</td>\n",
       "      <td>-0.354299</td>\n",
       "      <td>-0.432067</td>\n",
       "    </tr>\n",
       "    <tr>\n",
       "      <th>49093</th>\n",
       "      <td>-0.305428</td>\n",
       "      <td>0.000755</td>\n",
       "      <td>-0.464450</td>\n",
       "      <td>0.020937</td>\n",
       "      <td>0.256887</td>\n",
       "      <td>-0.051117</td>\n",
       "      <td>-0.089299</td>\n",
       "      <td>-0.451519</td>\n",
       "      <td>-0.347859</td>\n",
       "    </tr>\n",
       "    <tr>\n",
       "      <th>49094</th>\n",
       "      <td>0.160590</td>\n",
       "      <td>0.000755</td>\n",
       "      <td>0.211421</td>\n",
       "      <td>-0.005674</td>\n",
       "      <td>0.457259</td>\n",
       "      <td>-0.064858</td>\n",
       "      <td>-0.014928</td>\n",
       "      <td>-0.354299</td>\n",
       "      <td>-0.347859</td>\n",
       "    </tr>\n",
       "    <tr>\n",
       "      <th>49095</th>\n",
       "      <td>2.568352</td>\n",
       "      <td>0.000755</td>\n",
       "      <td>-0.126515</td>\n",
       "      <td>-0.005674</td>\n",
       "      <td>-3.650359</td>\n",
       "      <td>-0.142725</td>\n",
       "      <td>-2.543529</td>\n",
       "      <td>3.485899</td>\n",
       "      <td>4.451983</td>\n",
       "    </tr>\n",
       "    <tr>\n",
       "      <th>49096</th>\n",
       "      <td>-0.771447</td>\n",
       "      <td>0.000755</td>\n",
       "      <td>2.013745</td>\n",
       "      <td>-0.005674</td>\n",
       "      <td>-0.945342</td>\n",
       "      <td>-0.083180</td>\n",
       "      <td>2.067449</td>\n",
       "      <td>1.784545</td>\n",
       "      <td>0.410010</td>\n",
       "    </tr>\n",
       "  </tbody>\n",
       "</table>\n",
       "<p>49097 rows × 9 columns</p>\n",
       "</div>"
      ],
      "text/plain": [
       "              0         1         2         3         4         5         6  \\\n",
       "0      0.238260  0.248766 -0.915031 -0.005674 -0.444413 -0.009894 -0.833005   \n",
       "1      0.471269  0.000755 -0.351805 -0.005674  0.757816 -0.032796 -0.684264   \n",
       "2     -0.771447  0.000755 -1.027677 -0.005674 -0.444413  0.072553  0.133813   \n",
       "3     -0.771447  0.000755 -0.689741 -0.005674 -0.143856 -0.128983  0.356925   \n",
       "4      2.956700  0.000755  0.324066 -0.112117 -1.546457 -0.005313 -2.617900   \n",
       "...         ...       ...       ...       ...       ...       ...       ...   \n",
       "49092 -0.616107 -0.022865 -0.577096 -0.112117  0.056516 -0.009894  0.208184   \n",
       "49093 -0.305428  0.000755 -0.464450  0.020937  0.256887 -0.051117 -0.089299   \n",
       "49094  0.160590  0.000755  0.211421 -0.005674  0.457259 -0.064858 -0.014928   \n",
       "49095  2.568352  0.000755 -0.126515 -0.005674 -3.650359 -0.142725 -2.543529   \n",
       "49096 -0.771447  0.000755  2.013745 -0.005674 -0.945342 -0.083180  2.067449   \n",
       "\n",
       "              7         8  \n",
       "0     -0.014028  0.494218  \n",
       "1     -0.889010 -0.347859  \n",
       "2     -0.014028 -0.095236  \n",
       "3     -0.111249 -0.347859  \n",
       "4      1.687325  2.936243  \n",
       "...         ...       ...  \n",
       "49092 -0.354299 -0.432067  \n",
       "49093 -0.451519 -0.347859  \n",
       "49094 -0.354299 -0.347859  \n",
       "49095  3.485899  4.451983  \n",
       "49096  1.784545  0.410010  \n",
       "\n",
       "[49097 rows x 9 columns]"
      ]
     },
     "execution_count": 321,
     "metadata": {},
     "output_type": "execute_result"
    }
   ],
   "source": [
    "shuttle_xs"
   ]
  },
  {
   "cell_type": "code",
   "execution_count": 322,
   "id": "9892b609",
   "metadata": {},
   "outputs": [],
   "source": [
    "pca = PCA(n_components=2)\n",
    "pca.fit(shuttle_xs)\n",
    "pca_shuttle=pd.DataFrame(pca.transform(shuttle_xs))"
   ]
  },
  {
   "cell_type": "code",
   "execution_count": 328,
   "id": "209165bb",
   "metadata": {
    "scrolled": true
   },
   "outputs": [
    {
     "data": {
      "image/png": "[encoded data removed]",
      "text/plain": [
       "<Figure size 640x480 with 1 Axes>"
      ]
     },
     "metadata": {},
     "output_type": "display_data"
    }
   ],
   "source": [
    "pca_shuttle\n",
    "sns.scatterplot(data=pca_shuttle, x=0, y=1,alpha = 0.2)\n",
    "plt.show()"
   ]
  },
  {
   "cell_type": "markdown",
   "id": "a56b7de2",
   "metadata": {},
   "source": [
    "## hand write gaussian distribution method "
   ]
  },
  {
   "cell_type": "code",
   "execution_count": 599,
   "id": "71620601",
   "metadata": {},
   "outputs": [],
   "source": [
    "data = pd.read_csv('C:\\\\Users\\\\xzhao\\\\OneDrive\\\\Desktop\\\\Python_EDA\\\\Data\\\\fwddata\\\\shuttle.csv')"
   ]
  },
  {
   "cell_type": "code",
   "execution_count": 600,
   "id": "7ebba4c4",
   "metadata": {},
   "outputs": [
    {
     "data": {
      "text/html": [
       "<div>\n",
       "<style scoped>\n",
       "    .dataframe tbody tr th:only-of-type {\n",
       "        vertical-align: middle;\n",
       "    }\n",
       "\n",
       "    .dataframe tbody tr th {\n",
       "        vertical-align: top;\n",
       "    }\n",
       "\n",
       "    .dataframe thead th {\n",
       "        text-align: right;\n",
       "    }\n",
       "</style>\n",
       "<table border=\"1\" class=\"dataframe\">\n",
       "  <thead>\n",
       "    <tr style=\"text-align: right;\">\n",
       "      <th></th>\n",
       "      <th>0</th>\n",
       "      <th>1</th>\n",
       "      <th>2</th>\n",
       "      <th>3</th>\n",
       "      <th>4</th>\n",
       "      <th>5</th>\n",
       "      <th>6</th>\n",
       "      <th>7</th>\n",
       "      <th>8</th>\n",
       "      <th>9</th>\n",
       "    </tr>\n",
       "  </thead>\n",
       "  <tbody>\n",
       "    <tr>\n",
       "      <th>0</th>\n",
       "      <td>1.000000</td>\n",
       "      <td>0.072188</td>\n",
       "      <td>0.278982</td>\n",
       "      <td>-0.008960</td>\n",
       "      <td>0.011395</td>\n",
       "      <td>0.000247</td>\n",
       "      <td>-0.774810</td>\n",
       "      <td>0.116359</td>\n",
       "      <td>0.538107</td>\n",
       "      <td>0.822831</td>\n",
       "    </tr>\n",
       "    <tr>\n",
       "      <th>1</th>\n",
       "      <td>0.072188</td>\n",
       "      <td>1.000000</td>\n",
       "      <td>-0.003416</td>\n",
       "      <td>-0.000039</td>\n",
       "      <td>-0.000361</td>\n",
       "      <td>-0.001144</td>\n",
       "      <td>-0.071079</td>\n",
       "      <td>-0.001083</td>\n",
       "      <td>0.039197</td>\n",
       "      <td>0.018608</td>\n",
       "    </tr>\n",
       "    <tr>\n",
       "      <th>2</th>\n",
       "      <td>0.278982</td>\n",
       "      <td>-0.003416</td>\n",
       "      <td>1.000000</td>\n",
       "      <td>0.046122</td>\n",
       "      <td>0.173417</td>\n",
       "      <td>0.001843</td>\n",
       "      <td>0.389770</td>\n",
       "      <td>0.261808</td>\n",
       "      <td>0.005554</td>\n",
       "      <td>0.159948</td>\n",
       "    </tr>\n",
       "    <tr>\n",
       "      <th>3</th>\n",
       "      <td>-0.008960</td>\n",
       "      <td>-0.000039</td>\n",
       "      <td>0.046122</td>\n",
       "      <td>1.000000</td>\n",
       "      <td>0.013857</td>\n",
       "      <td>0.073049</td>\n",
       "      <td>0.039383</td>\n",
       "      <td>0.006423</td>\n",
       "      <td>-0.016454</td>\n",
       "      <td>-0.009145</td>\n",
       "    </tr>\n",
       "    <tr>\n",
       "      <th>4</th>\n",
       "      <td>0.011395</td>\n",
       "      <td>-0.000361</td>\n",
       "      <td>0.173417</td>\n",
       "      <td>0.013857</td>\n",
       "      <td>1.000000</td>\n",
       "      <td>0.088903</td>\n",
       "      <td>0.100673</td>\n",
       "      <td>-0.904447</td>\n",
       "      <td>-0.835857</td>\n",
       "      <td>-0.431981</td>\n",
       "    </tr>\n",
       "    <tr>\n",
       "      <th>5</th>\n",
       "      <td>0.000247</td>\n",
       "      <td>-0.001144</td>\n",
       "      <td>0.001843</td>\n",
       "      <td>0.073049</td>\n",
       "      <td>0.088903</td>\n",
       "      <td>1.000000</td>\n",
       "      <td>0.000979</td>\n",
       "      <td>-0.085652</td>\n",
       "      <td>-0.074246</td>\n",
       "      <td>-0.001416</td>\n",
       "    </tr>\n",
       "    <tr>\n",
       "      <th>6</th>\n",
       "      <td>-0.774810</td>\n",
       "      <td>-0.071079</td>\n",
       "      <td>0.389770</td>\n",
       "      <td>0.039383</td>\n",
       "      <td>0.100673</td>\n",
       "      <td>0.000979</td>\n",
       "      <td>1.000000</td>\n",
       "      <td>0.063189</td>\n",
       "      <td>-0.510327</td>\n",
       "      <td>-0.683063</td>\n",
       "    </tr>\n",
       "    <tr>\n",
       "      <th>7</th>\n",
       "      <td>0.116359</td>\n",
       "      <td>-0.001083</td>\n",
       "      <td>0.261808</td>\n",
       "      <td>0.006423</td>\n",
       "      <td>-0.904447</td>\n",
       "      <td>-0.085652</td>\n",
       "      <td>0.063189</td>\n",
       "      <td>1.000000</td>\n",
       "      <td>0.825522</td>\n",
       "      <td>0.497420</td>\n",
       "    </tr>\n",
       "    <tr>\n",
       "      <th>8</th>\n",
       "      <td>0.538107</td>\n",
       "      <td>0.039197</td>\n",
       "      <td>0.005554</td>\n",
       "      <td>-0.016454</td>\n",
       "      <td>-0.835857</td>\n",
       "      <td>-0.074246</td>\n",
       "      <td>-0.510327</td>\n",
       "      <td>0.825522</td>\n",
       "      <td>1.000000</td>\n",
       "      <td>0.814244</td>\n",
       "    </tr>\n",
       "    <tr>\n",
       "      <th>9</th>\n",
       "      <td>0.822831</td>\n",
       "      <td>0.018608</td>\n",
       "      <td>0.159948</td>\n",
       "      <td>-0.009145</td>\n",
       "      <td>-0.431981</td>\n",
       "      <td>-0.001416</td>\n",
       "      <td>-0.683063</td>\n",
       "      <td>0.497420</td>\n",
       "      <td>0.814244</td>\n",
       "      <td>1.000000</td>\n",
       "    </tr>\n",
       "  </tbody>\n",
       "</table>\n",
       "</div>"
      ],
      "text/plain": [
       "          0         1         2         3         4         5         6  \\\n",
       "0  1.000000  0.072188  0.278982 -0.008960  0.011395  0.000247 -0.774810   \n",
       "1  0.072188  1.000000 -0.003416 -0.000039 -0.000361 -0.001144 -0.071079   \n",
       "2  0.278982 -0.003416  1.000000  0.046122  0.173417  0.001843  0.389770   \n",
       "3 -0.008960 -0.000039  0.046122  1.000000  0.013857  0.073049  0.039383   \n",
       "4  0.011395 -0.000361  0.173417  0.013857  1.000000  0.088903  0.100673   \n",
       "5  0.000247 -0.001144  0.001843  0.073049  0.088903  1.000000  0.000979   \n",
       "6 -0.774810 -0.071079  0.389770  0.039383  0.100673  0.000979  1.000000   \n",
       "7  0.116359 -0.001083  0.261808  0.006423 -0.904447 -0.085652  0.063189   \n",
       "8  0.538107  0.039197  0.005554 -0.016454 -0.835857 -0.074246 -0.510327   \n",
       "9  0.822831  0.018608  0.159948 -0.009145 -0.431981 -0.001416 -0.683063   \n",
       "\n",
       "          7         8         9  \n",
       "0  0.116359  0.538107  0.822831  \n",
       "1 -0.001083  0.039197  0.018608  \n",
       "2  0.261808  0.005554  0.159948  \n",
       "3  0.006423 -0.016454 -0.009145  \n",
       "4 -0.904447 -0.835857 -0.431981  \n",
       "5 -0.085652 -0.074246 -0.001416  \n",
       "6  0.063189 -0.510327 -0.683063  \n",
       "7  1.000000  0.825522  0.497420  \n",
       "8  0.825522  1.000000  0.814244  \n",
       "9  0.497420  0.814244  1.000000  "
      ]
     },
     "execution_count": 600,
     "metadata": {},
     "output_type": "execute_result"
    }
   ],
   "source": [
    "data.corr()"
   ]
  },
  {
   "cell_type": "code",
   "execution_count": 647,
   "id": "16ed4aa5",
   "metadata": {},
   "outputs": [
    {
     "data": {
      "text/plain": [
       "y    2.320138\n",
       "a    2.135749\n",
       "b    1.968200\n",
       "c    1.862678\n",
       "dtype: float64"
      ]
     },
     "execution_count": 647,
     "metadata": {},
     "output_type": "execute_result"
    }
   ],
   "source": [
    "# (data.corr().abs().sum()-1).sort_values(ascending=False) # this is not very useful due to the non-pairing of high corr"
   ]
  },
  {
   "cell_type": "code",
   "execution_count": 605,
   "id": "b77980b6",
   "metadata": {
    "scrolled": true
   },
   "outputs": [],
   "source": [
    "# cc = 3\n",
    "\n",
    "# (s[s<cc]).sort_values(ascending=False)\n"
   ]
  },
  {
   "cell_type": "code",
   "execution_count": 608,
   "id": "6049f4c6",
   "metadata": {},
   "outputs": [],
   "source": [
    "# i = s[s<cc].index.tolist()\n",
    "# n = len(i)\n",
    "# tar = '9'\n",
    "# try:\n",
    "#     i.remove(tar)\n",
    "# except ValueError:\n",
    "#     pass\n",
    "\n",
    "# print(i,n)\n",
    "\n",
    "#those extra feature actually hurts the anomaly detection "
   ]
  },
  {
   "cell_type": "code",
   "execution_count": 606,
   "id": "6f1c8efe",
   "metadata": {},
   "outputs": [
    {
     "data": {
      "text/html": [
       "<div>\n",
       "<style scoped>\n",
       "    .dataframe tbody tr th:only-of-type {\n",
       "        vertical-align: middle;\n",
       "    }\n",
       "\n",
       "    .dataframe tbody tr th {\n",
       "        vertical-align: top;\n",
       "    }\n",
       "\n",
       "    .dataframe thead th {\n",
       "        text-align: right;\n",
       "    }\n",
       "</style>\n",
       "<table border=\"1\" class=\"dataframe\">\n",
       "  <thead>\n",
       "    <tr style=\"text-align: right;\">\n",
       "      <th></th>\n",
       "      <th>a</th>\n",
       "      <th>b</th>\n",
       "      <th>c</th>\n",
       "      <th>y</th>\n",
       "    </tr>\n",
       "  </thead>\n",
       "  <tbody>\n",
       "    <tr>\n",
       "      <th>0</th>\n",
       "      <td>50</td>\n",
       "      <td>27</td>\n",
       "      <td>22</td>\n",
       "      <td>1</td>\n",
       "    </tr>\n",
       "    <tr>\n",
       "      <th>1</th>\n",
       "      <td>53</td>\n",
       "      <td>29</td>\n",
       "      <td>2</td>\n",
       "      <td>0</td>\n",
       "    </tr>\n",
       "    <tr>\n",
       "      <th>2</th>\n",
       "      <td>37</td>\n",
       "      <td>40</td>\n",
       "      <td>8</td>\n",
       "      <td>0</td>\n",
       "    </tr>\n",
       "    <tr>\n",
       "      <th>3</th>\n",
       "      <td>37</td>\n",
       "      <td>43</td>\n",
       "      <td>2</td>\n",
       "      <td>0</td>\n",
       "    </tr>\n",
       "    <tr>\n",
       "      <th>4</th>\n",
       "      <td>85</td>\n",
       "      <td>3</td>\n",
       "      <td>80</td>\n",
       "      <td>1</td>\n",
       "    </tr>\n",
       "    <tr>\n",
       "      <th>...</th>\n",
       "      <td>...</td>\n",
       "      <td>...</td>\n",
       "      <td>...</td>\n",
       "      <td>...</td>\n",
       "    </tr>\n",
       "    <tr>\n",
       "      <th>49092</th>\n",
       "      <td>39</td>\n",
       "      <td>41</td>\n",
       "      <td>0</td>\n",
       "      <td>0</td>\n",
       "    </tr>\n",
       "    <tr>\n",
       "      <th>49093</th>\n",
       "      <td>43</td>\n",
       "      <td>37</td>\n",
       "      <td>2</td>\n",
       "      <td>0</td>\n",
       "    </tr>\n",
       "    <tr>\n",
       "      <th>49094</th>\n",
       "      <td>49</td>\n",
       "      <td>38</td>\n",
       "      <td>2</td>\n",
       "      <td>0</td>\n",
       "    </tr>\n",
       "    <tr>\n",
       "      <th>49095</th>\n",
       "      <td>80</td>\n",
       "      <td>4</td>\n",
       "      <td>116</td>\n",
       "      <td>1</td>\n",
       "    </tr>\n",
       "    <tr>\n",
       "      <th>49096</th>\n",
       "      <td>37</td>\n",
       "      <td>66</td>\n",
       "      <td>20</td>\n",
       "      <td>0</td>\n",
       "    </tr>\n",
       "  </tbody>\n",
       "</table>\n",
       "<p>49097 rows × 4 columns</p>\n",
       "</div>"
      ],
      "text/plain": [
       "        a   b    c  y\n",
       "0      50  27   22  1\n",
       "1      53  29    2  0\n",
       "2      37  40    8  0\n",
       "3      37  43    2  0\n",
       "4      85   3   80  1\n",
       "...    ..  ..  ... ..\n",
       "49092  39  41    0  0\n",
       "49093  43  37    2  0\n",
       "49094  49  38    2  0\n",
       "49095  80   4  116  1\n",
       "49096  37  66   20  0\n",
       "\n",
       "[49097 rows x 4 columns]"
      ]
     },
     "execution_count": 606,
     "metadata": {},
     "output_type": "execute_result"
    }
   ],
   "source": [
    "data = data[['0','6','8','9']] \n",
    "# data = data.columns[i]\n",
    "data.columns = ['a','b','c','y']\n",
    "\n",
    "# data = shuttle.drop(shuttle.columns[-1], axis=1)\n",
    "\n",
    "# data = data.rename(columns={data.columns[-1]: 'y'})\n",
    "data"
   ]
  },
  {
   "cell_type": "code",
   "execution_count": 609,
   "id": "7f66545f",
   "metadata": {},
   "outputs": [],
   "source": [
    "train = data.iloc[:28000]\n",
    "valid = data.iloc[28000:37000]\n",
    "test = data.iloc[37000:]"
   ]
  },
  {
   "cell_type": "code",
   "execution_count": 610,
   "id": "47caae41",
   "metadata": {},
   "outputs": [
    {
     "data": {
      "text/html": [
       "<div>\n",
       "<style scoped>\n",
       "    .dataframe tbody tr th:only-of-type {\n",
       "        vertical-align: middle;\n",
       "    }\n",
       "\n",
       "    .dataframe tbody tr th {\n",
       "        vertical-align: top;\n",
       "    }\n",
       "\n",
       "    .dataframe thead th {\n",
       "        text-align: right;\n",
       "    }\n",
       "</style>\n",
       "<table border=\"1\" class=\"dataframe\">\n",
       "  <thead>\n",
       "    <tr style=\"text-align: right;\">\n",
       "      <th></th>\n",
       "      <th>a</th>\n",
       "      <th>b</th>\n",
       "      <th>c</th>\n",
       "      <th>y</th>\n",
       "    </tr>\n",
       "  </thead>\n",
       "  <tbody>\n",
       "    <tr>\n",
       "      <th>0</th>\n",
       "      <td>50</td>\n",
       "      <td>27</td>\n",
       "      <td>22</td>\n",
       "      <td>1</td>\n",
       "    </tr>\n",
       "    <tr>\n",
       "      <th>1</th>\n",
       "      <td>53</td>\n",
       "      <td>29</td>\n",
       "      <td>2</td>\n",
       "      <td>0</td>\n",
       "    </tr>\n",
       "    <tr>\n",
       "      <th>2</th>\n",
       "      <td>37</td>\n",
       "      <td>40</td>\n",
       "      <td>8</td>\n",
       "      <td>0</td>\n",
       "    </tr>\n",
       "    <tr>\n",
       "      <th>3</th>\n",
       "      <td>37</td>\n",
       "      <td>43</td>\n",
       "      <td>2</td>\n",
       "      <td>0</td>\n",
       "    </tr>\n",
       "    <tr>\n",
       "      <th>4</th>\n",
       "      <td>85</td>\n",
       "      <td>3</td>\n",
       "      <td>80</td>\n",
       "      <td>1</td>\n",
       "    </tr>\n",
       "    <tr>\n",
       "      <th>...</th>\n",
       "      <td>...</td>\n",
       "      <td>...</td>\n",
       "      <td>...</td>\n",
       "      <td>...</td>\n",
       "    </tr>\n",
       "    <tr>\n",
       "      <th>27995</th>\n",
       "      <td>45</td>\n",
       "      <td>36</td>\n",
       "      <td>0</td>\n",
       "      <td>0</td>\n",
       "    </tr>\n",
       "    <tr>\n",
       "      <th>27996</th>\n",
       "      <td>41</td>\n",
       "      <td>46</td>\n",
       "      <td>2</td>\n",
       "      <td>0</td>\n",
       "    </tr>\n",
       "    <tr>\n",
       "      <th>27997</th>\n",
       "      <td>37</td>\n",
       "      <td>39</td>\n",
       "      <td>0</td>\n",
       "      <td>0</td>\n",
       "    </tr>\n",
       "    <tr>\n",
       "      <th>27998</th>\n",
       "      <td>48</td>\n",
       "      <td>39</td>\n",
       "      <td>0</td>\n",
       "      <td>0</td>\n",
       "    </tr>\n",
       "    <tr>\n",
       "      <th>27999</th>\n",
       "      <td>45</td>\n",
       "      <td>33</td>\n",
       "      <td>0</td>\n",
       "      <td>0</td>\n",
       "    </tr>\n",
       "  </tbody>\n",
       "</table>\n",
       "<p>28000 rows × 4 columns</p>\n",
       "</div>"
      ],
      "text/plain": [
       "        a   b   c  y\n",
       "0      50  27  22  1\n",
       "1      53  29   2  0\n",
       "2      37  40   8  0\n",
       "3      37  43   2  0\n",
       "4      85   3  80  1\n",
       "...    ..  ..  .. ..\n",
       "27995  45  36   0  0\n",
       "27996  41  46   2  0\n",
       "27997  37  39   0  0\n",
       "27998  48  39   0  0\n",
       "27999  45  33   0  0\n",
       "\n",
       "[28000 rows x 4 columns]"
      ]
     },
     "execution_count": 610,
     "metadata": {},
     "output_type": "execute_result"
    }
   ],
   "source": [
    "train"
   ]
  },
  {
   "cell_type": "code",
   "execution_count": 611,
   "id": "a3d06c1a",
   "metadata": {},
   "outputs": [],
   "source": [
    "X = train[['a','b','c']]\n",
    "# X = train.iloc[:,:5]"
   ]
  },
  {
   "cell_type": "code",
   "execution_count": 612,
   "id": "138cb848",
   "metadata": {
    "scrolled": false
   },
   "outputs": [
    {
     "data": {
      "text/html": [
       "<div>\n",
       "<style scoped>\n",
       "    .dataframe tbody tr th:only-of-type {\n",
       "        vertical-align: middle;\n",
       "    }\n",
       "\n",
       "    .dataframe tbody tr th {\n",
       "        vertical-align: top;\n",
       "    }\n",
       "\n",
       "    .dataframe thead th {\n",
       "        text-align: right;\n",
       "    }\n",
       "</style>\n",
       "<table border=\"1\" class=\"dataframe\">\n",
       "  <thead>\n",
       "    <tr style=\"text-align: right;\">\n",
       "      <th></th>\n",
       "      <th>a</th>\n",
       "      <th>b</th>\n",
       "      <th>c</th>\n",
       "    </tr>\n",
       "  </thead>\n",
       "  <tbody>\n",
       "    <tr>\n",
       "      <th>0</th>\n",
       "      <td>50</td>\n",
       "      <td>27</td>\n",
       "      <td>22</td>\n",
       "    </tr>\n",
       "    <tr>\n",
       "      <th>1</th>\n",
       "      <td>53</td>\n",
       "      <td>29</td>\n",
       "      <td>2</td>\n",
       "    </tr>\n",
       "    <tr>\n",
       "      <th>2</th>\n",
       "      <td>37</td>\n",
       "      <td>40</td>\n",
       "      <td>8</td>\n",
       "    </tr>\n",
       "    <tr>\n",
       "      <th>3</th>\n",
       "      <td>37</td>\n",
       "      <td>43</td>\n",
       "      <td>2</td>\n",
       "    </tr>\n",
       "    <tr>\n",
       "      <th>4</th>\n",
       "      <td>85</td>\n",
       "      <td>3</td>\n",
       "      <td>80</td>\n",
       "    </tr>\n",
       "  </tbody>\n",
       "</table>\n",
       "</div>"
      ],
      "text/plain": [
       "    a   b   c\n",
       "0  50  27  22\n",
       "1  53  29   2\n",
       "2  37  40   8\n",
       "3  37  43   2\n",
       "4  85   3  80"
      ]
     },
     "execution_count": 612,
     "metadata": {},
     "output_type": "execute_result"
    }
   ],
   "source": [
    "X.head()"
   ]
  },
  {
   "cell_type": "code",
   "execution_count": 353,
   "id": "52df8eb9",
   "metadata": {},
   "outputs": [],
   "source": [
    "t= train[['c']]\n",
    "t\n",
    "a = np.prod( 1/(np.sqrt(2.0 * math.pi * sigma2)) * np.exp(-1.0 * (X-mu)**2 / (2.0 * sigma2) ), axis=1)\n",
    "a.sum()\n",
    "# this means neither a or t is the whole set of possible X values\n",
    "# but swapping a, b, c returns the same value?"
   ]
  },
  {
   "cell_type": "code",
   "execution_count": 613,
   "id": "c31fcfa1",
   "metadata": {},
   "outputs": [],
   "source": [
    "# set initial\n",
    "mu = None\n",
    "sigma2 = None\n",
    "best_epsilon = None\n",
    "best_f1_score = None"
   ]
  },
  {
   "cell_type": "code",
   "execution_count": 614,
   "id": "5924b2ea",
   "metadata": {},
   "outputs": [],
   "source": [
    "X = np.array(X)"
   ]
  },
  {
   "cell_type": "code",
   "execution_count": 615,
   "id": "ecdeaa42",
   "metadata": {
    "scrolled": true
   },
   "outputs": [
    {
     "data": {
      "text/plain": [
       "array([[50, 27, 22],\n",
       "       [53, 29,  2],\n",
       "       [37, 40,  8],\n",
       "       ...,\n",
       "       [37, 39,  0],\n",
       "       [48, 39,  0],\n",
       "       [45, 33,  0]], dtype=int64)"
      ]
     },
     "execution_count": 615,
     "metadata": {},
     "output_type": "execute_result"
    }
   ],
   "source": [
    "X"
   ]
  },
  {
   "cell_type": "code",
   "execution_count": 616,
   "id": "d75a42a6",
   "metadata": {},
   "outputs": [],
   "source": [
    "# calculate mu and sigma2\n",
    "def gau_para(X):\n",
    "    mu = np.mean(X,axis=0)\n",
    "    sigma2 = np.var(X,axis=0)\n",
    "    return mu, sigma2"
   ]
  },
  {
   "cell_type": "code",
   "execution_count": 617,
   "id": "dd2d0489",
   "metadata": {
    "scrolled": false
   },
   "outputs": [],
   "source": [
    "mu, sigma2 = gau_para(X)"
   ]
  },
  {
   "cell_type": "code",
   "execution_count": 618,
   "id": "b9116230",
   "metadata": {},
   "outputs": [],
   "source": [
    "import math"
   ]
  },
  {
   "cell_type": "code",
   "execution_count": 619,
   "id": "ec39c0d7",
   "metadata": {},
   "outputs": [],
   "source": [
    "# fit gaussian formula\n",
    "def fit_gau(X,mu,sigma2):\n",
    "    p = np.prod( 1/(np.sqrt(2.0 * math.pi * sigma2)) * np.exp(-1.0 * (X-mu)**2 / (2.0 * sigma2) ), axis=1)\n",
    "    return p"
   ]
  },
  {
   "cell_type": "code",
   "execution_count": 620,
   "id": "a7c4d18d",
   "metadata": {
    "scrolled": true
   },
   "outputs": [],
   "source": [
    "p = fit_gau(X,mu,sigma2)"
   ]
  },
  {
   "cell_type": "code",
   "execution_count": 621,
   "id": "946ccfee",
   "metadata": {},
   "outputs": [
    {
     "data": {
      "text/plain": [
       "array([9.30508212e-06, 1.01980896e-05, 1.12334751e-05, ...,\n",
       "       1.03599800e-05, 1.38492646e-05, 1.27812113e-05])"
      ]
     },
     "execution_count": 621,
     "metadata": {},
     "output_type": "execute_result"
    }
   ],
   "source": [
    "p"
   ]
  },
  {
   "cell_type": "code",
   "execution_count": 622,
   "id": "b6f1d4cf",
   "metadata": {},
   "outputs": [
    {
     "data": {
      "text/plain": [
       "1.3171558250214935e-59"
      ]
     },
     "execution_count": 622,
     "metadata": {},
     "output_type": "execute_result"
    }
   ],
   "source": [
    "min(p)"
   ]
  },
  {
   "cell_type": "code",
   "execution_count": 629,
   "id": "7a089a2b",
   "metadata": {},
   "outputs": [],
   "source": [
    "outp = np.argmin(p)"
   ]
  },
  {
   "cell_type": "code",
   "execution_count": 630,
   "id": "17d72a58",
   "metadata": {
    "scrolled": true
   },
   "outputs": [
    {
     "data": {
      "text/plain": [
       "a     79\n",
       "b      4\n",
       "c   -356\n",
       "y      1\n",
       "Name: 2654, dtype: int64"
      ]
     },
     "execution_count": 630,
     "metadata": {},
     "output_type": "execute_result"
    }
   ],
   "source": [
    "data.iloc[outp]"
   ]
  },
  {
   "cell_type": "code",
   "execution_count": 594,
   "id": "dcf78c56",
   "metadata": {},
   "outputs": [
    {
     "data": {
      "text/plain": [
       "1.4369726763892543e-15"
      ]
     },
     "execution_count": 594,
     "metadata": {},
     "output_type": "execute_result"
    }
   ],
   "source": [
    "max(p)"
   ]
  },
  {
   "cell_type": "code",
   "execution_count": 631,
   "id": "76c2ff38",
   "metadata": {
    "scrolled": true
   },
   "outputs": [],
   "source": [
    "inp = np.argmax(p)"
   ]
  },
  {
   "cell_type": "code",
   "execution_count": 633,
   "id": "2071c033",
   "metadata": {
    "scrolled": true
   },
   "outputs": [
    {
     "data": {
      "text/plain": [
       "a    46\n",
       "b    38\n",
       "c     2\n",
       "y     0\n",
       "Name: 2041, dtype: int64"
      ]
     },
     "execution_count": 633,
     "metadata": {},
     "output_type": "execute_result"
    }
   ],
   "source": [
    "data.iloc[inp]"
   ]
  },
  {
   "cell_type": "code",
   "execution_count": 634,
   "id": "93b7415a",
   "metadata": {},
   "outputs": [],
   "source": [
    "# find proper epsilon as outlier threshold\n",
    "y = train['y'].tolist()"
   ]
  },
  {
   "cell_type": "code",
   "execution_count": 635,
   "id": "7675d1bf",
   "metadata": {},
   "outputs": [],
   "source": [
    "# find proper epsilon as outlier threshold\n",
    "# define f1 score\n",
    "\n",
    "# epsilon = min(p)\n",
    "def f1(p,y,epsilon):\n",
    "    y_hat = (p < epsilon).astype(int) #true = 1, false = 0\n",
    "    tp, fp, fn, tn = 0,0,0,0\n",
    "\n",
    "    for i in range (0,len(y)):\n",
    "        if y_hat[i] == 1 and y[i] ==1 :\n",
    "            tp = tp+1\n",
    "        elif y_hat[i] == 1 and y[i] ==0 :\n",
    "            fp = fp+1   \n",
    "        elif y_hat[i] == 0 and y[i] ==1 :\n",
    "            fn = fn+1        \n",
    "        else:\n",
    "            tn = tn+1\n",
    "\n",
    "    if tp == 0 or (tp+fp)==0 or (tp+fn)==0:\n",
    "        return 0, 0 , 0\n",
    "    \n",
    "    precision = tp/(tp+fp)\n",
    "    recall = tp/(tp+fn)\n",
    "    f1 = 2*precision*recall/(precision+recall)\n",
    "    return f1, precision, recall"
   ]
  },
  {
   "cell_type": "code",
   "execution_count": 636,
   "id": "03dcf64d",
   "metadata": {},
   "outputs": [],
   "source": [
    "def find_best_epsilon(p,y):\n",
    "    step = (max(p) - min(p))/200\n",
    "    best_f1_score = 0\n",
    "#     best_espilon = 0\n",
    "    for epsilon in np.arange(min(p),max(p)+step,step):\n",
    "        f1s, prec, rec = f1(p,y,epsilon)\n",
    "        if f1s > best_f1_score:\n",
    "            best_epsilon = epsilon\n",
    "            best_f1_score = f1s\n",
    "    return best_epsilon, best_f1_score"
   ]
  },
  {
   "cell_type": "code",
   "execution_count": 637,
   "id": "e5684c9b",
   "metadata": {},
   "outputs": [
    {
     "name": "stdout",
     "output_type": "stream",
     "text": [
      "None\n"
     ]
    }
   ],
   "source": [
    "print(best_epsilon)"
   ]
  },
  {
   "cell_type": "code",
   "execution_count": 638,
   "id": "e1f0e93c",
   "metadata": {},
   "outputs": [],
   "source": [
    "best_epsilon, best_f1_score = find_best_epsilon(p, y)"
   ]
  },
  {
   "cell_type": "code",
   "execution_count": 639,
   "id": "0689b790",
   "metadata": {},
   "outputs": [
    {
     "data": {
      "text/plain": [
       "3.586405420909157e-07"
      ]
     },
     "execution_count": 639,
     "metadata": {},
     "output_type": "execute_result"
    }
   ],
   "source": [
    "best_epsilon"
   ]
  },
  {
   "cell_type": "code",
   "execution_count": 640,
   "id": "0e2c70fd",
   "metadata": {
    "scrolled": true
   },
   "outputs": [
    {
     "name": "stdout",
     "output_type": "stream",
     "text": [
      "f1, prec, rec (0.9697123950114532, 0.9958180867746994, 0.9449404761904762)\n"
     ]
    }
   ],
   "source": [
    "print('f1, prec, rec', f1(p,y,best_epsilon))  #so by including more feature, i get worse results"
   ]
  },
  {
   "cell_type": "code",
   "execution_count": 643,
   "id": "0eda8272",
   "metadata": {},
   "outputs": [],
   "source": [
    "X_valid = np.array(valid[['a','b','c']])\n",
    "y_valid = valid['y'].tolist()\n",
    "p_valid = fit_gau(X_valid,mu,sigma2) \n",
    "## this assumes that X_valid and X has same mu and sigma2, \n",
    "#accross 3 datasets, the only parameter carried away is mu and sigma2 from X_train"
   ]
  },
  {
   "cell_type": "code",
   "execution_count": 644,
   "id": "b72f82d9",
   "metadata": {
    "scrolled": false
   },
   "outputs": [
    {
     "name": "stdout",
     "output_type": "stream",
     "text": [
      "f1, prec, rec (0.9762282091917592, 1.0, 0.9535603715170279)\n"
     ]
    }
   ],
   "source": [
    "print('f1, prec, rec', f1(p_valid,y_valid,best_epsilon))"
   ]
  },
  {
   "cell_type": "code",
   "execution_count": 645,
   "id": "fade1718",
   "metadata": {},
   "outputs": [],
   "source": [
    "X_test = np.array(test[['a','b','c']])\n",
    "y_test = test['y'].tolist()\n",
    "p_test = fit_gau(X_test,mu,sigma2) "
   ]
  },
  {
   "cell_type": "code",
   "execution_count": 646,
   "id": "11345869",
   "metadata": {
    "scrolled": true
   },
   "outputs": [
    {
     "name": "stdout",
     "output_type": "stream",
     "text": [
      "f1, prec, rec (0.9740494870247435, 0.9987623762376238, 0.950530035335689)\n"
     ]
    }
   ],
   "source": [
    "print('f1, prec, rec', f1(p_test,y_test,best_epsilon))"
   ]
  },
  {
   "cell_type": "code",
   "execution_count": null,
   "id": "a515448a",
   "metadata": {},
   "outputs": [],
   "source": [
    "#what should i do if including more features lowers metrics, meaning the data is fuzzy or i need better feature selection criteria"
   ]
  }
 ],
 "metadata": {
  "kernelspec": {
   "display_name": "Python 3 (ipykernel)",
   "language": "python",
   "name": "python3"
  },
  "language_info": {
   "codemirror_mode": {
    "name": "ipython",
    "version": 3
   },
   "file_extension": ".py",
   "mimetype": "text/x-python",
   "name": "python",
   "nbconvert_exporter": "python",
   "pygments_lexer": "ipython3",
   "version": "3.9.13"
  }
 },
 "nbformat": 4,
 "nbformat_minor": 5
}
